{
 "cells": [
  {
   "cell_type": "markdown",
   "metadata": {},
   "source": [
    "# U-K formulation modal synthesis\n",
    "## Usage example\n",
    "### Author: piptouque\n",
    "\n",
    "\n",
    "### Imports\n"
   ]
  },
  {
   "cell_type": "code",
   "execution_count": null,
   "metadata": {},
   "outputs": [],
   "source": [
    "%load_ext autoreload\n",
    "%autoreload 2\n",
    "\n",
    "import pathlib\n",
    "import numpy as np\n",
    "import pandas as pd\n",
    "import matplotlib.pyplot as plt\n",
    "import scipy.io.wavfile as wav\n",
    "import IPython.display as ipd\n",
    "\n",
    "from uk.data import GuitarBodyData, GuitarStringData\n",
    "from uk.structure import GuitarString, GuitarBody, ForceRamp, ForceNull, ModalSimulation\n",
    "from util.util import load_data_json, load_data_csv"
   ]
  },
  {
   "cell_type": "markdown",
   "metadata": {},
   "source": [
    "### Load config"
   ]
  },
  {
   "cell_type": "code",
   "execution_count": null,
   "metadata": {},
   "outputs": [],
   "source": [
    "config_path = pathlib.Path('./config/uk')\n",
    "string_config_path = config_path / 'guitar_string_config.json'\n",
    "body_config_path = config_path / 'guitar_body_data.csv'\n",
    "guitar_excitation_config_path = config_path / 'guitar_excitation_config.json'\n",
    "simulation_config_path = config_path / 'simulation_config.json'\n",
    "log_config_path = config_path / 'log_config.json'\n",
    "#\n",
    "output_path = pathlib.Path('../out/uk')\n",
    "output_spreadsheet_path = output_path / 'spreadsheets'\n",
    "output_figure_path = output_path / 'figures'\n",
    "output_audio_path = output_path / 'sounds'\n",
    "\n",
    "\n",
    "string = GuitarString(load_data_json(string_config_path, cls=GuitarStringData))\n",
    "body = GuitarBody(load_data_csv(body_config_path, cls=GuitarBodyData))\n",
    "ext_force_string = load_data_json(guitar_excitation_config_path, cls=ForceRamp, l=string.data.l)\n",
    "sim = load_data_json(simulation_config_path, cls=ModalSimulation)\n",
    "log = load_data_json(log_config_path)\n",
    "\n",
    "if log.do_save:\n",
    "    output_spreadsheet_path.mkdir(parents=True, exist_ok=True)\n",
    "    output_figure_path.mkdir(parents=True, exist_ok=True)\n",
    "    output_audio_path.mkdir(parents=True, exist_ok=True)\n",
    "\n",
    "if log.do_log:\n",
    "    print(f\"String data: \\n {string.data._param_dict}\")\n",
    "    print(f\"Body data: \\n {body.data._param_dict}\")\n",
    "    print(f\"Simulation config \\n {sim._param_dict}\")"
   ]
  },
  {
   "cell_type": "markdown",
   "metadata": {},
   "source": [
    "### Solve system"
   ]
  },
  {
   "cell_type": "code",
   "execution_count": null,
   "metadata": {},
   "outputs": [],
   "source": [
    "# There is no external force applied to the body.\n",
    "ext_force_body = ForceNull()\n",
    "\n",
    "# The string and body are initially at rest.\n",
    "q_n_is = [np.zeros(sim.n.shape, dtype=float) for i in range(2)]\n",
    "dq_n_is = [np.zeros(sim.n.shape, dtype=float) for i in range(2)]\n",
    "\n",
    "# Run the simulation / solve the system.\n",
    "t, q_ns, dq_ns, ddq_ns, ext_force_n_ts = sim.run(\n",
    "    [string, body], [ext_force_string, ext_force_body],\n",
    "    q_n_is, dq_n_is)\n",
    "\n",
    "y_ns = [struct.y_n(q_ns[i], sim.n)\n",
    "        for (i, struct) in enumerate([string, body])]\n",
    "\n",
    "# compute data frames from the result.\n",
    "df_q_n = pd.DataFrame(q_ns[0], index=sim.n, columns=t)\n",
    "df_dq_n = pd.DataFrame(dq_ns[0], index=sim.n, columns=t)\n",
    "df_ddq_n = pd.DataFrame(ddq_ns[0], index=sim.n, columns=t)\n",
    "df_ext_force_n_t = pd.DataFrame(ext_force_n_ts[0], index=sim.n, columns=t)\n"
   ]
  },
  {
   "cell_type": "markdown",
   "metadata": {},
   "source": [
    "### Save and plot output"
   ]
  },
  {
   "cell_type": "code",
   "execution_count": null,
   "metadata": {},
   "outputs": [],
   "source": [
    "# save the result as required.\n",
    "x = np.linspace(0, string.data.l, log.plot.nb_points)\n",
    "xx = np.outer(x, np.ones_like(t))\n",
    "tt = np.outer(np.ones_like(x), t)\n",
    "\n",
    "y_n = y_ns[0]\n",
    "ext_force_n_t = ext_force_n_ts[0]\n",
    "\n",
    "# Get the total displacement from the sum of the modal displacements.\n",
    "y = np.empty_like(t)\n",
    "for j in range(len(y_n)):\n",
    "    y += y_n[j](log.audio.x_s_rel * string.data.l)\n",
    "\n",
    "\n",
    "if log.do_log or log.do_save:\n",
    "    # EXCITATION FORCE ext_force\n",
    "    fig = plt.figure(figsize=(8, 6))\n",
    "    ax = fig.add_subplot(1, 1, 1, projection='3d')\n",
    "    f_x = ext_force_string(xx, tt)\n",
    "    surf = ax.plot_surface(xx, tt, f_x, cmap='coolwarm')\n",
    "    ax.set_title(f'Excitation force applied to the string')\n",
    "    ax.set_xlabel('$x$ (m)')\n",
    "    ax.set_ylabel('$t$ (s)')\n",
    "    ax.set_zlabel('$F_{ext}(x, t)$ (N)')\n",
    "    fig.colorbar(surf, ax=ax)\n",
    "    if log.do_save:\n",
    "        fig.savefig(output_figure_path / 'ext_force.svg',\n",
    "                    facecolor='none', transparent=True)\n",
    "    if log.do_log:\n",
    "        plt.show()\n",
    "    plt.close(fig)\n",
    "\n",
    "    # MODAL DISPLACEMENTS of the String y_n\n",
    "    fig = plt.figure(figsize=(8 * (len(y_n)+1)//2, 2*6))\n",
    "    fig.subplots_adjust(hspace=0.1, wspace=0.4)\n",
    "    fig.suptitle(\"Modal displacements of the string (unconstrained)\")\n",
    "    axes = []\n",
    "    surfs = []\n",
    "    for (j, y_j) in enumerate(y_n):\n",
    "        ax = fig.add_subplot(2, len(y_n)//2+1, j+1, projection='3d')\n",
    "        axes.append(ax)\n",
    "        y_x = y_j(xx)\n",
    "        #\n",
    "        surf = ax.plot_surface(xx, tt, y_x, cmap='coolwarm')\n",
    "        surfs.append(surf)\n",
    "        #\n",
    "        ax.set_title(f'$n={j}$')\n",
    "        ax.set_xlabel('$x$ (m)')\n",
    "        ax.set_ylabel('$t$ (s)')\n",
    "        ax.set_zlabel(f'$y_{j}^S(x, t)$ (m)')\n",
    "    # add heat map\n",
    "    fig.colorbar(surfs[0], ax=axes)\n",
    "    if log.do_save:\n",
    "        fig.savefig(output_figure_path / 'y_n.svg',\n",
    "                    facecolor='none', transparent=True)\n",
    "        wav.write(output_audio_path / 'y.wav', log.audio.sr, y)\n",
    "    if log.do_log:\n",
    "        plt.show()\n",
    "\n",
    "    plt.close(fig)\n",
    "\n",
    "    # MODAL Excitation ext_force_n_t\n",
    "    fig = plt.figure(figsize=(8 * (ext_force_n_t.shape[0]+1)//2, 2*6))\n",
    "    fig.subplots_adjust(hspace=0.3, wspace=0.4)\n",
    "    fig.suptitle(\"Modal excitation force to the string\")\n",
    "    for (j, ext_force_j) in enumerate(ext_force_n_t):\n",
    "        ax = fig.add_subplot(2, len(ext_force_n_t) //\n",
    "                                2+1, j+1)\n",
    "        #\n",
    "        ax.plot(t, ext_force_j)\n",
    "        #\n",
    "        ax.set_title(f'$n={j}$')\n",
    "        ax.set_xlabel('$t$ (s)')\n",
    "        ax.set_ylabel(f'$F_{j}^S(t)$ (N)')\n",
    "    if log.do_save:\n",
    "        fig.savefig(output_figure_path / 'ext_force_n.svg',\n",
    "                    facecolor='none', transparent=True)\n",
    "    if log.do_log:\n",
    "        plt.show()\n",
    "    plt.close(fig)\n"
   ]
  },
  {
   "cell_type": "code",
   "execution_count": null,
   "metadata": {},
   "outputs": [],
   "source": [
    "if log.do_log:\n",
    "    # need to explicly call display inside any contest in order to render sound.\n",
    "    # see: https://stackoverflow.com/a/64139240\n",
    "    ipd.display(ipd.Audio(y / np.max(y), rate=log.audio.sr))"
   ]
  },
  {
   "cell_type": "code",
   "execution_count": null,
   "metadata": {},
   "outputs": [],
   "source": []
  },
  {
   "cell_type": "code",
   "execution_count": null,
   "metadata": {},
   "outputs": [],
   "source": []
  }
 ],
 "metadata": {
  "interpreter": {
   "hash": "0461300f92e1eaf1d8a30c9683b3b8af868ee97220c7c382c772e83c32d3f390"
  },
  "kernelspec": {
   "display_name": "Python 3.9.9 64-bit ('env_pam_hr': conda)",
   "language": "python",
   "name": "python3"
  },
  "language_info": {
   "codemirror_mode": {
    "name": "ipython",
    "version": 3
   },
   "file_extension": ".py",
   "mimetype": "text/x-python",
   "name": "python",
   "nbconvert_exporter": "python",
   "pygments_lexer": "ipython3",
   "version": "3.9.9"
  }
 },
 "nbformat": 4,
 "nbformat_minor": 2
}
