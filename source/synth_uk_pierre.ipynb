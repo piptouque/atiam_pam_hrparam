{
 "cells": [
  {
   "cell_type": "markdown",
   "metadata": {},
   "source": [
    "# U-K formulation modal synthesis\n",
    "## Usage example\n",
    "### Author: piptouque\n",
    "\n",
    "\n",
    "### Imports\n"
   ]
  },
  {
   "cell_type": "code",
   "execution_count": 1,
   "metadata": {},
   "outputs": [
    {
     "ename": "ImportError",
     "evalue": "cannot import name 'load_data_json' from 'util' (c:\\Users\\zliu7\\Documents\\M2 ATIAM\\PAM\\project codes\\atiam_pam_hrparam\\source\\util\\__init__.py)",
     "output_type": "error",
     "traceback": [
      "\u001b[1;31m---------------------------------------------------------------------------\u001b[0m",
      "\u001b[1;31mImportError\u001b[0m                               Traceback (most recent call last)",
      "Input \u001b[1;32mIn [1]\u001b[0m, in \u001b[0;36m<module>\u001b[1;34m\u001b[0m\n\u001b[0;32m      9\u001b[0m \u001b[38;5;28;01mfrom\u001b[39;00m \u001b[38;5;21;01muk\u001b[39;00m\u001b[38;5;21;01m.\u001b[39;00m\u001b[38;5;21;01mdata\u001b[39;00m \u001b[38;5;28;01mimport\u001b[39;00m GuitarBodyData, GuitarStringData, Excitation\n\u001b[0;32m     10\u001b[0m \u001b[38;5;28;01mfrom\u001b[39;00m \u001b[38;5;21;01muk\u001b[39;00m\u001b[38;5;21;01m.\u001b[39;00m\u001b[38;5;21;01mstructure\u001b[39;00m \u001b[38;5;28;01mimport\u001b[39;00m GuitarString, GuitarBody, ModalSimulation\n\u001b[1;32m---> 11\u001b[0m \u001b[38;5;28;01mfrom\u001b[39;00m \u001b[38;5;21;01mutil\u001b[39;00m \u001b[38;5;28;01mimport\u001b[39;00m load_data_json, load_data_csv, make_modetime_dataframe\n",
      "\u001b[1;31mImportError\u001b[0m: cannot import name 'load_data_json' from 'util' (c:\\Users\\zliu7\\Documents\\M2 ATIAM\\PAM\\project codes\\atiam_pam_hrparam\\source\\util\\__init__.py)"
     ]
    }
   ],
   "source": [
    "%load_ext autoreload\n",
    "%autoreload 2\n",
    "\n",
    "import pathlib\n",
    "import numpy as np\n",
    "import pandas as pd\n",
    "import matplotlib.pyplot as plt\n",
    "\n",
    "from uk.data import GuitarBodyData, GuitarStringData, Excitation\n",
    "from uk.structure import GuitarString, GuitarBody, ModalSimulation\n",
    "from util import load_data_json, load_data_csv, make_modetime_dataframe"
   ]
  },
  {
   "cell_type": "markdown",
   "metadata": {},
   "source": [
    "### Load config"
   ]
  },
  {
   "cell_type": "code",
   "execution_count": null,
   "metadata": {},
   "outputs": [],
   "source": [
    "string_data_path = pathlib.Path('./data/guitar_string_config.json')\n",
    "body_data_path = pathlib.Path('./data/guitar_body_data.csv')\n",
    "guitar_excitation_config = pathlib.Path('./data/guitar_excitation_config.json')\n",
    "simulation_config = pathlib.Path('./data/simulation_config.json')\n",
    "output_path = pathlib.Path('../out/uk')\n",
    "\n",
    "\n",
    "string_data = load_data_json(GuitarStringData, string_data_path)\n",
    "body_data = load_data_csv(GuitarBodyData, body_data_path)\n",
    "f_ext_string = load_data_json(\n",
    "    Excitation.make_triangular, guitar_excitation_config, l=string_data.l)\n",
    "simulation = load_data_json(ModalSimulation, simulation_config)\n",
    "\n",
    "print(f\"String data: \\n {string_data._param_dict}\")\n",
    "print(f\"Body data: \\n {body_data._param_dict}\")\n",
    "print(f\"Simulation config \\n {simulation._param_dict}\")\n",
    "\n",
    "x = np.linspace(0, string_data.l, 100)\n",
    "f_x = [f_ext_string(u, 0) for u in x]\n",
    "\n",
    "plt.plot(x, f_x)\n",
    "plt.title(\"External force applied on the string\")\n",
    "plt.show()"
   ]
  },
  {
   "cell_type": "markdown",
   "metadata": {},
   "source": [
    "### Solve system"
   ]
  },
  {
   "cell_type": "code",
   "execution_count": null,
   "metadata": {},
   "outputs": [],
   "source": [
    "s = GuitarString(string_data)\n",
    "b = GuitarBody(body_data)\n",
    "\n",
    "# There is no external force applied to the body.\n",
    "f_ext_body = Excitation.make_null()\n",
    "\n",
    "# The string and body are initially at rest.\n",
    "q_n_is = [np.zeros(n.shape, dtype=float) for i in range(2)]\n",
    "dq_n_is = [np.zeros(n.shape, dtype=float) for i in range(2)]\n",
    "\n",
    "# Run the simulation / solve the system.\n",
    "t, q_ns, dq_ns, ddq_ns, ext_force_n_ts = simulation.run(\n",
    "    [s, b], [f_ext_string, f_ext_body],\n",
    "    q_n_is, dq_n_is)\n",
    "\n",
    "# compute data frames from the result.\n",
    "df_q_n = make_modetime_dataframe(q_ns[0], n, t)\n",
    "df_dq_n = make_modetime_dataframe(dq_ns[0], n, t)\n",
    "df_ddq_n = make_modetime_dataframe(ddq_ns[0], n, t)\n",
    "df_ext_force_n_t = make_modetime_dataframe(ext_force_n_ts[0], n, t)"
   ]
  },
  {
   "cell_type": "markdown",
   "metadata": {},
   "source": [
    "### Save output"
   ]
  },
  {
   "cell_type": "code",
   "execution_count": null,
   "metadata": {},
   "outputs": [],
   "source": [
    "output_path.mkdir(parents=True, exist_ok=True)\n",
    "df_q_n.to_csv(output_path / 'q_n.csv')\n",
    "df_ddq_n.to_csv(output_path / 'dq_n.csv')\n",
    "df_ddq_n.to_csv(output_path / 'ddq_n.csv')\n",
    "df_ext_force_n_t.to_csv(output_path / 'ext_force_n_t.csv')"
   ]
  },
  {
   "cell_type": "markdown",
   "metadata": {},
   "source": [
    "### Plot output?"
   ]
  },
  {
   "cell_type": "markdown",
   "metadata": {},
   "source": []
  }
 ],
 "metadata": {
  "interpreter": {
   "hash": "0461300f92e1eaf1d8a30c9683b3b8af868ee97220c7c382c772e83c32d3f390"
  },
  "kernelspec": {
   "display_name": "Python 3.9.9 64-bit ('env_pam_hr': conda)",
   "language": "python",
   "name": "python3"
  },
  "language_info": {
   "codemirror_mode": {
    "name": "ipython",
    "version": 3
   },
   "file_extension": ".py",
   "mimetype": "text/x-python",
   "name": "python",
   "nbconvert_exporter": "python",
   "pygments_lexer": "ipython3",
   "version": "3.9.9"
  },
  "orig_nbformat": 4
 },
 "nbformat": 4,
 "nbformat_minor": 2
}
