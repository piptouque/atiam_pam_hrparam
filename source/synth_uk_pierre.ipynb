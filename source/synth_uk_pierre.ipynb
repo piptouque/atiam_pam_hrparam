{
 "cells": [
  {
   "cell_type": "markdown",
   "metadata": {},
   "source": [
    "# U-K formulation modal synthesis\n",
    "## Usage example\n",
    "### Author: piptouque\n",
    "\n",
    "\n",
    "### Imports\n"
   ]
  },
  {
   "cell_type": "code",
   "execution_count": 6,
   "metadata": {},
   "outputs": [
    {
     "name": "stdout",
     "output_type": "stream",
     "text": [
      "The autoreload extension is already loaded. To reload it, use:\n",
      "  %reload_ext autoreload\n"
     ]
    }
   ],
   "source": [
    "%load_ext autoreload\n",
    "%autoreload 2\n",
    "\n",
    "import pathlib\n",
    "import numpy as np\n",
    "import pandas as pd\n",
    "import matplotlib.pyplot as plt\n",
    "\n",
    "from uk.data import GuitarBodyData, GuitarStringData\n",
    "from uk.structure import GuitarString, GuitarBody, ForceRamp, ForceNull, ModalSimulation\n",
    "from util.util import load_data_json, load_data_csv"
   ]
  },
  {
   "cell_type": "markdown",
   "metadata": {},
   "source": [
    "### Load config"
   ]
  },
  {
   "cell_type": "code",
   "execution_count": 7,
   "metadata": {},
   "outputs": [],
   "source": [
    "config_path = pathlib.Path('./config/uk')\n",
    "string_config_path = config_path / 'guitar_string_config.json'\n",
    "body_config_path = config_path / 'guitar_body_data.csv'\n",
    "guitar_excitation_config_path = config_path / 'guitar_excitation_config.json'\n",
    "simulation_config_path = config_path / 'simulation_config.json'\n",
    "log_config_path = config_path / 'log_config.json'\n",
    "#\n",
    "output_path = pathlib.Path('../out/uk')\n",
    "output_spreadsheet_path = output_path / 'spreadsheets'\n",
    "output_figure_path = output_path / 'figures'\n",
    "\n",
    "\n",
    "string = GuitarString(load_data_json(string_config_path, cls=GuitarStringData))\n",
    "body = GuitarBody(load_data_csv(body_config_path, cls=GuitarBodyData))\n",
    "ext_force_string = load_data_json(guitar_excitation_config_path, cls=ForceRamp, l=string.data.l)\n",
    "sim = load_data_json(simulation_config_path, cls=ModalSimulation)\n",
    "log = load_data_json(log_config_path)\n",
    "\n",
    "if log.do_save:\n",
    "    output_spreadsheet_path.mkdir(parents=True, exist_ok=True)\n",
    "    output_figure_path.mkdir(parents=True, exist_ok=True)\n",
    "\n",
    "if log.do_log:\n",
    "    print(f\"String data: \\n {string.data._param_dict}\")\n",
    "    print(f\"Body data: \\n {body.data._param_dict}\")\n",
    "    print(f\"Simulation config \\n {sim._param_dict}\")"
   ]
  },
  {
   "cell_type": "markdown",
   "metadata": {},
   "source": [
    "### Solve system"
   ]
  },
  {
   "cell_type": "code",
   "execution_count": 9,
   "metadata": {},
   "outputs": [],
   "source": [
    "# There is no external force applied to the body.\n",
    "ext_force_body = ForceNull()\n",
    "\n",
    "# The string and body are initially at rest.\n",
    "q_n_is = [np.zeros(sim.n.shape, dtype=float) for i in range(2)]\n",
    "dq_n_is = [np.zeros(sim.n.shape, dtype=float) for i in range(2)]\n",
    "\n",
    "# Run the simulation / solve the system.\n",
    "t, q_ns, dq_ns, ddq_ns, ext_force_n_ts = sim.run(\n",
    "    [string, body], [ext_force_string, ext_force_body],\n",
    "    q_n_is, dq_n_is)\n",
    "\n",
    "y_ns = [struct.y_n(q_ns[i], sim.n)\n",
    "        for (i, struct) in enumerate([string, body])]\n",
    "y_n = y_ns[0]\n",
    "\n",
    "# compute data frames from the result.\n",
    "df_q_n = pd.DataFrame(q_ns[0], index=sim.n, columns=t)\n",
    "df_dq_n = pd.DataFrame(dq_ns[0], index=sim.n, columns=t)\n",
    "df_ddq_n = pd.DataFrame(ddq_ns[0], index=sim.n, columns=t)\n",
    "df_ext_force_n_t = pd.DataFrame(ext_force_n_ts[0], index=sim.n, columns=t)\n"
   ]
  },
  {
   "cell_type": "markdown",
   "metadata": {},
   "source": [
    "### Save and plot output"
   ]
  },
  {
   "cell_type": "code",
   "execution_count": 10,
   "metadata": {},
   "outputs": [],
   "source": [
    "x = np.linspace(0, string.data.l, log.nb_points)\n",
    "xx = np.outer(x, np.ones_like(t))\n",
    "tt = np.outer(np.ones_like(x), t)\n",
    "\n",
    "if log.do_save:\n",
    "    df_q_n.to_csv(output_spreadsheet_path / 'q_n.csv')\n",
    "    df_ddq_n.to_csv(output_spreadsheet_path / 'dq_n.csv')\n",
    "    df_ddq_n.to_csv(output_spreadsheet_path / 'ddq_n.csv')\n",
    "    df_ext_force_n_t.to_csv(output_spreadsheet_path / 'ext_force_n_t.csv')\n",
    "\n",
    "if log.do_log or log.do_save:\n",
    "    # EXCITATION FORCE ext_force\n",
    "    # TODO\n",
    "    f_x = ext_force_string(xx, tt)\n",
    "    fig = plt.figure(figsize=(6, 8))\n",
    "    ax = fig.add_subplot(1, 1, 1, projection='3d')\n",
    "    ax.set_title(f'External force')\n",
    "    ax.plot_surface(xx, tt, f_x)\n",
    "    ax.set_xlabel('$x$ (m)')\n",
    "    ax.set_ylabel('$t$ (s)')\n",
    "    ax.set_zlabel('$F_{ext}(x, t)$ (N)')\n",
    "    if log.do_log:\n",
    "        plt.show()\n",
    "    if log.do_save:\n",
    "        fig.savefig(output_figure_path / 'ext_force.svg', facecolor='none', transparent=True)\n",
    "    plt.close(fig)\n",
    "    # MODAL DISPLACEMENTS y_n\n",
    "    fig = plt.figure(figsize=(len(y_n) * 3, 8))\n",
    "    fig.suptitle(\"Modal displacements (unconstrained)\")\n",
    "\n",
    "    for (j, y_j) in enumerate(y_n):\n",
    "        ax = fig.add_subplot(2, len(y_n)//2+1, j+1, projection='3d')\n",
    "        y_x = y_j(xx)\n",
    "        #\n",
    "        ax.set_title(f'String mode ${j}$')\n",
    "        ax.plot_surface(xx, tt, y_x)\n",
    "        ax.set_xlabel('$x$ (m)')\n",
    "        ax.set_ylabel('$t$ (s)')\n",
    "        ax.set_zlabel(f'$y_{j}^S(x, t)$ (m)')\n",
    "    if log.do_log:\n",
    "        plt.show()\n",
    "    if log.do_save:\n",
    "        fig.savefig(output_figure_path / 'y_n.svg', facecolor='none', transparent=True)\n",
    "    plt.close(fig)"
   ]
  },
  {
   "cell_type": "code",
   "execution_count": null,
   "metadata": {},
   "outputs": [],
   "source": []
  }
 ],
 "metadata": {
  "interpreter": {
   "hash": "0461300f92e1eaf1d8a30c9683b3b8af868ee97220c7c382c772e83c32d3f390"
  },
  "kernelspec": {
   "display_name": "Python 3.9.9 64-bit ('env_pam_hr': conda)",
   "language": "python",
   "name": "python3"
  },
  "language_info": {
   "codemirror_mode": {
    "name": "ipython",
    "version": 3
   },
   "file_extension": ".py",
   "mimetype": "text/x-python",
   "name": "python",
   "nbconvert_exporter": "python",
   "pygments_lexer": "ipython3",
   "version": "3.9.9"
  },
  "orig_nbformat": 4
 },
 "nbformat": 4,
 "nbformat_minor": 2
}
