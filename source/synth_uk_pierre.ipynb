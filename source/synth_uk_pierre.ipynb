{
 "cells": [
  {
   "cell_type": "markdown",
   "metadata": {},
   "source": [
    "# U-K formulation modal synthesis\n",
    "## Usage example\n",
    "### Author: piptouque\n",
    "\n",
    "\n",
    "### Imports\n"
   ]
  },
  {
   "cell_type": "code",
   "execution_count": 5,
   "metadata": {},
   "outputs": [
    {
     "name": "stdout",
     "output_type": "stream",
     "text": [
      "The autoreload extension is already loaded. To reload it, use:\n",
      "  %reload_ext autoreload\n"
     ]
    }
   ],
   "source": [
    "%load_ext autoreload\n",
    "%autoreload 2\n",
    "\n",
    "import pathlib\n",
    "import numpy as np\n",
    "import pandas as pd\n",
    "import matplotlib.pyplot as plt\n",
    "\n",
    "from uk.data import GuitarBodyData, GuitarStringData\n",
    "from uk.structure import GuitarString, GuitarBody, ForceRamp, ForceNull, ModalSimulation\n",
    "from util.util import load_data_json, load_data_csv, make_modetime_dataframe\n",
    "\n",
    "do_log = True\n",
    "do_save = False"
   ]
  },
  {
   "cell_type": "markdown",
   "metadata": {},
   "source": [
    "### Load config"
   ]
  },
  {
   "cell_type": "code",
   "execution_count": 7,
   "metadata": {},
   "outputs": [
    {
     "name": "stdout",
     "output_type": "stream",
     "text": [
      "String data: \n",
      " {'l': 0.65, 't': 73.9, 'rho': 0.0361, 'e': 0.0004, 'i': 1, 'eta_f': 0.0007, 'eta_a': 0.9, 'eta_b': 0.25, 'c_t': 45.244794316499906, 'b': 0.0004}\n",
      "Body data: \n",
      " {'n': array([ 0,  1,  2,  3,  4,  5,  6,  7,  8,  9, 10, 11, 12, 13, 14, 15]), 'f_n': array([ 78.3, 100.2, 187.3, 207.8, 250.9, 291.8, 314.7, 344.5, 399. ,\n",
      "       429.6, 482.9, 504.2, 553.9, 580.3, 645.7, 723.5]), 'ksi_n': array([0.022, 0.011, 0.016, 0.01 , 0.007, 0.009, 0.011, 0.007, 0.014,\n",
      "       0.009, 0.007, 0.007, 0.006, 0.014, 0.01 , 0.013]), 'm_n': array([2.91, 0.45, 0.09, 0.25, 2.65, 9.88, 8.75, 8.8 , 0.9 , 0.41, 0.38,\n",
      "       1.07, 2.33, 1.36, 2.02, 0.45])}\n",
      "Simulation config \n",
      " {'n': array([0, 1, 2, 3, 4]), 'nb_steps': 10, 'h': 0.01}\n"
     ]
    },
    {
     "data": {
      "image/png": "[encoded data removed]",
      "text/plain": [
       "<Figure size 432x288 with 1 Axes>"
      ]
     },
     "metadata": {
      "needs_background": "light"
     },
     "output_type": "display_data"
    }
   ],
   "source": [
    "string_data_path = pathlib.Path('./data/guitar_string_config.json')\n",
    "body_data_path = pathlib.Path('./data/guitar_body_data.csv')\n",
    "guitar_excitation_config = pathlib.Path('./data/guitar_excitation_config.json')\n",
    "simulation_config = pathlib.Path('./data/simulation_config.json')\n",
    "output_path = pathlib.Path('../out/uk')\n",
    "\n",
    "\n",
    "string_data = load_data_json(GuitarStringData, string_data_path)\n",
    "body_data = load_data_csv(GuitarBodyData, body_data_path)\n",
    "ext_force_string = load_data_json(\n",
    "    ForceRamp, guitar_excitation_config, l=string_data.l)\n",
    "sim = load_data_json(ModalSimulation, simulation_config)\n",
    "\n",
    "\n",
    "x = np.linspace(0, string_data.l, 100)\n",
    "f_x = [ext_force_string(u, 0) for u in x]\n",
    "\n",
    "if do_log:\n",
    "    print(f\"String data: \\n {string_data._param_dict}\")\n",
    "    print(f\"Body data: \\n {body_data._param_dict}\")\n",
    "    print(f\"Simulation config \\n {sim._param_dict}\")\n",
    "    plt.plot(x, f_x)\n",
    "    plt.title(\"External force applied on the string\")\n",
    "    plt.show()"
   ]
  },
  {
   "cell_type": "markdown",
   "metadata": {},
   "source": [
    "### Solve system"
   ]
  },
  {
   "cell_type": "code",
   "execution_count": 9,
   "metadata": {},
   "outputs": [],
   "source": [
    "string = GuitarString(string_data)\n",
    "body = GuitarBody(body_data)\n",
    "\n",
    "# There is no external force applied to the body.\n",
    "ext_force_body = ForceNull()\n",
    "\n",
    "# The string and body are initially at rest.\n",
    "q_n_is = [np.zeros(sim.n.shape, dtype=float) for i in range(2)]\n",
    "dq_n_is = [np.zeros(sim.n.shape, dtype=float) for i in range(2)]\n",
    "\n",
    "# Run the simulation / solve the system.\n",
    "t, q_ns, dq_ns, ddq_ns, ext_force_n_ts = sim.run(\n",
    "    [string, body], [ext_force_string, ext_force_body],\n",
    "    q_n_is, dq_n_is)\n",
    "\n",
    "# compute data frames from the result.\n",
    "df_q_n = make_modetime_dataframe(q_ns[0], sim.n, t)\n",
    "df_dq_n = make_modetime_dataframe(dq_ns[0], sim.n, t)\n",
    "df_ddq_n = make_modetime_dataframe(ddq_ns[0], sim.n, t)\n",
    "df_ext_force_n_t = make_modetime_dataframe(ext_force_n_ts[0], sim.n, t)"
   ]
  },
  {
   "cell_type": "markdown",
   "metadata": {},
   "source": [
    "### Save and plot output"
   ]
  },
  {
   "cell_type": "code",
   "execution_count": 10,
   "metadata": {},
   "outputs": [],
   "source": [
    "if do_save:\n",
    "    output_path.mkdir(parents=True, exist_ok=True)\n",
    "    df_q_n.to_csv(output_path / 'q_n.csv')\n",
    "    df_ddq_n.to_csv(output_path / 'dq_n.csv')\n",
    "    df_ddq_n.to_csv(output_path / 'ddq_n.csv')\n",
    "    df_ext_force_n_t.to_csv(output_path / 'ext_force_n_t.csv')\n",
    "\n",
    "if do_log:\n",
    "    # TODO\n",
    "    # axes = df_q_n.plot(title='$(q_n(t))$', kind='area')\n",
    "    pass"
   ]
  },
  {
   "cell_type": "code",
   "execution_count": null,
   "metadata": {},
   "outputs": [],
   "source": []
  }
 ],
 "metadata": {
  "interpreter": {
   "hash": "0461300f92e1eaf1d8a30c9683b3b8af868ee97220c7c382c772e83c32d3f390"
  },
  "kernelspec": {
   "display_name": "Python 3.9.9 64-bit ('env_pam_hr': conda)",
   "language": "python",
   "name": "python3"
  },
  "language_info": {
   "codemirror_mode": {
    "name": "ipython",
    "version": 3
   },
   "file_extension": ".py",
   "mimetype": "text/x-python",
   "name": "python",
   "nbconvert_exporter": "python",
   "pygments_lexer": "ipython3",
   "version": "3.9.9"
  },
  "orig_nbformat": 4
 },
 "nbformat": 4,
 "nbformat_minor": 2
}
