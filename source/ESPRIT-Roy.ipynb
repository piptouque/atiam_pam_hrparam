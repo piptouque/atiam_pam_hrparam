{
 "cells": [
  {
   "cell_type": "code",
   "execution_count": null,
   "metadata": {},
   "outputs": [],
   "source": [
    "%load_ext autoreload\n",
    "%autoreload 2\n",
    "import matplotlib.pyplot as plt\n",
    "from mpl_toolkits.mplot3d import Axes3D\n",
    "\n",
    "from copy import deepcopy\n",
    "from math import ceil, exp, atan, pi, cos, sin\n",
    "\n",
    "import scipy\n",
    "import scipy.signal\n",
    "from scipy import signal\n",
    "from scipy.io.wavfile import write\n",
    "from scipy.linalg import hankel\n",
    "from scipy.linalg import toeplitz\n",
    "from scipy.signal import lfilter\n",
    "\n",
    "from numpy.linalg import pinv\n",
    "\n",
    "from matplotlib import cm\n",
    "from matplotlib.ticker import LinearLocator, FormatStrFormatter\n",
    "\n",
    "\n",
    "import pylab as p\n",
    "import mpl_toolkits.mplot3d.axes3d as p3\n",
    "\n",
    "import matplotlib.pyplot as plt\n",
    "import numpy as np\n",
    "\n",
    "import wave\n",
    "\n",
    "import colorednoise as cn\n",
    "#from matplotlib import pylab as plt\n",
    "\n",
    "import sounddevice as sd\n",
    "from scipy.io.wavfile import write\n",
    "\n",
    "from tqdm import tqdm\n",
    "import time\n",
    "\n",
    "%matplotlib inline"
   ]
  },
  {
   "cell_type": "code",
   "execution_count": null,
   "metadata": {},
   "outputs": [],
   "source": [
    "def nextpow2(i):\n",
    "    n = 1\n",
    "    while n < i:\n",
    "        n *= 2\n",
    "    return n"
   ]
  },
  {
   "cell_type": "markdown",
   "metadata": {},
   "source": [
    "> ## Signal Synthesis"
   ]
  },
  {
   "cell_type": "markdown",
   "metadata": {},
   "source": [
    "> #### Synthesis Function\n",
    "\n",
    "This function synthesizes a signal following the exponential sinusoidal model (ESM) with a possible tremolo effect (FM) and/or noise. The noise can be set to white, pink, or red, and the signal-to-noise ratio (SNR) can be controlled."
   ]
  },
  {
   "cell_type": "code",
   "execution_count": null,
   "metadata": {},
   "outputs": [],
   "source": [
    "# This function synthesizes a sinusoidal signal, with set frequencies, amplitudes, initial phases, and damping factors\n",
    "# with optional tremolo effect (FM) and noise (white, pink, or red)\n",
    "\n",
    "def synthesize(N: int, delta: np.ndarray, f: np.ndarray, a: np.ndarray, phi : np.ndarray,\n",
    "    f_m : float = 0, mod_index : float = 0, noise_index : int = 0, sin_to_noise : int = 0):\n",
    "    # input\n",
    "        # N: length of the signal (discrete)\n",
    "        # delta: array of damping factors\n",
    "        # f: array of normalized frequencies\n",
    "        # a: array of real amplitudes\n",
    "        # phi: array of initial phases\n",
    "        # f_m: modulating frequency (FM)\n",
    "        # mod_index: modulation index (0 if tremolo is not desired)\n",
    "        # noise index:\n",
    "            # 0: noiseless\n",
    "            # 1: white noise\n",
    "            # 2: pink noise\n",
    "            # 3: red noise\n",
    "        # sin_to_noise: sinusoids to noise ratio to estimate a desired SNR\n",
    "\n",
    "    t_array = np.arange(N)          #time array\n",
    "    logz = delta + 1j*2*np.pi*f     #log of poles\n",
    "    alpha = a*np.exp(1j*phi)        #complex amplitudes\n",
    "\n",
    "    mod = np.exp(1j*mod_index*np.sin(2*np.pi*f_m*t_array))  # modulation component\n",
    "\n",
    "    sinusoids = np.sum(np.outer(alpha, np.ones(N))*np.exp(np.outer(logz, t_array)), axis=0)  #noisless signal (ESM)\n",
    "    sinusoids = sinusoids*mod # modulated signal\n",
    "\n",
    "    if noise_index == 0:\n",
    "        noise = np.zeros(N)\n",
    "        SNR = '-oo'\n",
    "        x = sinusoids\n",
    "\n",
    "    else: \n",
    "        noise = cn.powerlaw_psd_gaussian(noise_index-1, N)    # synthesizing noise\n",
    "\n",
    "        # normalaizing the noise according to a sinusoids-to-noise ratio (in dB)\n",
    "        norm = np.exp(-(1/20)*(sin_to_noise + 10*np.log10(np.sum(noise**2)) - 10*np.log10(np.sum(np.real(sinusoids)**2))))\n",
    "        noise = norm*noise\n",
    "        x = sinusoids + noise\n",
    "        SNR = 10*np.log10(np.sum(np.real(x)**2)) - 10*np.log10(np.sum(noise**2))\n",
    "    \n",
    "    return x, sinusoids, noise, SNR"
   ]
  },
  {
   "cell_type": "markdown",
   "metadata": {},
   "source": [
    "> Simple Noisless Signal with Two Sinusoids"
   ]
  },
  {
   "cell_type": "code",
   "execution_count": null,
   "metadata": {},
   "outputs": [],
   "source": [
    "N_synth = 63\n",
    "\n",
    "f0_synth = 1/4\n",
    "f_synth = np.array([f0_synth, f0_synth+(1/N_synth)])\n",
    "\n",
    "a_synth = np.array([1, 10])\n",
    "\n",
    "delta_synth = np.array([0, -0.05])\n",
    "\n",
    "phi_synth = np.array([1.5, 0.5])\n",
    "\n",
    "# synthesised signal\n",
    "x_synth = synthesize(N_synth, delta_synth, f_synth, a_synth, phi_synth)\n",
    "\n",
    "plt.plot(np.real(x_synth[0]))\n",
    "\n",
    "#np.max(np.real(x_synth))"
   ]
  },
  {
   "cell_type": "markdown",
   "metadata": {},
   "source": [
    "> Simple Noisless Signal with One Sinusoid and Tremolo Effect"
   ]
  },
  {
   "cell_type": "code",
   "execution_count": null,
   "metadata": {},
   "outputs": [],
   "source": [
    "N_trem0 = 2**9-1\n",
    "\n",
    "delta_trem0 = np.array([0])\n",
    "\n",
    "f_trem0 = np.array([0.3])\n",
    "\n",
    "a_trem0 = np.array([2])\n",
    "\n",
    "phi_trem0 = np.array([0])\n",
    "\n",
    "tremolo0 = synthesize(N_trem0, delta_trem0, f_trem0, a_trem0, phi_trem0, 0.02, 5, 0, 0)"
   ]
  },
  {
   "cell_type": "code",
   "execution_count": null,
   "metadata": {},
   "outputs": [],
   "source": [
    "plt.figure(figsize=(15, 3), dpi=80)\n",
    "\n",
    "plt.plot(np.real(tremolo0[0]))\n",
    "plt.show()\n"
   ]
  },
  {
   "cell_type": "code",
   "execution_count": null,
   "metadata": {},
   "outputs": [],
   "source": [
    "fs_trem0 = 1000\n",
    "\n",
    "sd.play(np.real(tremolo0[0]), fs_trem0)\n",
    "\n",
    "print(\"The length of the signal is\", N_trem0/fs_trem0, \"seconds.\")\n",
    "\n",
    "t = np.linspace(0., N_trem0/fs_trem0, fs_trem0)\n",
    "amplitude = np.iinfo(np.int16).max\n",
    "data  = amplitude*np.real(tremolo0[0])\n",
    "\n",
    "# UNCOMMENT TO WRITE A NEW WAV FILE\n",
    "# write(\"tremolo.wav\", fs_trem0, data.astype(np.int16))"
   ]
  },
  {
   "cell_type": "markdown",
   "metadata": {},
   "source": [
    "> Noisless Signal with Eight Sinusoids and Tremolo Effect"
   ]
  },
  {
   "cell_type": "code",
   "execution_count": null,
   "metadata": {},
   "outputs": [],
   "source": [
    "N_trem1 = 2**11-1\n",
    "\n",
    "K_trem1 = 8\n",
    "\n",
    "f0 = 0.06\n",
    "f_trem1 = f0*np.arange(1,K_trem1+1)\n",
    "\n",
    "a_trem1 = np.array([0.00807193, 0.09748246, 0.02404544, 0.04275309, 0.02482811,\n",
    "       0.08778044, 0.00470351, 0.03118916])\n",
    "\n",
    "delta_trem1 = -0.0001*np.random.rand(K_trem1)\n",
    "\n",
    "phi_trem1 = np.array([1.76348603, 1.20411769, 0.76158339, 1.35157899, 0.36247392,\n",
    "       1.44086579, 1.73647764, 1.98131046])\n",
    "\n",
    "tremolo1 = synthesize(N_trem1, delta_trem1, f_trem1, a_trem1, phi_trem1, 0.003, 10, 0, 0)"
   ]
  },
  {
   "cell_type": "code",
   "execution_count": null,
   "metadata": {},
   "outputs": [],
   "source": [
    "plt.figure(figsize=(18, 3), dpi=80)\n",
    "\n",
    "plt.plot(np.real(tremolo1[0]))\n",
    "\n",
    "plt.show()"
   ]
  },
  {
   "cell_type": "code",
   "execution_count": null,
   "metadata": {},
   "outputs": [],
   "source": [
    "fs1 = 1000\n",
    "\n",
    "sd.play(np.real(tremolo1[0]), fs1)\n",
    "\n",
    "print(\"The length of the signal is\", N_trem1/fs1, \"seconds.\")\n",
    "\n",
    "t = np.linspace(0., N_trem0/fs1, fs1)\n",
    "amplitude = np.iinfo(np.int16).max\n",
    "data  = amplitude*np.real(tremolo1[0])\n",
    "\n",
    "# UNCOMMENT TO WRITE A NEW WAV FILE\n",
    "# write(\"tremolo.wav\", fs1, data.astype(np.int16))"
   ]
  },
  {
   "cell_type": "markdown",
   "metadata": {},
   "source": [
    "> Noisless Signal with Eight Sinusoids (Pink Noise and SNR = 30 dB)"
   ]
  },
  {
   "cell_type": "code",
   "execution_count": null,
   "metadata": {},
   "outputs": [],
   "source": [
    "N_synth1 = 2**12-1\n",
    "\n",
    "K_synth1 = 8\n",
    "\n",
    "f_synth1 = 0.05*np.arange(1,K_synth1+1)\n",
    "\n",
    "a_synth1 = np.array([18, 17, 16, 15, 14, 13, 12, 11])\n",
    "\n",
    "delta_synth1 = -0.002*np.ones([K_synth1])\n",
    "\n",
    "phi_synth1 = np.array([0, 1.5, 0, 1, 0, 1.5, 0, 1])\n",
    "\n",
    "# synthesised signal\n",
    "x_synth1 = synthesize(N_synth1, delta_synth1, f_synth1, a_synth1, phi_synth1, 0, 0, 2, 50)\n",
    "\n",
    "print(\"SNR =\", x_synth1[3], \"dB\")\n",
    "\n",
    "plt.figure()\n",
    "plt.plot(np.real(x_synth1[0]))\n",
    "plt.title('Noisy Signal')\n",
    "plt.xlabel('Discrete Time')\n",
    "plt.ylabel('Amplitude')\n",
    "#plt.xlim(250,3000)\n",
    "plt.show()\n",
    "\n",
    "plt.figure()\n",
    "plt.plot(np.real(x_synth1[1]))\n",
    "plt.title('Sinusoidal Signal')\n",
    "plt.xlabel('Discrete Time')\n",
    "plt.ylabel('Amplitude')\n",
    "#plt.xlim(250,3000)\n",
    "plt.show()\n",
    "\n",
    "plt.figure()\n",
    "plt.plot(x_synth1[2])\n",
    "plt.title('Pink Noise')\n",
    "plt.xlabel('Discrete Time')\n",
    "plt.ylabel('Amplitude')\n",
    "plt.show()\n",
    "\n",
    "\n",
    "plt.figure()\n",
    "plt.title(\"Noise PSD\")\n",
    "plt.psd(x_synth1[2])\n",
    "plt.show()\n"
   ]
  },
  {
   "cell_type": "code",
   "execution_count": null,
   "metadata": {},
   "outputs": [],
   "source": [
    "fs2 = 1000\n",
    "\n",
    "sd.play(np.real(x_synth1[0]), fs2)\n",
    "\n",
    "print(\"The length of the signal is\", N_synth1/fs2, \"seconds.\")\n",
    "\n",
    "t = np.linspace(0., N_synth1/fs2, fs2)\n",
    "amplitude = 0.01*np.iinfo(np.int16).max\n",
    "data  = amplitude*np.real(x_synth1[0])\n",
    "\n",
    "# UNCOMMENT TO WRITE A NEW WAV FILE\n",
    "# write(\"noisy.wav\", fs2, data.astype(np.int16))"
   ]
  },
  {
   "cell_type": "markdown",
   "metadata": {},
   "source": [
    "> Noisless Signal with Eight Sinusoids (Pink Noise and SNR = 39 dB)"
   ]
  },
  {
   "cell_type": "code",
   "execution_count": null,
   "metadata": {},
   "outputs": [],
   "source": [
    "N_synth2 = 2**12-1\n",
    "\n",
    "K_synth2 = 8\n",
    "\n",
    "#f_synth2 = 0.48*np.random.rand(0,K_synth2) + 0.1*np.ones(K_synth2) \n",
    "\n",
    "#a_synth2 = 19*np.random.rand(0,K_synth2) + np.ones(K_synth2) \n",
    "\n",
    "f_synth2 = 0.05*np.arange(1,K_synth2+1)\n",
    "\n",
    "a_synth2 = np.array([18, 15, 13, 11, 8, 5, 4, 3])\n",
    "\n",
    "delta_synth2 = -0.002*np.ones([K_synth2])\n",
    "\n",
    "phi_synth2 = np.array([0, 1.5, 0, 1, 0, 1.5, 0, 1])\n",
    "\n",
    "# synthesised signal\n",
    "x_synth2 = synthesize(N_synth2, delta_synth2, f_synth2, a_synth2, phi_synth2, 0, 0, 2, 70)\n",
    "\n",
    "print(\"SNR =\", x_synth2[3], \"dB\")\n",
    "\n",
    "plt.figure()\n",
    "plt.plot(np.real(x_synth2[0]))\n",
    "plt.title('Noisy Signal')\n",
    "plt.xlabel('Discrete Time')\n",
    "plt.ylabel('Amplitude')\n",
    "#plt.xlim(250,3000)\n",
    "plt.show()\n",
    "\n",
    "plt.figure()\n",
    "plt.plot(np.real(x_synth2[1]))\n",
    "plt.title('Sinusoidal Signal')\n",
    "plt.xlabel('Discrete Time')\n",
    "plt.ylabel('Amplitude')\n",
    "#plt.xlim(250,3000)\n",
    "plt.show()\n",
    "\n",
    "plt.figure()\n",
    "plt.plot(x_synth2[2])\n",
    "plt.title('Pink Noise')\n",
    "plt.xlabel('Discrete Time')\n",
    "plt.ylabel('Amplitude')\n",
    "plt.show()\n",
    "\n",
    "\n",
    "plt.figure()\n",
    "plt.title(\"Noise PSD\")\n",
    "plt.psd(x_synth2[2])\n",
    "plt.show()\n"
   ]
  },
  {
   "cell_type": "code",
   "execution_count": null,
   "metadata": {},
   "outputs": [],
   "source": [
    "fs_synth2 = 1000\n",
    "\n",
    "sd.play(np.real(x_synth2[0]), fs_synth2)\n",
    "\n",
    "print(\"The length of the signal is\", N_synth2/fs_synth2, \"seconds.\")\n",
    "\n",
    "t = np.linspace(0., N_synth2/fs_synth2, fs_synth2)\n",
    "amplitude = 0.01*np.iinfo(np.int16).max\n",
    "data  = amplitude*np.real(x_synth2[0])\n",
    "\n",
    "# UNCOMMENT TO WRITE A NEW WAV FILE\n",
    "# write(\"noisy2.wav\", fs_synth2, data.astype(np.int16))"
   ]
  },
  {
   "cell_type": "markdown",
   "metadata": {},
   "source": [
    "> ## Signal Treatment"
   ]
  },
  {
   "cell_type": "markdown",
   "metadata": {},
   "source": [
    "> #### Pre-emphasis"
   ]
  },
  {
   "cell_type": "code",
   "execution_count": null,
   "metadata": {},
   "outputs": [],
   "source": [
    "def preemphasize(sig : np.ndarray, b = np.array([1, -0.95])):\n",
    "    # input\n",
    "        # sig: the input signal\n",
    "        # b = = np.array([1, -0.95]) # coefficients recommended by the prof, change if needed\n",
    "        N = len(sig)\n",
    "        Nfft = nextpow2(N)\n",
    "\n",
    "        a = np.ones(2)\n",
    "        preemph_sig = signal.lfilter(b, a, sig)\n",
    "\n",
    "        PSD_sig, freq = plt.psd(sig, )\n",
    "        PSD_preemph_sig, _ =  plt.psd(preemph_sig, Nfft)\n",
    "\n",
    "        return preemph_sig, freq, PSD_sig, PSD_preemph_sig"
   ]
  },
  {
   "cell_type": "markdown",
   "metadata": {},
   "source": [
    "> #### Filter Bank and Decimation"
   ]
  },
  {
   "cell_type": "markdown",
   "metadata": {},
   "source": [
    "We will try signal.stft which is equivalent to a filter bank + decimation (see the test codes below)."
   ]
  },
  {
   "cell_type": "markdown",
   "metadata": {},
   "source": [
    "> Testing \"signal.stft\""
   ]
  },
  {
   "cell_type": "code",
   "execution_count": null,
   "metadata": {},
   "outputs": [],
   "source": [
    "fs_stft = 1.0\n",
    "window_name ='hann'\n",
    "n_fft = 16\n",
    "m = n_fft // 4 # window length\n",
    "step = 2\n",
    "\n",
    "sig = np.real(x_synth1[0])\n",
    "freqs_x, times_x, x_arr = sig.stft(sig, fs=fs_stft, window=window_name,\n",
    "    nperseg=m, nfft=n_fft)\n",
    "print()\n",
    "\n",
    "for k in range()\n",
    "times_sig = np.arange(N_synth1) * fs_stft"
   ]
  },
  {
   "cell_type": "markdown",
   "metadata": {},
   "source": [
    "We have a problem here, the subbands cover the same 4 frequencies of the input signal and leave out the other 4 (see figure below)."
   ]
  },
  {
   "cell_type": "code",
   "execution_count": null,
   "metadata": {},
   "outputs": [],
   "source": [
    "k0 = 6 # n# of band\n",
    "plt.figure()\n",
    "plt.plot(times_sig, sig) # / np.max(np.abs(sig)))\n",
    "plt.plot(times_x, np.real(x_arr[k0])) #/ np.max(np.abs(x_arr)))\n",
    "plt.title('Input signal (in blue) and the 6th\\ncomponent of the filter bank (in yellow)')\n",
    "plt.show()\n",
    "\n",
    "reconstruction = np.zeros(len(x_arr[0]))\n",
    "for k in range(len(x_arr)):\n",
    "    reconstruction += np.real(x_arr[k])\n",
    "\n",
    "plt.figure()\n",
    "plt.plot(times_x, reconstruction)\n",
    "plt.title('Reconstructed Signal (sum of all compoenents)')\n",
    "plt.show()\n",
    "\n",
    "plt.figure()\n",
    "\n",
    "plt.plot(signal.welch(sig)[0], signal.welch(sig)[1])\n",
    "\n",
    "for k in range(len(x_arr)):\n",
    "    component = np.real(x_arr[k])\n",
    "    plt.plot(signal.welch(component)[0], signal.welch(component)[1])\n",
    "\n",
    "plt.title('PSD of original signal (in blue)\\nand of the components (other colors)')\n",
    "plt.show()"
   ]
  },
  {
   "cell_type": "markdown",
   "metadata": {},
   "source": [
    "> #### Noise Whitening"
   ]
  },
  {
   "cell_type": "code",
   "execution_count": null,
   "metadata": {},
   "outputs": [],
   "source": [
    "# (can be applied to the original signal and also to the signals filtered with subbands)\n",
    "def whiten(x : np.ndarray, smoothing_order : int, AR_order : int): # add input??\n",
    "    # input\n",
    "        # x: the input signal FOR EACH FREQUENCY BAND\n",
    "        # smoothing_order: at least two times the length of the PSD's principal lobe (can be done visually)\n",
    "        # AR_order: ~ 10\n",
    "    \n",
    "    N = len(x)\n",
    "    Nfft = nextpow2(N)\n",
    "    \n",
    "    # Step 1: signal's power spectral density\n",
    "    freq, PSD_x = signal.welch(x, nfft = Nfft) #return_onesided = False\n",
    "    #PSD_x, freq = plt.psd(x, Nfft)\n",
    "\n",
    "\n",
    "    # Step 2: estimating the noise's PSD with a median filter (smoothing the signal's PSD)\n",
    "    b = (np.ones(smoothing_order))/smoothing_order  # numerator co-effs of the filter's transfer function\n",
    "                                                    # denominator co-eff of the filter's transfer function is 1\n",
    "    PSD_noise = signal.lfilter(b, [1], PSD_x)       # smoothed PSD = estimation of the noise PSD\n",
    "\n",
    "    # Step 3: calculating the autocovariance of the noise\n",
    "    AC = np.real(np.fft.ifft(PSD_noise, Nfft))                     # autocovariance (vector) of the noise\n",
    "    print(AC)\n",
    "    R = toeplitz(AC[:AR_order-1],AC[:AR_order-1])   # coefficients matrix of the Yule-Walker system\n",
    "                                                    # = autocovariance matrix with the last row and last column removed\n",
    "    r = AC[1:AR_order].T               # the constant column of the Yule-Walker system\n",
    "    B = - pinv(R) @ r           # the AR coefficients (indices 1, ..., N-1)\n",
    "    B = np.insert(B, 0, 1)      # the AR coefficients (indices 0, ..., N-1)\n",
    "\n",
    "    # Step 4: applying the corresponding FIR to the signal's PSD to obtain the whitened signal\n",
    "    # The FIR is the inverse of the AR filter so the coefficients of the FIR's numerator\n",
    "    # are the coefficients of the AR's denominator, i.e. the array B\n",
    "    # denominator co-eff of the FIR's transfer function is 1\n",
    "    x_white = signal.lfilter(B, [1], x)\n",
    "\n",
    "    # Step 5: re-estimating the noise, now for the white signal\n",
    "    _, PSD_x_white = signal.welch(x_white, nfft = Nfft)\n",
    "    #PSD_x_white, freq = plt.psd(x_white, Nfft)\n",
    "    PSD_noise_white = signal.lfilter(b, [1], PSD_x_white)\n",
    "\n",
    "    return x_white, freq, PSD_x, PSD_noise, PSD_x_white, PSD_noise_white"
   ]
  },
  {
   "cell_type": "markdown",
   "metadata": {},
   "source": [
    "> Testing \"whiten\" (Test 1)"
   ]
  },
  {
   "cell_type": "code",
   "execution_count": null,
   "metadata": {},
   "outputs": [],
   "source": [
    "x_white1, freq1, PSD_x1, PSD_noise1, PSD_x_white1, PSD_noise_white1 = whiten(np.real(x_synth1[0]), 130, 10)\n",
    "\n",
    "plt.figure()\n",
    "\n",
    "plt.plot(np.arange(N_synth1), x_white1)\n",
    "\n",
    "plt.show()\n",
    "\n",
    "plt.figure()\n",
    "\n",
    "plt.plot(freq1, 20*np.log10((PSD_x1)))\n",
    "\n",
    "plt.plot(freq1, 20*np.log10((PSD_noise1)))\n",
    "\n",
    "plt.show()\n",
    "\n",
    "plt.figure()\n",
    "\n",
    "plt.plot(freq1, 20*np.log10((PSD_x_white1)))\n",
    "\n",
    "plt.plot(freq1, 20*np.log10((PSD_noise_white1)))\n",
    "\n",
    "plt.show()\n",
    "\n"
   ]
  },
  {
   "cell_type": "markdown",
   "metadata": {},
   "source": [
    "> Testing \"whiten\" (Test 2)"
   ]
  },
  {
   "cell_type": "code",
   "execution_count": null,
   "metadata": {},
   "outputs": [],
   "source": [
    "x_white2, freq2, PSD_x2, PSD_noise2, PSD_x_white2, PSD_noise_white2 = whiten(np.real(x_synth2[0]), 130, 10)\n",
    "\n",
    "plt.figure()\n",
    "\n",
    "plt.plot(np.arange(N_synth2), x_white2)\n",
    "\n",
    "plt.show()\n",
    "\n",
    "plt.figure()\n",
    "\n",
    "plt.plot(freq2, 20*np.log10((PSD_x2)))\n",
    "\n",
    "plt.plot(freq2, 20*np.log10((PSD_noise2)))\n",
    "\n",
    "plt.show()\n",
    "\n",
    "plt.figure()\n",
    "\n",
    "plt.plot(freq2, 20*np.log10((PSD_x_white2)))\n",
    "\n",
    "plt.plot(freq2, 20*np.log10((PSD_noise_white2)))\n",
    "\n",
    "plt.show()\n",
    "\n"
   ]
  },
  {
   "cell_type": "markdown",
   "metadata": {},
   "source": [
    "> ## ESPRIT"
   ]
  },
  {
   "cell_type": "code",
   "execution_count": null,
   "metadata": {},
   "outputs": [],
   "source": [
    "def ESPRIT(x : np.ndarray, n : int, K : int):\n",
    "    # input\n",
    "        # x: input signal\n",
    "        # n: number of lines in the Hankel matrix S\n",
    "        # and signal space basis W\n",
    "        # K: number of searched sinusoids\n",
    "\n",
    "        # (n-K : noise space dimension)\n",
    "\n",
    "    # output\n",
    "        # delta: array of damping factors\n",
    "        # f: array of frequencies\n",
    "\n",
    "    N = len(x)          # signal's length\n",
    "    l = N - n + 1       # number of columns of the Hankel matrix\n",
    "                        # Not needed for the 'hankel' function but used in the formula of R_XX  \n",
    "\n",
    "    X = hankel(x[:n], x[n-1:])      # Hankel matrix\n",
    "\n",
    "    R_XX = 1/l * X @ X.conj().T             # correlation matrix\n",
    "    U1, Lambda, U2 = np.linalg.svd(R_XX)\n",
    "    W = U1[:n, :K]                          # signal space matrix\n",
    "    \n",
    "    W_down = W[:-1]\n",
    "    W_up = W[1:]\n",
    "    phi = (np.linalg.pinv(W_down)) @ W_up\n",
    "    eigenvalues, eigenvectors = np.linalg.eig(phi)\n",
    "    \n",
    "    delta = np.log(np.abs(eigenvalues))         # damping factors\n",
    "    f = (1/(2*np.pi)) * np.angle(eigenvalues)   # frequencies\n",
    "\n",
    "    return delta, f\n"
   ]
  },
  {
   "cell_type": "markdown",
   "metadata": {},
   "source": [
    "> ## Least Squares"
   ]
  },
  {
   "cell_type": "code",
   "execution_count": null,
   "metadata": {},
   "outputs": [],
   "source": [
    "def LeastSquares(x : np.ndarray, delta : np.ndarray, f : np.ndarray):\n",
    "    # input\n",
    "        # x: input signal\n",
    "        # delta: array of damping factors\n",
    "        # f: array of frequencies\n",
    "\n",
    "    # output\n",
    "        # alpha: array of complex amplitudes\n",
    "        # a: array of real amplitudes\n",
    "        # phi: array of initial phases\n",
    "\n",
    "    N = len(x)                  # signal's length\n",
    "    t = np.arange(N)            # array of discrete times\n",
    "    s = delta + 2j*np.pi*f      # log of the pole\n",
    "    VN = np.exp(np.outer(t,s))  # Vandermonde matrix of dimension N\n",
    "    \n",
    "    alpha = np.linalg.pinv(VN)@x\n",
    "    a = abs(alpha)\n",
    "    phi = np.angle(alpha)\n",
    "    \n",
    "    return alpha, a, phi"
   ]
  },
  {
   "cell_type": "markdown",
   "metadata": {},
   "source": [
    "> Testing EPRIT and LeastSquares"
   ]
  },
  {
   "cell_type": "code",
   "execution_count": null,
   "metadata": {},
   "outputs": [],
   "source": [
    "delta_an, f_an = ESPRIT(x_synth[0], 32, 2)\n",
    "\n",
    "alpha_an, a_an, phi_an = LeastSquares(x_synth[0], delta_an, f_an)\n",
    "\n",
    "EdB_an = Energy(x_synth, delta_an, a_an)\n",
    "\n",
    "print(delta_an, f_an, alpha_an, a_an, phi_an, EdB_an)\n"
   ]
  },
  {
   "cell_type": "markdown",
   "metadata": {},
   "source": [
    "> ## Energy"
   ]
  },
  {
   "cell_type": "code",
   "execution_count": null,
   "metadata": {},
   "outputs": [],
   "source": [
    "def Energy(x: np.ndarray, delta: np.ndarray, a: np.ndarray):\n",
    "    # input\n",
    "        # x: input signal\n",
    "        # delta: array of damping factors\n",
    "        # a: array of real amplitudes\n",
    "\n",
    "    # output\n",
    "        # EdB: array of energies\n",
    "\n",
    "    \n",
    "    N = len(x)              # signal's length\n",
    "    times = np.arange(N)    # array of discrete times\n",
    "\n",
    "    K = len(delta)          # number of sinusoids\n",
    "    E = np.zeros(K)\n",
    "\n",
    "    for k in range(K):      # calculating the energy of each sinusoid\n",
    "        e_k = 0\n",
    "        for t in times:\n",
    "            e_k += np.exp(2*delta[k]*t)     # the contribution of delta\n",
    "        E[k] = a[k]**2 * e_k                # the energy of the kth sinusoid\n",
    "\n",
    "    Emax = max(E)\n",
    "    EdB = 10*np.log(E/Emax)     # Energy in dB\n",
    "\n",
    "    return EdB\n"
   ]
  },
  {
   "cell_type": "markdown",
   "metadata": {},
   "source": [
    "> ## ESTER"
   ]
  },
  {
   "cell_type": "code",
   "execution_count": null,
   "metadata": {},
   "outputs": [],
   "source": [
    "def ESTER(x : np.ndarray, n : int, K : int):\n",
    "    # x: input signal\n",
    "    # n: n: number of lines in the Hankel matrix S\n",
    "    # K: ?\n",
    "\n",
    "    # calculating the inverse error function\n",
    "    N = len(x)\n",
    "    l = N-n+1\n",
    "    X = hankel(x[:n], x[n-1:N])\n",
    "    XH = X.conj().T\n",
    "    Rxx = 1/l*X*XH\n",
    "    U1, lam, U =  np.linalg.svd(Rxx)\n",
    "    norm_E = []\n",
    "    for i in range(K):\n",
    "        W = U1[: n, :i]\n",
    "        W_down = W[0:n-1,:]\n",
    "        W_up = W[1:n,:]\n",
    "        Phi = np.dot(np.linalg.pinv(W_down),(W_up))\n",
    "        E = W_up - np.dot(W_down, Phi)\n",
    "        Valeur,_,_ = np.linalg.svd(E)\n",
    "        norm_E = max(Valeur)  # not sure here\n",
    "    return norm_E"
   ]
  },
  {
   "cell_type": "markdown",
   "metadata": {},
   "source": [
    "> ## ESPRIT BY BLOCKS\n",
    "(Contains ESPRIT and LeastSquares)"
   ]
  },
  {
   "cell_type": "code",
   "execution_count": null,
   "metadata": {},
   "outputs": [],
   "source": [
    "def blocks(x_full : np.ndarray, window_length : float, hop_size : float, sampling_rate : int, n : int, K : int):\n",
    "    # input\n",
    "        # x_full: the full-length input signal\n",
    "        # window_length: the window size (in seconds)\n",
    "        # hop_size: the hop size (in seconds)\n",
    "        # n: number of lines in the Hankel matrix S\n",
    "        # and signal space basis W\n",
    "        # K: the number of sinusoids\n",
    "\n",
    "    N_full = len(x_full)                    # the length of the signal (in samples)\n",
    "    N = int(window_length*sampling_rate)    # window size (in samples)\n",
    "    h = int(hop_size*sampling_rate)         # hop size (in samples)\n",
    "    I = int((N_full-N)/h)\n",
    "\n",
    "    delta   = np.zeros((I,K))\n",
    "    f       = np.zeros((I,K))\n",
    "    alpha   = np.zeros((I,K), dtype=complex)\n",
    "    a       = np.zeros((I,K))\n",
    "    phi     = np.zeros((I,K))\n",
    "    # EdB     = np.zeros((I,K))\n",
    "\n",
    "    for i in tqdm(range(I)):\n",
    "\n",
    "        x_i = x_full[h*i:h*i+N]     # ith truncated signal\n",
    "\n",
    "        delta[i], f[i] = ESPRIT(x_i, n, K)\n",
    "        alpha[i], a[i], phi[i] = LeastSquares(x_i, delta[i], f[i])\n",
    "        # EdB[i] = Energy(x[i], delta[i], a[i])\n",
    "\n",
    "    return delta, f, alpha, a, phi #, EdB"
   ]
  },
  {
   "cell_type": "markdown",
   "metadata": {},
   "source": [
    "> Testing \"blocks\" (with a tremolo)"
   ]
  },
  {
   "cell_type": "code",
   "execution_count": null,
   "metadata": {},
   "outputs": [],
   "source": [
    "delta00, f00, alpha00, a00, phi00 = blocks(tremolo0[0][:200], 0.035, 0.020, fs_trem0, 32, 1)\n",
    "\n",
    "print('- Damping factors:\\n', delta00, '\\n- Frequencies:\\n', f00, '\\n- Complex Amplitudes:\\n', alpha00, '\\n- Amplitudes:\\n', a00, '\\n- Intial Phases:\\n', phi00 )"
   ]
  },
  {
   "cell_type": "markdown",
   "metadata": {},
   "source": []
  },
  {
   "cell_type": "markdown",
   "metadata": {},
   "source": []
  },
  {
   "cell_type": "code",
   "execution_count": null,
   "metadata": {},
   "outputs": [],
   "source": [
    "# Another code for filter bank and decimation (incomplete)\n",
    "\n",
    "center_freqs = np.arange(100, 3000, 100) # à nous de définir selon le signal\n",
    "def filter_bank(sig : np.ndarray, center_freqs : np.ndarray, fe : float):\n",
    "    #input\n",
    "       #sig\n",
    "       #center_freqs : centered frequencies in filter banks\n",
    "       #fe : sampling frequency\n",
    "\n",
    "\n",
    "    #filter banks\n",
    "    #PSD_sig = plt.psd(sig)\n",
    "    nb_bands = len(center_freqs)\n",
    "    #crossover_gain = 10**(-3/20) # cross at -3db of gain for the adjacent bands\n",
    "\n",
    "    #band edges, frequencies\n",
    "    band_edges = np.zeros((nb_bands,2))\n",
    "    #band_edges [:,0] = center_freqs -  \n",
    "    #band_edges [:,1] = center_freqs +   \n",
    "\n",
    "    h = [] #impulse response \n",
    "    sig_list = []  #Roy: I suggest that we use an numpy array\n",
    "    for i in range(nb_bands):\n",
    "       b, a = signal.butter(nb_bands, [band_edges[i,0],band_edges[i,1]], btype = 'bandpass',analog=False, fs=fe,output='SOS')\n",
    "       #w, H = signal.sosfreqz(h[i], worN=2000,fs=fe)  #Compute the frequency response of a digital filter in SOS format     \n",
    "       sig_list.append(lfilter(b, a, sig))\n",
    "   \n",
    "    return sig_list"
   ]
  },
  {
   "cell_type": "markdown",
   "metadata": {},
   "source": [
    "### Loading experimental data analysis"
   ]
  },
  {
   "cell_type": "code",
   "execution_count": null,
   "metadata": {},
   "outputs": [],
   "source": [
    "import pathlib\n",
    "from util.util import load_data_json, to_db\n",
    "from expr.util import load_analysis\n",
    "# Loading config from config files\n",
    "conf_dir = pathlib.Path('./config/expr/')\n",
    "data_dir = pathlib.Path('../data/expr/2022_01_27')\n",
    "#\n",
    "log_path = conf_dir / 'log_config.json'\n",
    "conf_path = conf_dir / 'analysis_config.json'\n",
    "data_path = data_dir / 'FirstStringGuitar_HammerBridge_1.mat'\n",
    "\n",
    "log = load_data_json(log_path)\n",
    "conf = load_data_json(conf_path)\n",
    "expr_data = load_analysis(data_path, conf)\n",
    "\n",
    "# see expr/util.py for details on what's inside expr_data\n",
    "ft_acc_win = expr_data[\"frequential\"][\"acc\"][\"win\"]\n",
    "freqs_win = expr_data[\"freqs\"][\"win\"]\n",
    "\n",
    "plt.title(\"Fourier transform of accelerometer signal (windowed)\")\n",
    "plt.xlabel(\"Frequency (Hz)\")\n",
    "plt.ylabel(\"Acceleration (dB[m.s$^{-2}$]r\")\n",
    "plt.plot(np.fft.fftshift(freqs_win), np.fft.fftshift(to_db(np.abs(ft_acc_win))))\n",
    "plt.xlim([0, 2000])\n",
    "plt.show()"
   ]
  },
  {
   "cell_type": "code",
   "execution_count": null,
   "metadata": {},
   "outputs": [],
   "source": []
  }
 ],
 "metadata": {
  "interpreter": {
   "hash": "80859ac7f5135aec96a8117f1cea8980d346d5e72554f5e1713cf8726ca979d1"
  },
  "kernelspec": {
   "display_name": "Python 3.8.8 64-bit ('base': conda)",
   "language": "python",
   "name": "python3"
  },
  "language_info": {
   "codemirror_mode": {
    "name": "ipython",
    "version": 3
   },
   "file_extension": ".py",
   "mimetype": "text/x-python",
   "name": "python",
   "nbconvert_exporter": "python",
   "pygments_lexer": "ipython3",
   "version": "3.9.9"
  }
 },
 "nbformat": 4,
 "nbformat_minor": 2
}
