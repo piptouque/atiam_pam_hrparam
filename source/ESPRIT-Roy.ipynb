{
 "cells": [
  {
   "cell_type": "code",
   "execution_count": 2,
   "metadata": {},
   "outputs": [],
   "source": [
    "import matplotlib.pyplot as plt\n",
    "from mpl_toolkits.mplot3d import Axes3D\n",
    "\n",
    "from copy import deepcopy\n",
    "from math import ceil, exp, atan, pi, cos, sin\n",
    "\n",
    "import scipy\n",
    "import scipy.signal\n",
    "from scipy import signal\n",
    "from scipy.io.wavfile import write\n",
    "from scipy.linalg import hankel\n",
    "from scipy.linalg import toeplitz\n",
    "from scipy.signal import lfilter\n",
    "\n",
    "from numpy.linalg import pinv\n",
    "\n",
    "from matplotlib import cm\n",
    "from matplotlib.ticker import LinearLocator, FormatStrFormatter\n",
    "\n",
    "\n",
    "import pylab as p\n",
    "import mpl_toolkits.mplot3d.axes3d as p3\n",
    "\n",
    "import matplotlib.pyplot as plt\n",
    "import numpy as np\n",
    "\n",
    "import wave"
   ]
  },
  {
   "cell_type": "markdown",
   "metadata": {},
   "source": [
    "> ## Signal Treatment"
   ]
  },
  {
   "cell_type": "markdown",
   "metadata": {},
   "source": [
    "> Pre-emphasis"
   ]
  },
  {
   "cell_type": "code",
   "execution_count": 3,
   "metadata": {},
   "outputs": [],
   "source": [
    "def preemphasize(sig : np.ndarray, b = np.array([1, -0.95])):\n",
    "    # input\n",
    "        # sig: the input signal\n",
    "        # b = = np.array([1, -0.95]) # coefficients recommended by the prof, change if needed\n",
    "        a = np.ones(2)\n",
    "        preemphasized_sig = signal.lfilter(b, a, sig)\n",
    "\n",
    "        return preemphasized_sig "
   ]
  },
  {
   "cell_type": "markdown",
   "metadata": {},
   "source": [
    "> Decimation and Bank Filters"
   ]
  },
  {
   "cell_type": "code",
   "execution_count": 4,
   "metadata": {},
   "outputs": [],
   "source": [
    "center_freqs = np.arange(100, 3000, 100) # à nous de définir selon le signal\n",
    "def filter_bank(sig : np.ndarray, center_freqs : np.ndarray, pre_emphasis : float, fe : float):\n",
    "    #input\n",
    "       #sig\n",
    "       #pre_emphasis : pre-emphasis filter coefficient\n",
    "       #center_freqs : centered frequencies in filter banks\n",
    "       #fe : sampling frequency\n",
    "\n",
    "    #pre-emphasis : y(t)=x(t)−αx(t−1), α is often 0.95\n",
    "    emphasized_sig = np.append(sig[0], sig[1:] - pre_emphasis * sig[:-1])\n",
    "\n",
    "    #filter banks\n",
    "    #PSD_sig = plt.psd(sig)\n",
    "    nb_bands = len(center_freqs)\n",
    "    crossover_gain = 10**(-3/20) # cross at -3db of gain for the adjacent bands\n",
    "\n",
    "    #band edges, frequencies\n",
    "    band_edges = np.zeros((nb_bands,2))\n",
    "    band_edges [:,0] = center_freqs*2**(-1/2)\n",
    "    band_edges [:,1] = center_freqs*2**(1/2)   \n",
    "\n",
    "    h = [] #impulse response \n",
    "    sig_list = []\n",
    "    for i in range(nb_bands):\n",
    "       b, a = signal.butter(nb_bands, [band_edges[i,0],band_edges[i,1]], btype = 'bandpass',analog=False, fs=fe,output='SOS')\n",
    "       #w, H = signal.sosfreqz(h[i], worN=2000,fs=fe)  #Compute the frequency response of a digital filter in SOS format     \n",
    "       sig_list.append(lfilter(b, a, sig))\n",
    "   \n",
    "    return sig_list"
   ]
  },
  {
   "cell_type": "markdown",
   "metadata": {},
   "source": [
    "PS: After applying the filter bank, I am calling the signal \"x\" insteasd of \"sig\"."
   ]
  },
  {
   "cell_type": "markdown",
   "metadata": {},
   "source": [
    "> Noise whitening algorithm"
   ]
  },
  {
   "cell_type": "code",
   "execution_count": 5,
   "metadata": {},
   "outputs": [],
   "source": [
    "# (can be applied to the original signal and also to the signals filtered with subbands)\n",
    "def whiten(x : np.ndarray, smoothing_order : int, AR_order : int): # add input??\n",
    "    # input\n",
    "        # x: the input signal FOR EACH FREQUENCY BAND\n",
    "        # smoothing_order: at least two times the length of the PSD's principal lobe (can be done visually)\n",
    "        # AR_order: ~ 10\n",
    "    \n",
    "    # Step 1: signal's power spectral density\n",
    "    PSD_x = plt.psd(x) # should we add more input such as sampling frequency ??\n",
    "\n",
    "    # Step 2: estimating the noise's PSD with a median filter (smoothing the signal's PSD)\n",
    "    b = (np.ones(smoothing_order))/smoothing_order  # numerator co-effs of the filter's transfer function\n",
    "    a = np.ones(1)                                  # denominator co-eff of the filter's transfer function\n",
    "    PSD_noise = signal.lfilter(b, a, PSD_x)    # smoothed PSD = estimation of the noise PSD\n",
    "\n",
    "    # Step 3: calculating the autocovariance of the noise\n",
    "    AC = np.fft.ifft(PSD_noise)                     # autocovariance (vector) of the noise\n",
    "    R = toeplitz(AC[:AR_order-1],AC[:AR_order-1])   # coefficients matrix of the Yule-Walker system\n",
    "                                                    # = autocovariance matrix with the last row and last column removed\n",
    "    r = AC[1:N].T               # the constant column of the Yule-Walker system\n",
    "    B = - pinv(R) @ r           # the AR coefficients (indices 1, ..., N-1)\n",
    "    B = np.insert(B, 0, 1)      # the AR coefficients (indices 0, ..., N-1)\n",
    "\n",
    "    # Step 4: applying the corresponding FIR to the signal's PSD to obtain the whitened signal\n",
    "    # The FIR is the inverse of the AR filter so the coefficients of the FIR's numerator\n",
    "    # are the coefficients of the AR's denominator, i.e. the array B\n",
    "    A = np.ones(1)  #denominator co-eff of the FIR's transfer function\n",
    "    x_white = signal.lfilter(B, A, x)\n",
    "\n",
    "    # Step 5: re-estimating the noise, now for the white signal\n",
    "    PSD_x_white = plt.psd(x_white) # should we add more input such as sampling frequency ??\n",
    "    PSD_noise_white = signal.lfilter(b, a, PSD_x_white)\n",
    "\n",
    "    return x_white, PSD_x_white, PSD_noise_white"
   ]
  },
  {
   "cell_type": "markdown",
   "metadata": {},
   "source": [
    "> ## ESPRIT"
   ]
  },
  {
   "cell_type": "code",
<<<<<<< HEAD
   "execution_count": 5,
=======
   "execution_count": 6,
>>>>>>> 239e6ea4ca6744f716dcedf1ae4116919832333b
   "metadata": {},
   "outputs": [],
   "source": [
    "def ESPRIT(x : np.ndarray, n : int, K : int):\n",
    "    # input\n",
    "        # x: input signal\n",
    "        # n: number of lines in the Hankel matrix S\n",
    "        # and signal space basis W\n",
    "        # K: order of signal\n",
    "\n",
    "        # (n-K : noise space dimension)\n",
    "\n",
    "    # output\n",
    "        # delta: array of damping factors\n",
    "        # f: array of frequencies\n",
    "\n",
    "    N = len(x)          # signal's length\n",
    "    l = N - n + 1       # number of columns of the Hankel matrix\n",
    "                        # Not needed for the 'hankel' function but used in the formula of R_XX  \n",
    "\n",
    "    X = hankel(x[:n], x[n-1:])      # Hankel matrix\n",
    "\n",
    "    R_XX = 1/l * X @ X.conj().T             # correlation matrix\n",
    "    U1, Lambda, U2 = np.linalg.svd(R_XX)\n",
    "    W = U1[:n, :K]                          # signal space matrix\n",
    "    \n",
    "    W_down = W[:-1]\n",
    "    W_up = W[1:]\n",
    "    phi = (np.linalg.pinv(W_down)) @ W_up\n",
    "    eigenvalues, eigenvectors = np.linalg.eig(phi)\n",
    "    \n",
    "    delta = np.log(np.abs(eigenvalues))         # damping factors\n",
    "    f = (1/(2*np.pi)) * np.angle(eigenvalues)   # frequencies\n",
    "\n",
    "    return delta, f\n"
   ]
  },
  {
   "cell_type": "markdown",
   "metadata": {},
   "source": [
    "> ## Least Squares"
   ]
  },
  {
   "cell_type": "code",
<<<<<<< HEAD
   "execution_count": 6,
=======
   "execution_count": 7,
>>>>>>> 239e6ea4ca6744f716dcedf1ae4116919832333b
   "metadata": {},
   "outputs": [],
   "source": [
    "def LeastSquares(x : np.ndarray, delta : np.ndarray, f : np.ndarray):\n",
    "    # input\n",
    "        # x: input signal\n",
    "        # delta: array of damping factors\n",
    "        # f: array of frequencies\n",
    "\n",
    "    # output\n",
    "        # alpha: array of complex amplitudes\n",
    "        # a: array of real amplitudes\n",
    "        # phi: array of initial phases\n",
    "\n",
    "    N = len(x)                  # signal's length\n",
    "    t = np.arange(N)            # array of discrete times\n",
    "    s = delta + 2j*np.pi*f      # log of the pole\n",
    "    VN = np.exp(np.outer(t,s))  # Vandermonde matrix of dimension N\n",
    "    \n",
    "    alpha = np.linalg.pinv(VN)@x\n",
    "    a = abs(alpha)\n",
    "    phi = np.angle(alpha)\n",
    "    \n",
    "    return alpha, a, phi"
   ]
  },
  {
   "cell_type": "markdown",
   "metadata": {},
   "source": [
    "> ## Energy"
   ]
  },
  {
   "cell_type": "code",
<<<<<<< HEAD
   "execution_count": 7,
=======
   "execution_count": 9,
>>>>>>> 239e6ea4ca6744f716dcedf1ae4116919832333b
   "metadata": {},
   "outputs": [],
   "source": [
    "def Energy(x: np.ndarray, delta: np.ndarray, a: np.ndarray):\n",
    "    # input\n",
    "        # x: input signal\n",
    "        # delta: array of damping factors\n",
    "        # a: array of real amplitudes\n",
    "\n",
    "    # output\n",
    "        # EdB: array of energies\n",
    "\n",
    "    \n",
    "    N = len(x)              # signal's length\n",
    "    times = np.arange(N)    # array of discrete times\n",
    "\n",
    "    K = len(delta)          # number of sinusoids\n",
    "    E = np.zeros(K)\n",
    "\n",
    "    for k in range(K):      # calculating the energy of each sinusoid\n",
    "        e_k = 0\n",
    "        for t in times:\n",
    "            e_k += np.exp(2*delta[k]*t)     # the contribution of delta\n",
    "        E[k] = a[k]**2 * e_k                # the energy of the kth sinusoid\n",
    "\n",
    "    Emax = max(E)\n",
    "    EdB = 10*np.log(E/Emax)     # Energy in dB\n",
    "\n",
    "    return EdB\n"
   ]
  },
  {
   "cell_type": "code",
   "execution_count": 8,
   "metadata": {},
   "outputs": [],
   "source": [
    "def ESTER(x: np.ndarray, n : int, K : int):\n",
    "    #x: signal\n",
    "    # calcul de fonction d'erreur inverse\n",
    "    N = len(x)\n",
    "    l = N-n+1\n",
    "    X = hankel(x[:n], x[n-1:N])\n",
    "    XH = X.conj().T\n",
    "    Rxx = 1/l*X*XH\n",
    "    U1, lam, U =  np.linalg.svd(Rxx)\n",
    "    norm_E = []\n",
    "    for i in range(K):\n",
    "        W = U1[: n, :i]\n",
    "        W_down = W[0:n-1,:]\n",
    "        W_up = W[1:n,:]\n",
    "        Phi = np.dot(np.linalg.pinv(W_down),(W_up))\n",
    "        E = W_up - np.dot(W_down, Phi)\n",
    "        Valeur,_,_ = np.linalg.svd(E)\n",
    "        norm_E = max(Valeur)  # not sure here\n",
    "    return norm_E"
   ]
  },
  {
   "cell_type": "markdown",
   "metadata": {},
   "source": [
    "> ## Adaptive Algorithm\n",
    "(Contains ESPRIT, LeastSquares, and Energy)"
   ]
  },
  {
   "cell_type": "code",
   "execution_count": 10,
   "metadata": {},
   "outputs": [],
   "source": [
    "def adaptive(x_full : np.ndarray, window_length : float, hop_size : float, sampling_rate : int, n : int, K : int):\n",
    "    # input\n",
    "        # x_full: the full-length input signal\n",
    "        # window_length: the window size (in seconds)\n",
    "        # hop_size: the hop size (in seconds)\n",
    "        # n: number of lines in the Hankel matrix S\n",
    "        # and signal space basis W\n",
    "        # K: the number of sinusoids\n",
    "\n",
    "    N_full = len(x_full)                    # the length of the signal (in samples)\n",
    "    N = int(window_length*sampling_rate)    # window size (in samples)\n",
    "    h = int(hop_size*sampling_rate)         # hope size (in samples)\n",
    "    I = int((N_full-N)/h)\n",
    "\n",
    "    delta, f, alpha, a, phi, EdB = np.zeros(I)\n",
    "\n",
    "    for i in range(I):\n",
    "\n",
    "        x_i = x_full[i:i+h]     # ith truncated signal\n",
    "\n",
    "        delta[i], f[i] = ESPRIT(x_i, n, K)\n",
    "        alpha[i], a[i], phi[i] = LeastSquares(x_i, delta[i], f[i])\n",
    "        EdB[i] = Energy(x[i], delta[i], a[i])\n",
    "\n",
    "    return delta, f, alpha, a, phi, EdB"
   ]
  },
  {
   "cell_type": "markdown",
   "metadata": {},
   "source": [
    "> ## Signal Synthesis"
   ]
  },
  {
   "cell_type": "markdown",
   "metadata": {},
   "source": [
    "> Synthesis Function(s)"
   ]
  },
  {
   "cell_type": "code",
<<<<<<< HEAD
   "execution_count": 9,
=======
   "execution_count": 11,
>>>>>>> 239e6ea4ca6744f716dcedf1ae4116919832333b
   "metadata": {},
   "outputs": [],
   "source": [
    "def Synthesis(N: int, delta: np.ndarray, f: np.ndarray, a: np.ndarray, phi : np.ndarray, noisy = False):\n",
    "    # N: length of the signal (discrete)\n",
    "    # delta: array of damping factors\n",
    "    # f: array of normalized frequencies\n",
    "    # a: array of real amplitudes\n",
    "    # phi: array of initial phases\n",
    "    # noisy: set to True if a noisy signal is desired \n",
    "\n",
    "    t = range(N)                    #time range\n",
    "    logz = delta + 1j*2*np.pi*f     #log of poles\n",
    "    alpha = a*np.exp(1j*phi)        #complex amplitudes\n",
    "    x = np.sum(np.outer(alpha, np.ones(N))*np.exp(np.outer(logz, t)), axis=0)  #noisless signal (ESM)\n",
    "    if noisy == False:\n",
    "        s = x\n",
    "    else:   #synthesizing noise\n",
    "        Ex = np.real(np.sum(np.abs(x)**2))/N\n",
    "        b = np.random.normal(size=N) + 1j*np.random.normal(size=N)\n",
    "        Eb = np.real(np.sum(np.abs(b)**2))/N\n",
    "        b = b*np.sqrt(Ex/Eb)*10**(-noisy/20) #This is from TP HR. Isn't noisy equal to 1 in this case? Maybe this was originally meant to be a general formula without an if statement?\n",
    "        s = x+b     #noisy signal\n",
    "    return s"
   ]
  },
  {
   "cell_type": "code",
<<<<<<< HEAD
   "execution_count": 10,
=======
   "execution_count": 12,
>>>>>>> 239e6ea4ca6744f716dcedf1ae4116919832333b
   "metadata": {},
   "outputs": [],
   "source": [
    "# TO BE VERIFIED\n",
    "# I think it is better to use the Synthesis function from the TP\n",
    "# since it can synthesise noisy signals as well\n",
    "# The commented lines are used for plotting the signal and the spectrum.\n",
    "# In my opinion they should not be in this function.\n",
    "def synthesis(time, delta, f, a, phi):\n",
    "    K = len(delta)\n",
    "    #N = len(time)\n",
    "    signal = np.zeros(1, N)\n",
    "    #Te = time[1] - time[0]\n",
    "    #fe = 1/Te\n",
    "    #Nfft = 2**nextpow2(N)\n",
    "    #freq = np.arange(-fe/2, fe/2, fe/Nfft)\n",
    "    for i in range(K):\n",
    "        signal_i = a[i]*np.multiply(np.exp(delta[i]*time), np.cos(2*np.pi*time*f[i] + phi[i]))  #PS: This function uses the real ESM not the complex one.\n",
    "        signal += signal_i\n",
    "\n",
    "    return signal\n"
   ]
  },
  {
   "cell_type": "markdown",
   "metadata": {},
   "source": [
    "> Synthesised Signals"
   ]
  },
  {
   "cell_type": "code",
<<<<<<< HEAD
   "execution_count": 11,
=======
   "execution_count": 13,
>>>>>>> 239e6ea4ca6744f716dcedf1ae4116919832333b
   "metadata": {},
   "outputs": [
    {
     "data": {
      "text/plain": [
<<<<<<< HEAD
       "[<matplotlib.lines.Line2D at 0x22cda161820>]"
      ]
     },
     "execution_count": 11,
=======
       "[<matplotlib.lines.Line2D at 0x1a93e1eb7c0>]"
      ]
     },
     "execution_count": 13,
>>>>>>> 239e6ea4ca6744f716dcedf1ae4116919832333b
     "metadata": {},
     "output_type": "execute_result"
    },
    {
     "data": {
      "image/png": "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",
      "text/plain": [
       "<Figure size 432x288 with 1 Axes>"
      ]
     },
     "metadata": {
      "needs_background": "light"
     },
     "output_type": "display_data"
    }
   ],
   "source": [
    "N_synth = 63\n",
    "\n",
    "f0_synth = 1/4\n",
    "f_synth = np.array([f0_synth, f0_synth+(1/N_synth)])\n",
    "\n",
    "a_synth = np.array([1, 10])\n",
    "\n",
    "delta_synth = np.array([0, -0.05])\n",
    "\n",
    "phi_synth = np.array([1.5, 0.5])\n",
    "\n",
    "# synthesised signal\n",
    "x_synth = Synthesis(N_synth, delta_synth, f_synth, a_synth, phi_synth)\n",
    "\n",
    "plt.plot(np.real(x_synth))"
   ]
  },
  {
   "cell_type": "markdown",
   "metadata": {},
   "source": [
    "> Verification"
   ]
  },
  {
   "cell_type": "code",
<<<<<<< HEAD
   "execution_count": 12,
=======
   "execution_count": 14,
>>>>>>> 239e6ea4ca6744f716dcedf1ae4116919832333b
   "metadata": {},
   "outputs": [
    {
     "name": "stdout",
     "output_type": "stream",
     "text": [
      "[-5.00000000e-02 -1.11022302e-16] [0.26587302 0.25      ] [8.77582562+4.79425539j 0.0707372 +0.99749499j] [10.  1.] [0.5 1.5] [  0.         -28.12365928]\n"
     ]
    }
   ],
   "source": [
    "delta_an, f_an = ESPRIT(x_synth, 32, 2)\n",
    "\n",
    "alpha_an, a_an, phi_an = LeastSquares(x_synth, delta_an, f_an)\n",
    "\n",
    "EdB_an = Energy(x_synth, delta_an, a_an)\n",
    "\n",
    "print(delta_an, f_an, alpha_an, a_an, phi_an, EdB_an)\n"
   ]
  },
  {
   "cell_type": "code",
   "execution_count": null,
   "metadata": {},
   "outputs": [],
   "source": []
  },
  {
   "cell_type": "code",
   "execution_count": null,
   "metadata": {},
   "outputs": [],
   "source": []
  },
  {
   "cell_type": "code",
   "execution_count": null,
   "metadata": {},
   "outputs": [],
   "source": []
  },
  {
   "cell_type": "code",
   "execution_count": null,
   "metadata": {},
   "outputs": [],
<<<<<<< HEAD
   "source": [
    "# (can be applied to the original signal and also to the signals filtered with subbands)\n",
    "def whiten(signal : np.ndarray, smoothing_order : int, AR_order, cutoff : float, filter_order : int): ### add input\n",
    "    # input\n",
    "        # signal: the input signal\n",
    "        #cutoff : cutoff frequency of the filter\n",
    "\n",
    "    # Step 1: signal's power spectral density\n",
    "    PSD_signal = plt.psd(signal) # should we add more input such as sampling frequency ??\n",
    "\n",
    "    # Step 2: estimating the noise's PSD with a median filter (smoothing the signal's PSD)\n",
    "    b = (np.ones(smoothing_order))/smoothing_order # numerator co-effs of the filter's transfer function\n",
    "    a = np.ones(1)  #denominator co-eff of the filter's transfer function\n",
    "    PSD_noise = signal.lfilter(b, a, PSD_signal)# smoothed PSD = estimation of the noise PSD\n",
    "\n",
    "    # Step 3: calculating the autocovariance of the noise\n",
    "    N = AR_order - 1\n",
    "    AC = np.fft.ifft(PSD_noise)        # autocovariance (vector) of the noise\n",
    "    R = toeplitz(AC[:N-2],np.flip(AC[1:N+1]))   # coefficients matrix of the Yule-Walker system\n",
    "                                                # = autocovariance matrix with the last row and last column removed\n",
    "    r = AC[N+1:].T                              # the constant column of the Yule-Walker system\n",
    "    A = - pinv(R) @ r                           # the AR coefficients (indices 1, ..., N-1)\n",
    "    A = np.insert(A, 0, 1)                      # the AR coefficients (indices 0, ..., N-1)\n",
    "\n",
    "    # step 4 : applying the corresponding FIR to the signal's PSD (and to the noise's to test that it whitens it)\n",
    "    # FIR 2\n",
    "    b = scipy.signal.firwin(filter_order+1 , cutoff)\n",
    "    FIR_signal = lfilter(b, 1, PSD_signal)\n",
    "    \n",
    "\n",
    "\n",
    "    "
   ]
  },
  {
   "cell_type": "markdown",
   "metadata": {},
   "source": [
    "### add filter banks"
   ]
  },
  {
   "cell_type": "code",
   "execution_count": 14,
   "metadata": {},
   "outputs": [],
   "source": [
    "center_freqs = np.arange(100, 3000, 100) # à nous de définir selon le signal\n",
    "def filter_bank(signal : np.ndarray, center_freqs : np.ndarray, pre_emphasis : float, fe : float):\n",
    "    #input\n",
    "       #signal\n",
    "       #pre_emphasis : pre-emphasis filter coefficient\n",
    "       #center_freqs : centered frequencies in filter banks\n",
    "       #fe : sampling frequency\n",
    "\n",
    "    #pre-emphasis : y(t)=x(t)−αx(t−1), α is often 0.95\n",
    "    emphasized_signal = np.append(signal[0], signal[1:] - pre_emphasis * signal[:-1])\n",
    "\n",
    "    #filter banks\n",
    "    #PSD_signal = plt.psd(signal)\n",
    "    nb_bands = len(center_freqs)\n",
    "    crossover_gain = 10**(-3/20) # cross at -3db of gain for the adjacent bands\n",
    "\n",
    "    #band edges, frequencies\n",
    "    band_edges = np.zeros((nb_bands,2))\n",
    "    band_edges [:,0] = center_freqs*2**(-1/2)\n",
    "    band_edges [:,1] = center_freqs*2**(1/2)   \n",
    "\n",
    "    h = [] #impulse response \n",
    "    sig_list = []\n",
    "    for i in range(nb_bands):\n",
    "       b, a = signal.butter(nb_bands, [band_edges[i,0],band_edges[i,1]], btype = 'bandpass',analog=False, fs=fe,output='SOS')\n",
    "       #w, H = signal.sosfreqz(h[i], worN=2000,fs=fe)  #Compute the frequency response of a digital filter in SOS format     \n",
    "       sig_list.append(lfilter(b, a, signal))\n",
    "   \n",
    "    return sig_list  #pushhhhh\n"
   ]
=======
   "source": []
>>>>>>> 239e6ea4ca6744f716dcedf1ae4116919832333b
  },
  {
   "cell_type": "markdown",
   "metadata": {},
   "source": [
    "### color noise"
   ]
  },
  {
   "cell_type": "code",
   "execution_count": 16,
   "metadata": {},
   "outputs": [
    {
     "data": {
      "image/png": "iVBORw0KGgoAAAANSUhEUgAAAZAAAAEWCAYAAABIVsEJAAAAOXRFWHRTb2Z0d2FyZQBNYXRwbG90bGliIHZlcnNpb24zLjUuMSwgaHR0cHM6Ly9tYXRwbG90bGliLm9yZy/YYfK9AAAACXBIWXMAAAsTAAALEwEAmpwYAABEp0lEQVR4nO2dedwW0/vHP1ebKJUUafdVKJHl0UobSYuyfeUrrcSPUJL6pmwhimzZVXb1tSZLJCTaFEklhEpaPBWlhVTP9ftjZu7mnnuWM9u9PPf1fr2e13PPzJlzrjlz5lxnuc51iJkhCIIgCH4pkWkBBEEQhNxEFIggCIIQCFEggiAIQiBEgQiCIAiBEAUiCIIgBEIUiCAIghAIUSBC1kBEbYjo1+KQFhEtJ6I2Ecd5DBEtJqLtRHRdRHHeSUSFRLSRiO6NIk4hfxAFIkQOEV1CRIuIaAcRbSCi6UR0Wqbl8gMRMREtJaISpnN3EtGzKvcz83HMPCtisYYCmMXMBzPzw2EjI6LTAVwL4DQA9QG0IaL2AeKpTERvEtFOIlpDRJeElU3IDUSBCJFCRIMBPAhgNIDDAdQG8BiAbjGnWzKGaKsDuDiGeINSB8DyIDcSUSmb0wXQFNIPzLwdwEcATgwQ/aMA/oH2vnsAeJyIjgsip5BbiAIRIoOIKgIYBWAAM7/BzDuZeQ8zv83MN+phDiCiB4lovf73IBEd4BBfAyKaRURb9SGhrqZrzxLR40T0HhHtBNCWiKoT0etEtImIVpmHeYjoQP2eP4joWwCnKjzSWAC3O1S+IKKuulxbdTkbmK6tJqIz9d9N9B7Zn0T0GxHdbwrXjIjm6nEscRr2IqKPAbQF8IjeszuaiCoS0fP6864hopFGj4mI+hDRHCJ6gIh+B3CbTbQVAWw3HVeHpgiUIaJyAC4AcDMz72DmzwFMA9DTTzxCbiIKRIiS5gDKAnjTJcwIAM2gtXQbA2gCYKQ1EBGVBvA2gBkADoM21PISER1jCnYJgLsAHAxgrh5+CYAaAM4AMIiIOuhhbwVwlP7XAUBvhed5A8CfAPrYyHc0gMkABgGoCuA9AG8TURmbeB4C8BAzV9DTf0WPowaAdwHcCaAygCEAXieiqtYImLkdgM8AXMPM5Zn5BwDjoSmBfwFoDaAXgL6m25oC+Bla/t3l9JBEVFIfuroQwGzT+Xd0xWb3944e7GgA+3R5DJYAkB5IHiAKRIiSQwFsZua9LmF6ABjFzIXMvAnA7bBvrTYDUB7APcz8DzN/DOAdAP8xhXmLmecwcxGA4wFUZeZRevifATyN/UNQFwG4i5l/Z+a1AFTmEBjAzQBusekldQfwLjN/yMx7ANwH4EAALWzi2QOgHhFV0Vvp8/XzlwJ4j5nfY+YiZv4QwCIAnbwE04fsugMYzszbmXk1gHFIzsv1zDyemfcy818u0T0MTVH/AqAw8fDMXZi5ksNfFz1YeQDbLPFtg6bUhWKOKBAhSrYAqOI05KNTHcAa0/Ea/ZxduLW6cjCHrWE6Xmv6XQdAdXMrGcBN0MblE/FZ4vKEmd+DVrFe4fYcupxrLfIZXAatpf4dES0kIqPyrQPg3xaZTwNwhIJoVQCUQWpeOuWPI8w8AFo+vQVgts/5pB0AKljOVUDy0JhQTBEFIkTJPAB/AzjXJcx6aBWnQW39nF24WmYrKD3sOtOx2ZX0WgCrLK3kg5nZaM1vAFDLEpcqI6ENvR3k9BxERHr862CBmVcy83+gDSWNAfCaPnewFsALFpnLMfM9CjJthtazsealU/64wsyFAO6GNhxWWX+m6fp8i93fdP3WHwCUIqL6pugaI+Bkv5BbiAIRIoOZtwG4BcCjRHQuER1ERKWJqCMRjdWDTQYwkoiqElEVPfyLNtEtALATwFA9jjYAzgEwxSH5LwD8SUTD9AnzkkTUiIiMyfJXAAwnokOIqCa0ORXV55oFYCmS501eAdCZiM7Q52tuALAb2lxMEkR0KRFV1XspW/XT+/TnPoeIOujyliVtfUpNBZn26TLcRUQHE1EdAINhn5dutCaiAl1RXwxggz60CGbuqM+32P111MPshDZXNIqIyhFRS2gWdy/4lEPIQUSBCJHCzPdDq8hGAtgErZV9DYCpepA7oY3zfwOtUv5KP2eN5x8AXQF0hNbafgxAL2b+ziHdfdAUzIkAVun3TIA2yQxocy1r9Gsz4L+CGwm9Za6n9z20OYzxelrnADhHl9vK2QCWE9EOaBPqFzPz3/pcTDdoQ21GXt0I9e/yWmhK9mcAnwN4GcAkn8+1A5pS3gbgSgQzW74a2vxPIbQGwlXMLD2QPIBkQylByE+I6DYA9Zj50kzLIuQm0gMRBEEQAiEKRBAEQQiEDGEJgiAIgZAeiCAIghAItwVfWU2VKlW4bt26mRZDEAQhp/jyyy83M3OKu5wg5KwCqVu3LhYtWpRpMQRBEHIKIlLywqCCDGEJgiAIgRAFIgiCIARCFIggCIIQCFEggiAIQiBEgQiCIAiBEAUiCIIgBEIUiCAIghAIUSA5ztatW7Ftm3VHUUEQhPjJ2YWEgkbjxo1RtmxZfP/995kWRRCEPCOrFIi+F/MiAOuYuYtXeAH45ZdfUKpUVr1GQRDyhGwbwhoIYEWmhRAEQRC8yRoFou8D3RnaNqSCIAhClpM1CgTAgwCGAihyCkBEVxDRIiJatGnTprQJJgiCIKSSFQqEiLoAKGTmL93CMfNTzFzAzAVVq0bijVgQBEEISFYoEAAtAXQlotUApgBoR0QvZlYkQRAEwY2sUCDMPJyZazJzXQAXA/iYmS/NsFiCIAiCC1mhQARBEITcI+sWEDDzLACzMiyGIAiC4IH0QARByDh///03iCjTYgg+EQUiCELG2b17d6ZFEAIgCkQQBEEIhCgQQRAEIRCiQARBEIRAiAIRBEGIgd9//x1vvvlmpsWIFVEggiAIMfDQQw/h/PPPz7QYsSIKRBAEIQaYOdMixI4oEEEQMo6sAclNRIEIgiDEgPRABEEQ0kA+VLbFEVEggiAIQiBEgRQDZPxYyHWKYxnOh16VKJBiQLYW1BdffBHfffddpsUQhIyQrd9llIgCEWKjZ8+euPnmmzMtRl6xfv36TIsg5BGiQAShGFGjRg3s3Lkz02IIeYIokBxkxYoVmRZBsLBt2zb8/fffmRYDAFBUVJRpEQTIEJaQpTRs2BCrV6/OtBhKFMfJUTsOOeQQ9OzZM9NiAMifPBcyjyiQHOWff/7JtAiRsWvXLnz77beZFsOVn376CXv37nW8zsxYuXJlGiUS0sGKFSscexLvv/8+vvjiC8d7pQci5AS53uIcNWoUjjvuuEyL4Uq9evXw9NNPu4bxU2EwM+bOnRtWLCFmGjZsiFmzZtle69ixIy644IL0CpRliAIRMk6mJn1XrVqFyy+/XDn8n3/+GWnaLVu2jCw+IT6yZW4rCsaPHx9pfKJAhAT79u3LtAhpZdq0aZg4caJyeK8ehp8eSJx5nes90mwj6FCU030TJ07Ejh07wogUmOuuuy7S+ESB5Cjmwrlnzx5s2bIlVHxr1qxBqVKlwoqVUZgZP/74Y6bFyDhRKJA9e/aktUGRq0rPTW4nBXL55Zfj7bffjkuktCIKpJjw66+/hrr/999/933P1q1bPSvsdFYM8+bNQ/369dOWXnGmTJkysTUofvvtN2zatCnp3NVXXx1LWlEQREl4UVwm2PNOgbi11JctW4YKFSqkUZroyESB7NevX1ZV2H7nUvwqtyiHsJwoKipCYWFh6HiymWOOOQYFBQVJ51588cUMSeNNcans4yCvFMiUKVNQpUoVLF261Pb64sWLsX379tDpjBw5EosXLw4djxvZUKi3bduWaRFCEXUeRhHfhAkTcPjhh0cgTfaybdu2YqMkjUbIsmXLMGPGjAxLk37ySoHcfvvtAKK1prHjrrvuwhNPPBFrGplk9uzZYOacHbdWYdeuXRmp5H777bfA9xoKzOu9nHTSSdi4cWPgdKIgGxpAw4YNCz13aNCjRw906NAh6Vw2PGPc5JUCMYjixW7ZsgW7du1yvJ7uyjXsM/mRt3Xr1li+fLmvePft2xe74vaLIZud648+ffr47glEUa78vIfNmzfjjz/+8J3G119/rfz+ijNjx47FzJkzAWjvLuoGg1t5KC7KJS8ViBN+XmqVKlXQo0ePGKXJbvx+AKNGjULFihVjkiYcdgv61q1bl3LOzzMvXrwYL7/8sm9ZzApk165drqvf69evj9NOOy1FvuJSOaWTKVOmFPuhwzjICwVy9913Y+3atYnjqD6wX375xfFa3D2QTFcSftP/+eefY5IkPHbPEuT9meMZNGhQoAaGOd1y5crh+uuvt01n6tSp2Lp1a2Dru0yXHycyJZdb7yNb8yobyAsFctNNNylZeURZ6Rfn+YFcx9yYiJI4Khq7Dbl+/PFHnHfeeWlJ/+uvv3a8tnHjxsQQkF+yrVIO+r1GaeL77bff4quvvgokR6bICwUSF9n0EaRbFtUPLhsVae3atbF06dKEbG5zWX7Zt28fNmzYEPj+MPkVRxn466+/HK8NGzYM7du3Dxz32LFj8dlnn9leO/7443HLLbcEjtvMe++95/mOs2HOsmXLljjllFMiT+ubb76JrX7IKwUStR3/jh07sHXrVttrqgWyqKgI33//vVLY9evXJyaiM628Mp1+WHbu3Jl4hl69eqVct3t/KuXniSeeQPXq1QPLZU3Xq4WfjQpalWHDhmH06NFJ54w8XrZsGT788MNI0uncuTMmTZrkeP2vv/7KCu/WbuXrt99+S1jOvfDCCxg+fLhyvI0bN3ZcuhCWvFIgBlFVfitXrkS9evVCxTF16lQce+yxSmFr1KiBiy++2PZaJip0a+V13nnnxbb+xW2+KSxRWt9EFZebYnC65mcS3S2M2SqtuMzlmZ9j9erVSeu96tevjyFDhkSeZpTPdsIJJ+D4448HAIwePRr33HOPr/v37NkTmSxm8kqBeH0MxvUHHnhA2Wulkx256ofnd/W01QWEG8OGDUvE//7776NPnz6OYaOoKKZOnYpp06YBsLdiCgoRoU6dOpHFZ47XYNOmTaGGngDg+++/T4upsrliiqOCN5dJlUpwxIgRvtNQiTfKZzP38o888kj0798/caxSVl999VVce+21kcljh1ueFBYWYvPmzbbX/vjjD6xZsybl/i+++AILFy6MVEYrOa9AZsyYEXkrZvDgwbbWL36Iq+XmJ96xY8cmJuWeeeYZPPfcc7HIZMZ4FxdeeCEA//nwzz//4NVXX1UO7zSE6IW1zLRs2RL/+te/EsdBhrCAcAsBndJVxU2+9957L5J47LAOQwHAwoUL8dBDD/mKJ06sDUK/62cefvhhPPLII77uSdc6kMqVK6Nu3bp4/fXXk843bdoUzZo1iywdO7JCgRBRLSL6hIhWENFyIhqoem+HDh2UhzeMl9alSxfX60B4d9tBK4L169eja9eunuHS0fV/+OGHU8bzvbZtDSvXJ598gosuugibNm3C/PnzPcMfcsghSpXBW2+9lbRmwkphYWHSvg9+5rCifBcq6XoNYVnZvXs3OnfuHJs8dowaNQqDBg3yHa/5GebNm6dkMUdEga2X7Oa/3GSyS7tjx4745ptvfN0XB1GtqvdDVigQAHsB3MDMDQA0AzCAiBrGlVgU/q6iwlrI5syZ4+rqWbXymDdvXmjZPv3005RhHVWnd2XKlAl0n/EcAwcORPPmzZXu2b17t2eYadOmYc6cOYnjn3/+OWlvBNWK8tdff02q1EqWLIkxY8akhAtaefitsFV6Ssbxxo0blRpGXi3tjz/+2DMeVYMVr3Cq64eCbiccxeT5+++/7/seO8UVpMzce++9oe4PS1YoEGbewMxf6b+3A1gBoIbq/VENF2XzOpCPPvrIV/gWLVp4htm2bRtWr17teF21QK5fvz5lGKNECa1o/e9//ws0LxD3XhTWFqPqUNiJJ56IY445JunckiVLUsKZlVW68HpfRxxxBB599FHPsF5zGmeccQY+/vjjULJEjd/vTcXx4eOPPx4o7qAEybMg3g6iJCsUiBkiqgvgJAALbK5dQUSLiGiRn8lkN3799Vf89NNPAOIt9OvWrcOyZctSzlsLp1NhPfPMM5OOo5C1T58+OPLIIwPfb8g6efJkx0qnqKgIL730UuC4VZgxY4ayKbSqk0unlv22bdtc10YYGJZMRUVFtsrQyZlh3JVVVN+Nnf+wKLCW60z67Hr22WcB+PvWvvnmm8RcWjqUaKbN6bNKgRBReQCvAxjEzCnNVmZ+ipkLmLmgatWq5vtS4jrvvPOUWrG1atUKbYprePk1Y5Wpa9euCTM8g99//z2pK6viHj3KPSzSNWbqx42JqkdZM71790a/fv2Uwl511VXK8UZBjx49cPTRR6ecb9WqlW14u+feu3evUn44veu4Khk3maJSMAMGDFCyksqW9TCNGzfGqlWrMi1GgrjzJWsUCBGVhqY8XmLmN/zcW7t27ZRzU6dORWFhYaLyuummm3zL1K1bNzzzzDOe4W677TbPMNZxeiJKWtzz/fffo1KlSin3jR49GsOGDUu6LxPMnz8fTz31VNI5u9ahXWV13333xSaXHUaP0g23SrV9+/aO1lR+K+P58+f7UqB271dljgeA63CkNf7FixcnNSA2bNhgm2+q5e3JJ59MOjYbJNjhJx/dHEqmi88//9z2fJTfYxSKfsmSJWntlWSFAiHtLUwEsIKZ748q3urVq+Ooo44KfP+0adMCjzEaBWvixIl45513bMOYX7TTGPyIESMwduzYlPNFRUVJLZ24C80555yDK6+8Mim99evXx5ae04f5ww8/eFYoYXuUM2fOtPVBBfifm4lb4Zvjb9hQsztRKQv//e9/MWDAgMRxu3btUK9ePbz22muB5HDaktZLmWd6CMaNsO/OeLY9e/agbdu2AJC0luSSSy4JvSmbNf9OPPFEz/mpKMkKBQKgJYCeANoR0df6Xyc/EVSpUiWWwhi2EF1++eWxDJu89dZbSesWwhJ03YP1XlXrm23bttmuH/AawjrmmGPw9NNPu8oQF9ZnM8yH3Rb2ZcPQitM7Ma9O3rFjBwDY5m0Y/DYy0mW9poIhi2F4EJStW7di1qxZAJIt3CZPnpw0LxpV/aXaY42CrFAgzPw5MxMzn8DMJ+p/6iufoDaerzrRGoQ9e/Zg9uzZCfNZwwoJ0Ap3ULfbTlgtm5gZe/fu9dXdj8rSyc/Ha6wAnjFjRqAVzMD+ys6M349Pdf7nt99+c/RIe/fdd3vKEYVZrl+mT5+uZNZqp/hV0+/evbtSuEz3MKJw4eG2HsnJDPiXX37B77//nnTObijXnD9OeWV2sOgmi1/3JlGQFQokKsIW1h9++CHlnPFBbd68OTFkZFYOBgMHDkTr1q0T5rbmipyIbLuqQfahcLvepk0bx8lZYyKSmfHyyy9jyJAhthspBUnXD1OnTnW9bow1x91yd3KuZ52w7dmzJ0466STbsIYNvpusKvMxZsIsJDTo3r2745CSlQ8++ACVK1dOVLRe39D06dMB2Bt8/P3338qKOR2KZfbs2SgoKAgdj933buA0BFWnTp3E2ifjfd14442B0jcvkvzkk08cw61ZsyblXN5MokdB2EJ51113OV4755xzXM3zDJtxw/rk4YcfdozLbhGVquWGW4GYM2cO5s2bZyvfihUrAABNmjRBjx49MG7cOKX0VDB3mb3MRLds2eJqBmu06v3us2ANH7QsWF0/qLRg4/ZN5UbY9ObOnYs//vgjpbXsFH+nTs4jywMGDECVKlUA2Of/unXrEg0ro/e7cePGJIutKIewunXrlrTex69lmBGnWYHs27dPyYzbSzaDL774wvXeKJ0gOvnSCkOxUiBxeNQ0Xr6q7xyVys1ujNJujYgbbpZNTpUBACxatEg5DbeP2TzJbJZ90qRJnpVaUVGRcsWn6tTSSs+ePX37LgLsh8cMwjZQJkyYEMgLwmWXXQYAeOyxx2yvL1iwIKVydBoaMQ+lmn0nRdEjMFwKffTRR7brXGrWrJnScFm6dCmef/75wGk+8MADAJK/sd69e9u6QDGUm1/McV9//fU46KCDbFv7QfDyUWZdEKzSUDKfMxR2QUEBzEsfoqJYKZAHH3xQOSwzo3Hjxp7hrC/MyaLKYPLkyZ5xHnjggQkZzPKo4NcPUlxDBWa38maZVIZCrNfs5m2MOM3uRqy4OYd86aWXIp8QdkJVGfbv3x/Tpk1znQ+zi+t///sfACRZTZlp1qyZq+WNOb+tZumjRo1KChO0R2O+78wzz3Scb7Q7H3Rx4549ezB48OCU888//zxmzpzpaPTgRosWLVK+YfOzGY0lVTc71vvdrtl9M34afJmgWCkQPxQVFdk6QLNivGDj5Xq5R/YzUW+nQIJ6MDVXLnHsP+72kYdVUnarw+0+ugULkp0T2FlxRSmXKn4aAsyMRo0aJY737NkTymrGSC+utRJNmzYNvWMjMyfep926qqBKy+xvbeXKlUlyOr2Hm2++2TXOefPmJbYkMLCbA/HjQ8vvkJcXTibmBnm3DiQIzOzbJbMbVlfIBmHGmI0ejkqvwXBa6LTFpxdffvll4neTJk0Sv/v3749nn33Ws1BFPXYfx1yAMT9hmETGgd+5Fys//vijZxjzxGunTp2SesJBrbbc7lNpLbvNDwR1mW/gZ2dBuzyePXu2Z77897//xZAhQxJDhMxsG9edd96pLItB2LLs1osOE/eCBQsy4oHXTM4qkK+++gqVK1cOfL917DFIwfLC6OGoKBDD744XfgvcypUrHcfO4ySswnIbFzcsgcxxmBVoGKyNEr/57XcDn5kzZ4YyL3dSIB999BGICBs2bPA9v6aKWe59+/bZbr+7b98+dOjQwTUeL+skI50XXngBs2fPBmA/z/f444+jQoUKnnL7xc86JztU50v8xt2sWTPbdTZ//fUX3njDlzOPwOSsAgmLdc8NJ1v/OK1qPv30U9/3BJXHq3A2bdoUAJJWImfaht8Pdq4zopY/GxYFWjFkcrLWUdlPwy4+FVT2a2nXrp2v9N3o1atXYqjWsHp0I6r372bGq5JfKo2b7du3J4YyhwwZkpibCsJrr72GCy64IPD9fshbBeIHZrZdI6KKUyHzGsOPCpUPyRinNVr3fvBbsd53332RLKxMR4XuNK7uNQ5tRaWHu3z5ct/P5DUBbfVR5YVdWfFjnBKWoqKilPmcIIogysaD3TuJeujI3HMaN24cbr31VmVZrLgpvKgplgok6sJz9tlnh4ojykntIJWmV35MnDgx6XjXrl2YPn16ymSiE3bj/m5y3n777a5rblTxW4kHwezw0kyDBg0Sv1VMc439Qdwmuxs1auQ5Obt582Zfvr6cFkz6wbxpUdz06dMHderUcbzu59uOak1JLvXEAWDKlClpS6uUVwAiOhlAZwCNAVQCsBXAEgDTmTkrbcyiHv9Lp3OyOGBm14nQV155JfF7wYIFuOaaa5S8EBvYDWUEmQPxY43kZ5OqTZs2Bd4PXkVhq+w3/sEHHwCArWNMM1755ndjsajYvn17oCFXvyxYsEDJf5bXe4mi0jfScOsth02nqKjI1wLHqF0ihcVRgRDRWQBGAzgYwKcA5gDYrh83APASEe0AcBMzf5AGWZW58MILI4vLWlDDjE1mCuu2tG4sX7481CZTqhQWFgJI3lHNz+p4L3NMYP/H/cQTTwT2+2V+/2E8pxqyOG0kpYp5/Y1d/GFxqpjjmJy2w2thnOpzhsmPnTt3xhKvHR999JGv+irI4tg4ceuBXAngKmZ2NCsholMBDAOQVQqkOBNkCMtLgVi390znZHGPHj0Sv/04V1Sxw1++fHloCyRzXkQxFxBX3ubaMIsTUW1EFSY/jKFbsw+qOHnzzTfTkk4cOM6BMPMFbspDD7OQmaNr7mchRJSRjzOIy4u4CFLppWO4Q4WgHn/jorhU9HHhlT/ffvutUh7u3LkzdF6rNFLceiv5gOccCAAQ0WJmTnFJSkSLmDm8u8sIiXqv5kyZblaoUMHWrj4bTUmzmXXr1ikbA6QDp8WvXjv4eWHuyYVhyZIlkcQTFJVKX2XdzA033IBy5cpFIVISKqbL+YSqFVaK2Ye+i2B0OxpFhJsX3CAQUaSVtpf3TTN24+VROXHLdVRbl2HzK10K23BEGLTVHFWP1c98WRzYmcfa+U4zvEu7EaZ34LQuLJ2bNWXDVr5euPZAiMhYDlzG9NugLoDUTbEzjIorCT9s2rQp0hdpLNhTwa43per2XdAIaxMvPb70YldBGwYXBm+99VZir424UPUMESfWuclsxGsI6yeH3wzNKuvVyCUKiYqDRD8Y9vuZIFPj5W+//XZG0vWDasUeVgGkS4EYm3vJHEkq1rUs6Zh38OMsMS5yoSy4KhBmvh0AiGh+tpnqOhHUGWE2kgsFKNvJlR5E3759AaR31Xeuki/fhXV3zGzEsX9PRAkXoW7KwxxOiJaoDQLykbDrLtKtgDI9B5ELOHnOLm5ceeWVmRbBE7ceyKNE9CeAFwB8ysyJ5aFEdASA1gB6ASgPwH4jbiEU+dLSCoJd3mTDsIMQPytXrsy0CIKOowJh5tOIqAuA/wMwkYj2Yf9KdAIwE8AjzOztx0EIhPRA/KGyG6RfcmUITIgWee9qeM2BvAPgHSIqDaA+NF9YfwBYyczZb2OW40gPxB8vvfRS5HG67S8vCPmO0kJCZt4D4FsiKgHgcFEe6UF6IM4E3UdbEFTw46wzn1EykieiQ4joZQB/A/hRP9eViKLfxk9IID0QZ9K145qQn8S9zqS4oLrK6nEA2wDUAWDMVM4D0D0OoQSNsBZEgiAIcUIqrVwi2gSgOjPvIaLfmbmyfn4bM1eMW0gHmaR5LgiC4J8vo/JhqNoD2QagivkEEdUGIEbrgiAIeYqqApkA4HUiagugBBE1B/AcgCdik0wQBEHIapSssACMgTaB/iiA0gAmAXgSwEMxySUIgiBkOUpzINmIzIEIgiAEIrI5ELc90dupRMDMH0chiCAIgpBbuA1hTbQc14Dmxn0LgEOhuTP5FVm4qZQgCIIQP26+sI40fhPRTdCUxs3MvIuIDgIwCpoyEQRBEPIQ3+tATOdKA1jPzFVjlM9NJpkDEQRB8E/a14HsBNDEcu5UALuiEEIQBEHIPVTNeG8G8D4RvQ1gLYBaALoAGBCVIER0NjSz4JIAJjDzPVHFLQiCIESPshkvETUEcAGA6tBWoL/GzN9GIgRRSQA/AGgPbWJ+IYD/uMUvQ1iCIAiBiN+M14pemUeiMGxoAuBHZv4ZAIhoCoBuMaYnCIIghERJgRDRC9BMeFNg5l4RyFED2tCYwa8AmtrIcQWAKyJITxAEQQiJag/kR8txNQAXAohqCzi7/SNTFBYzPwXgKUCGsARBEDKN6o6Et1vPEdFEALdGJMev0CbmDWoCWB9R3IIgCEIMqJrx2vE1gNYRybEQQH0iOpKIygC4GMC0iOIWBEEQYkB1DsTqF+sgaJV8JJPczLyXiK4B8AE0M95JzLw8irgFQRCEeFBdib7KcmontB7IzcxsvZYWZA5EEAQhEOk14zX7xRIEQRAEQHEOhIgWO5xfFK04giAIQq6gOolez3qCiAjiyl0QBCFvcR3CIqLn9Z9lTL8N6gKQiW5BEIQ8xWsO5CeH3wxgDoBXI5dIEARByAlUrbA6MPMHaZBHGbHCEgRBCERa9kRvxcyz9cM9Tnuky57ogiAI+YljD4SIljFzI/2301oPZuaMTKRLD0QQBCEQ8fdADOWh/5Z1IIIgCEISYXxhCYIgCHmM2xzIWjjsAWKGmWtHKpEgCEIe0aZNG8yaNSvTYgTCzYz30rRJIQiCkKdUq1Yt0yIExm0O5NN0CiIIgiDkFqq+sMoQ0SgiWklEO/X/dxBR2bgFdKNu3bqZTF4QBCE0pUqpbgwbnCuvvDKWeFUn0R8H0A7AdQBO1f+3BvBYLFIpUr169UwmXyw488wzMy2CIOQ1JUrEb8v0xBNPxBKvquTnAujCzNOZ+Vtmnq6fOzcWqYS0cfnllwe+98477wQAfPnll1GJIwjFmqpVq6acK1myZAYkiQZVBbIR2i6EZg4EsCFacfyh4oZFiA/NITNQv379DEsiCLmBXZ2Vjh5IXKhK/gKA94moPxF1JKIrALwH4Hkiamf8xSemkAscf/zxmRYh7dxyyy2ZFsEX6Zg3vPjii2NPoziRDwrkSgAHA7gJ2rzHcAAVAPwfgIn634Q4BHRDeiD+KFeuHIqKiiKLz+iBGLz55puRxS2k8thj4accDzjggAgkccdaLgR34hzCOvDAA2OLG1BUIMx8pMJfTmwutXjxYnTu3DnTYmSEq6++OtL4jIrCUOTpqJzymTPOOCN0HOmo3EWB+CNOK6wGDRrEFjdQDF2Z/Pzzz67XTzzxxPQIkoW0bds20vjyvaLo169fpPGlYyijefPmsafhVS4KCiLx45eT2I2a+O2BvPLKK67X27dv75pelKiuA2lMRB8T0e9E9I/+t4eI/olVugCoVGpRVHyHHXZY6DiygUwpgSlTpqBcuXKxptGpU6dY4584cWKkH6hXXFGk9fjjj6NixYqh43HDXKbatGkTa1rZwDnnnOMZ5l//Sh2gOfnkkwH4bzhYy0HZss7L8eJeY6Iq+WRoOxC2AtBA/ztW/5/zBKlEW7VqFWiysH///knHcX/MZogo5VmthfGmm24KHL+fCq579+5Ytcppl4Bkjj76aJx11lmRy2P9cNesWeM7jWznqKOOSjouUaJE7D0do4wdeuih+OSTT2JNCwCaNWsW6L4FCxbg2GOPDZ2+Sv1xzDHHOIYN25CyznOY0zjuuONCxe2FakmqBuAWZl7GzD+Z/+IUzguvCuKQQw5RiiedVhCXXHJJ0vENN9yQdBz1hNrhhx8eaXxm+Yx8C9oyVlXc9erVw0EHWa3IvfFSzl6ts2HDhnmmEWUvx28+9ujRQznOKlWqANDyPOphDaty93qvUadvTu+KK65Qvq9JkyZo1y6c8ajf4Tjzs5sVbZSY8yPuEQbVmvM5AJd4hspRos5k8xiklfLly7veG/XH5Tc+r7wIUziDjr8TEaZOner7vgEDBgRKz0DFLNnOLPbVV1+1DRv1/Nv//d//+b7H7Z29/fbbgeQYPXq0chpRYjXisGI3bBQ1CxcujD0Ng/fffx9AdlmfqiqQewDcQUTL9bmQxF+cwgUhyByI3T2LFy8Onc4FF1yQdHz//fejUaNGaNKkSeKctcdx7rnnesYbFBWZS5cuHVv6c+fOTTo25Fm0aFEk8S9dujTpOGzPMuh82oUXXmgbVtWEukaNGrbng1QcRpqGnCVKlHB8LnO5DIMRv1M6UVWAdsOa5rjD9i4MorBksssLu3PWIUczHTp0sD2fSYWi+oW9BmAVNJ9YL1n+shbVjLUbNjrqqKNSVlibxxNPPvlkx/iN83YFpGzZsnj55ZcTx+ZK7qqrrsLrr7+uJLMqXnlw9NFHJx1bLbVuvfXWpOPrr7/eMa6gykelpW833GR1g92oUaOkY78fljV8EAXSrVs3x7CqCqRUqVKJCVY3VJ7PWhbjGMJyapBl2kWHn56Qmwm60/qmSy9V2/GiSZMmuPfee1PO29UT5513nlKc2YKqAjkRQEdmfoSZJ5r/YpQt41iHJ8wveujQoZGkUbNmTdv408VJJ52UdNyqVauk49tuuy3p2PB/ZUfJkiXxzjvvJI4nT57smrZXS9Uczm4OxE2ZAf4VSIUKFWzlc8Pay3G7x6xA3CrXkiVL2vpMCoKRB1558dNPwacznRSIU17EWc6dnrNSpUqu9zVu3Njxmpe8Xbt2db0+cuRINGzYMOW8tXcYFLcRlWyZA/kMQGoOZJioWlJOQx3W+L2ODYyXdtxxxyUtWrT7sOrXrx/JczgNP5gVVNTYjUGbvftGNTlIRDj//PMTxyeffDLOPvtsz/v8mDAyc4rRRdQm4WYF4mbx5SR3kHJi3NO3b1/XcHHMF7gNYc2dOxcPPvigZxxRlV+n+Z2hQ4di0qRJoSrayy67LKXh5YT53dq9TxU5VOuhdKCqQFYBmEFET+r7giT+4hQuLF4VvIGdAvFToKy27ka6pUuX9vR2G5UFmNPwyHHHHYcPPvgAQDStEa84DjjggER+qE7Iq8hltNibNm2KuXPnYvr06Z73NG3aFJdddplnuDCYZe/Vq5drRW1+R2XKlHEMN2rUKF/DU24Y8wRjxoxBYWFh0rWZM2d63h8Gt7LdvHlzpZ34fvnlF88wTr05p5b4Lbfckph3q1OnDvr27eualyrls0uXLp5hDFl//PFHAGrv7+CDD3a9PmnSpJRz6dhfxEC19joIwLsAygCoZfqrG49YwTFetnXoxcytt96KRx55JOUeKwMHDrSN22DcuHEAgOuuuy6IqADCKRCzaxK3wui0hsJ8j1cX3+t+M6rm0wZ+FNshhxySGK9WUVBNmza1vabSYvTTA2nZsiWee+65xHDG4MGDU8Kax9mdhqiICN27d7fNW3O+ermNueyyy/DRRx+hZ8+ejmlaXaMEbWD4HapSHVZTlck8hGRnJms9X7FiRZxyyime8XrJYD5vXd9l0L59+6R5xRIlSiQUp90ciFWpOvVSKleujNNPPx19+/ZNGd5N51C4qi+svuY/AA8A2AIga3cjatSoUSLzJ02alGTBcPLJJyeZeDpluFerwuheq74wu3BR9UDCdGN37tyJ7t27RyKHHU4Twn4KuvF8Y8eOTTln5cADD0xUEG5p+DFZ9gpjHSJp0aJFSlhjmMit8nczTa1WrVrivJsRBwBMmDAB7dq1Q+vWrbFu3TqPp4iHoBXZxo0bU9ZLuWHugaRzOEdlrmHQoEFJpvt2Q1jme62NVuvzzJw5E+effz5WrVqVMOudP3++krxxbLugXHsRUVUiGkhEXwFYDKAAwECP2zKG+aX07dvX1TxOtaAHKZyqcd9xxx2hnB2Gac0ddNBBgZSgU2Vnjev+++8PJBcAjBgxAoMHD06koWKx9frrr6fY5zdp0gRffPGF570qnH766ViyZAkA52G4ffv2pdwXtHKzWsIB9grKiUzt3Ok1t+j03g8//HClhaPZtB5C5fu57bbbcPvttyeOrflQqVKllOE46zOeccYZKF26NCpUqJDIo1q1ainJeNVVVymF84OrAiGi0kR0ARG9DWAdNLfubwLYBuAiZrZfMZUm/BSgf//7344mlkFaSlFZOhj3jhw50pfbgXnz5iUdm90ZXHTRRYnfRxxxRGDZzBjDH055/uijjyYmzb3ei1HwVfLtzjvvTJljMnAbWrBeq1y5Mk499VTP9FQgIpxwwglJMvhRIMb/wsLCFE8Eds9kZyFk14sJMgwZBUGtreJWAFF/o2HD3HrrrejVq5dyul26dPHl4dqqSNKx0ZtXD+Q3AE8C+B5AM2ZuyMx3ANgdu2QKdO/ePWlIA0j+oK+55prE+TZt2jiuZlZd5OP3Q3Ezr/O618CuIgJS/f+YWy6G+XG9evVczW5V2bFjB+64446U82YfPldffbWjSau1onj++edTwp1++umh5bQj7Hhwnz59ko5LlSqVtALcSYG0aNEiZeW51dChatWqjhPARp516NDB8xmMhYtR7/1gTffQQw9NuESx8uSTT3reHyZtg/vuu8/1PielFGao2JDFzWmhn2c1wqqsC/KaRDdjzPtmkxnvNwAqAWgK4FQi8jc7GjNVqlTBjTfeaHuNiDxdR4wZMyYRNgzW+81d06ZNm6b4S/KTXpCCb6yAP+yww1ytfVQpV66crWXH5ZdfjuHDh6esn/DCWukSEWbPnu1bLnM+mudwgihqp/itE81PPvkk/vOf/6TEa31PderUwYcffph0zk+L2whrp7itYQwjjrFjx0ayEO3SSy9F8+bNfSkkOx9URp6Y1wYB7vmwfPnylHOff/55YvjF2mNzw0gnrLNCIx6rEYJKRe32rFdffTX69evnao3op8wYjTBzTySj7tyZuQ2AowDMADAEwEZ9OKscgEh8XhDRvUT0HRF9Q0RvElGlkPEl/XfDbTFgFKZw7du3R7Vq1fDuu+8mnXeyFAmDXZwqPSA3vIwISpUqhdGjR7suiqtVq1YkDh3tPgTzOXN3PcoWmFPjwHpdJR036yPreLjRc/QzfNKqVatQ/raMeF544YUUtzMq9xkYz2IMVao2YpjZdsFdy5YtbZ0WepUJr7kWr7isjB8/3tHzb5ByNmDAAEycONF1DY4fBVCiRAls2bIlMeeYDmssz+YtM69h5juYuT6AMwBsAFAEYAkRjXW/W4kPATRi5hMA/ABtu9y0YtfK9zP26FRRWwt92PUmVpwKV7169QLHaXDJJZfYLr7y2yP65ZdfPB1IOmFePBh0L++oh1Gc3nVUlZQRj+F4snr16so9vNq1a8daaTg1qpzSfOutt2zPq+SDtZxF2ZL2aulbXdAb4bt16+a4rihMvqssilWhRIkSqFy5cpLCzvQQVhLM/DkzXwHNvfu1ALxNYrzjnMHMe/XD+QACLT0tV64cVq5cGUgGt0zesGGD5z1erVQDv5VvkPmLu+++2/c6DBWMZ/Tj38hp7Ngpv91WHY8cORJbt25ViifOj8b6/G4KxHrOGPNWrQyZGdWrV0fbtm1dd9oMW7k6rYmwxjt37tyUc5UrV07sdWFApPnbOvLII5POm9ekeBHFBLCq7zEg+VmtRhvm97h3717b8+bf33zzjXJaXqhsKQBoe5tY8zsdBJpZYua/mXkyM3eMWJ5+AByXGBPRFUS0iIgWAVrhNWNueRuFOCzVqlVLfCCqK9udsKts3O4dMWJEyjmnPS78tG5VCqVVLicPsSqyVK1aFZs3b/YMt3bt2iTfXGYZSpYs6bq/h1+lEVTJOBkKqIxfqyygc1JEdpVD0PJ9++23J5kGm01L3TAPtRi9kREjRigPUbXVF9QZPdKgq7+thg1m7Iaw3ML4xcmoxSyviqm5Ktdccw0WLlyIIUOGuIazc2VkzcNLLrnE0wjBL2nZSYmIZhLRMpu/bqYwIwDshYuHX2Z+ipkLmLkAsB+jNzJNxZup9R6XdJXjCpOOClbvuapUrVo1oQiD7MLWoUMH/Pnnn4HSBqLfNMeNqOZAyMYc2EmBqPQuVXwfpWPc+rrrrrP11ODWkx4+PHlkeffu3bb32GFtfATZ26V27dpK4ZzmQMJ8w356INYtBbziU6GgoMDWm69fDj/8cF9GCCqkRYEw85nM3Mjm7y0AIKLeALoA6ME+3rRbRVGzZk3lQqO6213YIROjkjFXNmHMC1VaWwaFhYW+V85bUTUpjGNeJyyGTEYFYE7ntNNO87zPwE8PRHVoMyinnnoqhgwZEpnCdLNW6thRG2wwnsFPuW3YsCGY2dGaCfDeE6Z9+/b4+++/AaQOuTVv3tyX92JVaye7npVXD0Slp56uBZBZMYkeN0R0NoBhALoy866w8VWrVi3ho0qVKlWqYMuWLY7XTzrpJBx22GGO1/0OYdWuXRsff/yxr3tV4w4iV9R4fSCZkMuwTrKbw/nss89s7yEi1KlTJ+mc1f19VFZY1vi8KCgoQPny5XHvvfdGViGVLVs2I6u7mVnJN5Vh2HLNNdckKaQWLVqgsLAQM2bMwD333JMUrx8ZrNgpA3MPxIzTe7PuURNUFr+0atUKXbt2jf1bS5/bRmceAXAAgA/1h53PzP736tQpWbJkwpFdt27dHLcXtWKdTzHz4osvYt++fbamhOPGjVNeBGe02ogoZeMmVcyFy85OX6XANGnSxNOqKYqCFyQOPx+PXfwdO3ZMMmW1msWaz6vI16JFC+zbtw8lS5ZEnTp1Uob//CgQY1LXqZX67rvvKs0nuOVRlJ5Yzek4DSH5ecdxhTUwbyV9/vnn+zLjVZWlSZMmqFChAv7880/bnp+5gTJo0KCUBogqN910U9LWCH759NNPAQDPPfcc3njjjcDxeJHxHggz12PmWsx8ov4XWHlYKVu2rOP2on4oVaqUo1nv4MGDE13/U045BYWFhb6ssPz2HMzXzK4rrK3b3r17O3oIbdCgAVatWuWYRtu2bSNZkBbEKiRs6+u9995LWi3tp4IH7F2/uA3XmBsFVszWZ3Xr1k0sXHVS3p06dQpVaQDAtddei1mzZvm6x6mSM5cpI0yYLY+t77agoCCwebYXN9xwQyI98zbRF1xwQWI4zk02wP69t2nTBtu2bUs5b7x/83C4U5lTKeN33XVX4Eammd69e7uOroQlG3ogkZAN4+7NmjVzHYu1W1BnZ+MfRB7rPc8++6zvOAyM4bWwOFUO6RzC8pvWt99+mzCDVrnXTUGVK1cOzAwiQv/+/ROWMnEOE5UrVw6tW7dWDu8mS8WKFVMMJ+bOnZuYiwhL/fr1XRsyQVm4cCFOOeWUhHuV5557LrEw8rXXXrO9xy0fjjjiCLz44ouuaZYoUQIffvhhWvfiyAby62ljxq3C2bJlS8r6jL/++svVv44XKlY9mcDN3Hbw4MGue3GMGTMG3333Ha6//vpInqVt27aOruqPPfbYlLUlfh0SEhHmzJnjKuvw4cOT3J/E1eqOmsWLF6dMGsexc2FQnCp9Y6jZzzoQN4gIPXr08Ayn2nvMhm80KjI+hJVtFBQUYPXq1bbXevbs6bn/sROVK1dOKThOysMazqv1A/jbpCduxo8fn9h1zcq4ceNcFzqeffbZGDRoEIBonqVmzZqYMmWK7bXPPvvMddGX6ofu5Vp99OjRieG8P/74AxMmTPCdRiaoUaOGp/msH/nDzm+lGy8ZgsoYdj1ZNiEKxMJhhx3mOCY8dOjQQDbsYTG3fho0aJD29P1y8MEHu+6/YhCl99ggH1/58uVtTZPj3Oq1UqVKvtzkZDvmRpCfTaDSgR8zd9U5kDjJhsafX4qNAkmX9nZblBSnSS4APPTQQ5g4caKjLXqUMqSDMmXKRGLSGjVWD7wGcchz+umnK+0Nno0sWbIE/fr1Sxy/9JLjGmAA6X+fYc14vQwwcvW9RYnMgViIopB37doVO3bsCHz/sccei3/++SflfJcuXRwn6XKx9RIW410NGjQoaY7Bz71+wsSRx506dXL0t5btGJtqqZLuMhpWgbhd27Bhg6vpf75QbHogYYjaVcnAgQOxYMGCwPEsWLAAX331lWP8Bv3798f48eMDpxMU626ImeaBBx4I5J5FyF6iaMiF/a7dZKhWrVoke+2oppetiAKJiMceewwDBw6MJC6nsXnrB1G9evXErovGnEObNm0ikcGNdLQkzz77bPz73/+OLX4/ziedjoXM4vUOw1phyfv2ptgMYWX6ZcexYb0qPXv2xJVXXuk5Bp1LTJ/u6JQ5IzzzzDOR7S9fnGnZsiXOOeec0PFE/T0HmUSPcgV7caXYKJB8wKlAWvcYD0KHDh0cfUIVR/x+3G4uxIX9fP75547XOnfuHKk32DvuuCNplbmV6tWrK8cVR6/ajzv56dOnB954LZMUGwUSRtv72SSpuHLuuee6fozZSNwtvFxpQRYUFGD06NGZFsOTatWqRbofRYsWLVzX4PiZo+jSpQvWr1+ftLA0ne8/ql0J002xUCD9+vVL8n/kh6+//jrwvekmVyo0Ib0ceOCBKft15DpRlHU/uxqOGTMG/fr1SzLGICIsXLgwsP+vfPhec1aBmE0IJ06cGDiexo0bJx1n80vPFlPdbMmj3r17+3Y9AmhDH02bNvUMly3PKQTjsssuQ69evQLfT0S2HrjDUpwWkuasAgnjFVQoHlSuXBl9+/b1fd/IkSM9wzRq1CilcSHkFkSUGMZKd+OrYcOGjr6xvBbQ5hI5q0DioFGjRujQoUOmxXBEWsTpQ2VrUqF4cdRRR+GBBx5IHIf53pYvXx6FSFmPKBATUmkIQnaQicZSqVKlEo48BTVkIaEgCIIN0uP3RhSI4JviMn4rZC9SeecGokAE35x00kmJ7VkFIQ6yYdMtUWLeiALJIbKlQJctWxZDhw7NtBhCMaZz587YvXt3ZPEFUUjZ8r1lMzKJnkNIgRbyiSi93daqVcvX0OvLL7+c2EVScEYUSI4we/Zs1KpVK9NiCEJe4Hd/mXxFFEiOcPrpp2daBEEQhCRkDkQQBEEIhCgQQRAEIRCiQARBEIRAiAIRBEEQAiEKRBAEQQiEKBBBEAQhEKJABEEQhECIAhEEQRACIQpEEARBCIQoEEEQBCEQokAEQRCEQIgCEQRBEAIhCkQQBEEIRNYoECIaQkRMRFUyLYsgCILgTVYoECKqBaA9gF8yLYsgCIKgRlYoEAAPABgKQH3LMEEQBCGjZFyBEFFXAOuYeYlC2CuIaBERLdq0aVMapBMEQRCcSMuOhEQ0E0A1m0sjANwE4CyVeJj5KQBPAUBBQYH0VgRBEDJIWhQIM59pd56IjgdwJIAlRAQANQF8RURNmHljOmQTBEEQgpHRPdGZeSmAw4xjIloNoICZN2dMKEEQBEGJjM+BCIIgCLlJRnsgVpi5bqZlEARBENSQHoggCIIQCFEggiAIQiBEgQiCIAiBEAUiCIIgBEIUiCAIghAIUSCCIAhCIESBCIIgCIEQBSIIgiAEQhSIIAiCEAhRIIIgCEIgRIEIgiAIgRAFIgiCIARCFIggCIIQCFEggiAIQiBEgQiCIAiBEAUiCIIgBEIUiCAIghAIUSCCIAhCIIiZMy1DIIhoE4A1mZYjS6gCYHOmhcgSJC/2I3mxH8mL/RzDzAdHEVFW7YnuB2aummkZsgUiWsTMBZmWIxuQvNiP5MV+JC/2Q0SLoopLhrAEQRCEQIgCEQRBEAIhCqR48FSmBcgiJC/2I3mxH8mL/USWFzk7iS4IgiBkFumBCIIgCIEQBSIIgiAEQhRIFkJEk4iokIiWmc5VJqIPiWil/v8Q07XhRPQjEX1PRB1M508hoqX6tYeJiNL9LGEholpE9AkRrSCi5UQ0UD+fd/lBRGWJ6AsiWqLnxe36+bzLCwAgopJEtJiI3tGP8zIfAICIVuvP8bVhppuW/GBm+cuyPwCtAJwMYJnp3FgA/9V//xfAGP13QwBLABwA4EgAPwEoqV/7AkBzAARgOoCOmX62AHlxBICT9d8HA/hBf+a8yw9d7vL679IAFgBolo95oT/DYAAvA3hHP87LfNCfYzWAKpZzseeH9ECyEGaeDeB3y+luAJ7Tfz8H4FzT+SnMvJuZVwH4EUATIjoCQAVmnsdayXjedE/OwMwbmPkr/fd2ACsA1EAe5gdr7NAPS+t/jDzMCyKqCaAzgAmm03mXDx7Enh+iQHKHw5l5A6BVqgAO08/XALDWFO5X/VwN/bf1fM5CRHUBnASt5Z2X+aEP23wNoBDAh8ycr3nxIIChAIpM5/IxHwwYwAwi+pKIrtDPxZ4fOevKREhgN0bJLudzEiIqD+B1AIOY+U+XodlinR/MvA/AiURUCcCbRNTIJXixzAsi6gKgkJm/JKI2KrfYnMv5fLDQkpnXE9FhAD4kou9cwkaWH9IDyR1+07uY0P8X6ud/BVDLFK4mgPX6+Zo253MOIioNTXm8xMxv6KfzNj8AgJm3ApgF4GzkX160BNCViFYDmAKgHRG9iPzLhwTMvF7/XwjgTQBNkIb8EAWSO0wD0Fv/3RvAW6bzFxPRAUR0JID6AL7Qu6zbiaiZbknRy3RPzqDLPhHACma+33Qp7/KDiKrqPQ8Q0YEAzgTwHfIsL5h5ODPXZOa6AC4G8DEzX4o8ywcDIipHRAcbvwGcBWAZ0pEfmbYekD9bi4rJADYA2AOtVXAZgEMBfARgpf6/sin8CGiWFN/DZDUBoEAvSD8BeAS654Fc+gNwGrRu9DcAvtb/OuVjfgA4AcBiPS+WAbhFP593eWF6jjbYb4WVl/kA4F/QrKqWAFgOYES68kNcmQiCIAiBkCEsQRAEIRCiQARBEIRAiAIRBEEQAiEKRBAEQQiEKBBBEAQhEKJAhIxDRCN077Lf6N5Em8ac3iwiKoggnnOJ6BbT74ama6OI6MywaSjKUZeILokh3vuIqF3U8QrFB1EgQkYhouYAukDzuHsCtMVxa93vyhqGAnhM/30uNC+nAABmvoWZZ6ZJjroAIlcgAMZD8+IqCLaIAhEyzREANjPzbgBg5s2su2UgoluIaCERLSOip4y9CfQexANENJu0fUJOJaI39H0P7tTD1CWi74joOb1n8xoRHWRNnIjOIqJ5RPQVEb2q+9wCEd1DRN/q995nc9/RAHYz82YiagGgK4B79R7UUUT0LBFdqIddTUSj9XQWEdHJRPQBEf1ERP9nivNG/Xm/IX2vD5t0W+tpfE3aXhgHA7gHwOn6uetJc7h4rymuK/V72+h59qb+bE8QUQk9/LN6Pi8louv1d7EGwKFEVC3guxWKO5leRSl/+f0HoDy01eU/QGvNtzZdM6+cfQHAOfrvWdi/t8FAaP56joC2v8Gv0Fbg1oW2gr2lHm4SgCGm+wsAVAEwG0A5/fwwALcAqAxtha6x0LaSjdx9AYwzHT8L4EK7Y2h7NVyl/34A2krygwFUheYUENDcTzwFzaFdCQDvAGhlk+7bpmcqD80hahvoq7H181cAGKn/PgDAImj7PrQB8De0lcslAXwI4EIAp0Dz7Avr8wJ4GsAFmS4n8pedf9IDETIKa/tbnAKt0tsE4H9E1Ee/3JaIFhDRUgDtABxnunWa/n8pgOWs7RuyG8DP2O8obi0zz9F/vwjNLYqZZtCGneaQ5iK9N4A6AP6EVtFOIKLzAeyyEf0IXV5VzPIuYObtzLwJwN+6f6uz9L/FAL4CcCw0H0VW5gC4n4iug1bR77UJcxaAXvozLYCmUI24vmDmn1nz6jsZWp78DOBfRDSeiM7Wn9+gEEB1H88p5BHizl3IOHplNgvALF1Z9CaiKdB6JAXMvJaIbgNQ1nTbbv1/kem3cWyUa6ufHusxQWt5/8cqExE1AXAGNGd910BTYGb+AlDR8+HU5SUAdzPzkxY5BgDorx92YuZ7iOhdaP7A5jtM1BOAa5n5A0tcbWCTJ8z8BxE1BtABwAAAFwHop18vC+1ZBSEF6YEIGYWIjiEic0v7RABrsF9ZbNbnJS4MEH1tfZIeAP4D4HPL9fkAWhJRPV2Wg4joaD29isz8HoBBukxWVgCoZzreDm1YKigfAOhnmoOpQUSHMfOjzHyi/reeiI5i5qXMPAba0NSxNml/AOAq0tzgQ3+mcvq1JkR0JBGVANAdwOdEVAVACWZ+HcDN0LZTNjgamnM9QUhBeiBCpikPYLw+jLMX2vaaVzDzViJ6GtqQz2oACwPEvQJab+ZJaB5JHzdfZOZN+nDZZCI6QD89ElqF/BYRlYXWmr/eJu7ZAMYRETEzQ9uX4ml9aMm3smPmGUTUAMA83VZgB4BLsX8PB4NBRNQWwD4A30Lbt7oIwF4iWgJt7uUhaHNAX+mGB5uwf2vSedAm3Y/Xn+FN/fczulIBgOFAYh+WetAUlSCkIN54hWIJadvfvsPMbjv2hU3jIQBvc/rMdUOhD2ENYeYuiuHPg2ZefXOccgm5iwxhCUJwRgNIMQ0uRpQCMC7TQgjZi/RABEEQhEBID0QQBEEIhCgQQRAEIRCiQARBEIRAiAIRBEEQAiEKRBAEQQjE/wPBGIUzaIXrDAAAAABJRU5ErkJggg==",
      "text/plain": [
       "<Figure size 432x288 with 1 Axes>"
      ]
     },
     "metadata": {
      "needs_background": "light"
     },
     "output_type": "display_data"
    }
   ],
   "source": [
    "import colorednoise as cn\n",
    "from matplotlib import pylab as plt\n",
    "\n",
    "#input values\n",
    "beta = 0         # the exponent: 0=white noite; 1=pink noise;  2=red noise (also \"brownian noise\")\n",
    "samples = 2**16  # number of samples to generate (time series extension)\n",
    "\n",
    "#Deffing some colores\n",
    "A = cn.powerlaw_psd_gaussian(beta, samples)\n",
    "\n",
    "#Ploting first subfiure\n",
    "plt.plot(A, color='black', linewidth=1)\n",
    "plt.title('Colored Noise for β='+str(beta))\n",
    "plt.xlabel('Samples (time-steps)')\n",
    "plt.ylabel('Amplitude(t)', fontsize='large')\n",
    "plt.xlim(1,5000)\n",
    "plt.show()"
   ]
  },
  {
   "cell_type": "markdown",
   "metadata": {},
   "source": [
    "> ## To do:\n",
    "\n",
    "- synthesise a signal with variant frequencies (tremolo) and colored noise and test the algorithms\n",
    "- add more visualisations (spectrograms, periodograms)\n",
    "\n",
    "- pretreat the signal\n",
    "\n",
    "◮ pre-emphasis (2nd order FIR)\n",
    "\n",
    "◮ Colored noise\n",
    "> smoothing the periodogram (with a moving average filter)\n",
    "> Finding AR coefficients (Yule-Walker)\n",
    "> whitening the filter with an FIR\n",
    "\n",
    "◮ Unknown number of sinusoids\n",
    "> Use the energy function to decide which sinusoids to keep (the others are considered noise and discarded)\n",
    "> ESTER ? apply it to the whole signal or to the chunks in the adaptive iteration\n",
    "\n",
    "\n",
    "◮ High number of sinusoids (calculation time)\n",
    "> Bank filters with downsampling."
   ]
  },
  {
   "cell_type": "markdown",
   "metadata": {},
   "source": []
  },
  {
   "cell_type": "markdown",
   "metadata": {},
   "source": []
  }
 ],
 "metadata": {
  "interpreter": {
   "hash": "80859ac7f5135aec96a8117f1cea8980d346d5e72554f5e1713cf8726ca979d1"
  },
  "kernelspec": {
   "display_name": "Python 3.8.8 64-bit ('base': conda)",
   "language": "python",
   "name": "python3"
  },
  "language_info": {
   "codemirror_mode": {
    "name": "ipython",
    "version": 3
   },
   "file_extension": ".py",
   "mimetype": "text/x-python",
   "name": "python",
   "nbconvert_exporter": "python",
   "pygments_lexer": "ipython3",
   "version": "3.9.9"
  },
  "orig_nbformat": 4
 },
 "nbformat": 4,
 "nbformat_minor": 2
}
