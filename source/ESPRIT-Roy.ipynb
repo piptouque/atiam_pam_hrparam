{
 "cells": [
  {
   "cell_type": "code",
   "execution_count": 2,
   "metadata": {},
   "outputs": [],
   "source": [
    "import matplotlib.pyplot as plt\n",
    "from mpl_toolkits.mplot3d import Axes3D\n",
    "\n",
    "from copy import deepcopy\n",
    "from math import ceil, exp, atan, pi, cos, sin\n",
    "\n",
    "import scipy\n",
    "import scipy.signal\n",
    "from scipy import signal\n",
    "from scipy.io.wavfile import write\n",
    "from scipy.linalg import hankel\n",
    "from scipy.linalg import toeplitz\n",
    "from scipy.signal import lfilter\n",
    "\n",
    "from numpy.linalg import pinv\n",
    "\n",
    "from matplotlib import cm\n",
    "from matplotlib.ticker import LinearLocator, FormatStrFormatter\n",
    "\n",
    "\n",
    "import pylab as p\n",
    "import mpl_toolkits.mplot3d.axes3d as p3\n",
    "\n",
    "import matplotlib.pyplot as plt\n",
    "import numpy as np\n",
    "\n",
    "import wave\n",
    "\n",
    "import colorednoise as cn\n",
    "from matplotlib import pylab as plt"
   ]
  },
  {
   "cell_type": "code",
   "execution_count": 24,
   "metadata": {},
   "outputs": [],
   "source": [
    "def nextpow2(i):\n",
    "    n = 1\n",
    "    while n < i:\n",
    "        n *= 2\n",
    "    return n"
   ]
  },
  {
   "cell_type": "markdown",
   "metadata": {},
   "source": [
    "> ## Signal Treatment"
   ]
  },
  {
   "cell_type": "markdown",
   "metadata": {},
   "source": [
    "> Pre-emphasis"
   ]
  },
  {
   "cell_type": "code",
   "execution_count": 48,
   "metadata": {},
   "outputs": [],
   "source": [
    "def preemphasize(sig : np.ndarray, b = np.array([1, -0.95])):\n",
    "    # input\n",
    "        # sig: the input signal\n",
    "        # b = = np.array([1, -0.95]) # coefficients recommended by the prof, change if needed\n",
    "        N = len(sig)\n",
    "        Nfft = nextpow2(N)\n",
    "\n",
    "        a = np.ones(2)\n",
    "        preemph_sig = signal.lfilter(b, a, sig)\n",
    "\n",
    "        PSD_sig, freq = plt.psd(sig, )\n",
    "        PSD_preemph_sig, _ =  plt.psd(preemph_sig, Nfft)\n",
    "\n",
    "        return preemph_sig, freq, PSD_sig, PSD_preemph_sig"
   ]
  },
  {
   "cell_type": "markdown",
   "metadata": {},
   "source": [
    "> Decimation and Bank Filters"
   ]
  },
  {
   "cell_type": "code",
   "execution_count": 26,
   "metadata": {},
   "outputs": [],
   "source": [
    "#center_freqs = np.arange(100, 3000, 100) # à nous de définir selon le signal\n",
    "def filter_bank(sig : np.ndarray, center_freqs : np.ndarray, pre_emphasis : float, fe : float):\n",
    "    #input\n",
    "       #sig\n",
    "       #pre_emphasis : pre-emphasis filter coefficient\n",
    "       #center_freqs : centered frequencies in filter banks\n",
    "       #fe : sampling frequency\n",
    "\n",
    "    #pre-emphasis : y(t)=x(t)−αx(t−1), α is often 0.95\n",
    "    #emphasized_sig = np.append(sig[0], sig[1:] - pre_emphasis * sig[:-1])\n",
    "\n",
    "    #filter banks\n",
    "    #PSD_sig = plt.psd(sig)\n",
    "    nb_bands = len(center_freqs)\n",
    "    #crossover_gain = 10**(-3/20) # cross at -3db of gain for the adjacent bands\n",
    "\n",
    "    #band edges, frequencies\n",
    "    band_edges = np.zeros((nb_bands,2))\n",
    "    band_edges [:,0] = center_freqs*2**(-1/2)\n",
    "    band_edges [:,1] = center_freqs*2**(1/2)   \n",
    "\n",
    "    h = [] #impulse response \n",
    "    sig_list = []  #Roy: I suggest that we use an numpy array\n",
    "    for i in range(nb_bands):\n",
    "       b, a = signal.butter(nb_bands, [band_edges[i,0],band_edges[i,1]], btype = 'bandpass',analog=False, fs=fe,output='SOS')\n",
    "       #w, H = signal.sosfreqz(h[i], worN=2000,fs=fe)  #Compute the frequency response of a digital filter in SOS format     \n",
    "       sig_list.append(lfilter(b, a, sig))\n",
    "   \n",
    "    return sig_list"
   ]
  },
  {
   "cell_type": "markdown",
   "metadata": {},
   "source": [
    "PS: After applying the filter bank, the signal is denoted by \"x\" insteasd of \"sig\"."
   ]
  },
  {
   "cell_type": "markdown",
   "metadata": {},
   "source": [
    "> Noise whitening algorithm"
   ]
  },
  {
   "cell_type": "code",
   "execution_count": 116,
   "metadata": {},
   "outputs": [],
   "source": [
    "# (can be applied to the original signal and also to the signals filtered with subbands)\n",
    "def whiten(x : np.ndarray, smoothing_order : int, AR_order : int): # add input??\n",
    "    # input\n",
    "        # x: the input signal FOR EACH FREQUENCY BAND\n",
    "        # smoothing_order: at least two times the length of the PSD's principal lobe (can be done visually)\n",
    "        # AR_order: ~ 10\n",
    "    \n",
    "    N = len(x)\n",
    "    Nfft = nextpow2(N)\n",
    "    \n",
    "    # Step 1: signal's power spectral density\n",
    "    PSD_x, freq = plt.psd(x, Nfft, sides = 'onesided') \n",
    "\n",
    "    # Step 2: estimating the noise's PSD with a median filter (smoothing the signal's PSD)\n",
    "    b = (np.ones(smoothing_order))/smoothing_order  # numerator co-effs of the filter's transfer function\n",
    "    a = np.ones(1)                                  # denominator co-eff of the filter's transfer function\n",
    "    PSD_noise = signal.lfilter(b, a, PSD_x)    # smoothed PSD = estimation of the noise PSD\n",
    "\n",
    "    # Step 3: calculating the autocovariance of the noise\n",
    "    AC = np.fft.ifft(PSD_noise, Nfft)                     # autocovariance (vector) of the noise\n",
    "    R = toeplitz(AC[:AR_order-1],AC[:AR_order-1])   # coefficients matrix of the Yule-Walker system\n",
    "                                                    # = autocovariance matrix with the last row and last column removed\n",
    "    r = AC[1:AR_order].T               # the constant column of the Yule-Walker system\n",
    "    B = - pinv(R) @ r           # the AR coefficients (indices 1, ..., N-1)\n",
    "    B = np.insert(B, 0, 1)      # the AR coefficients (indices 0, ..., N-1)\n",
    "\n",
    "    # Step 4: applying the corresponding FIR to the signal's PSD to obtain the whitened signal\n",
    "    # The FIR is the inverse of the AR filter so the coefficients of the FIR's numerator\n",
    "    # are the coefficients of the AR's denominator, i.e. the array B\n",
    "    A = np.ones(1)  #denominator co-eff of the FIR's transfer function\n",
    "    x_white = signal.lfilter(B, A, x)\n",
    "\n",
    "    # Step 5: re-estimating the noise, now for the white signal\n",
    "    PSD_x_white, _ = plt.psd(x_white, Nfft, sides = 'onesided')\n",
    "    PSD_noise_white = signal.lfilter(b, a, PSD_x_white)\n",
    "\n",
    "    return x_white, freq, PSD_x, PSD_noise, PSD_x_white, PSD_noise_white"
   ]
  },
  {
   "cell_type": "markdown",
   "metadata": {},
   "source": [
    "> ## ESPRIT"
   ]
  },
  {
   "cell_type": "code",
   "execution_count": 56,
   "metadata": {},
   "outputs": [],
   "source": [
    "def ESPRIT(x : np.ndarray, n : int, K : int):\n",
    "    # input\n",
    "        # x: input signal\n",
    "        # n: number of lines in the Hankel matrix S\n",
    "        # and signal space basis W\n",
    "        # K: order of signal\n",
    "\n",
    "        # (n-K : noise space dimension)\n",
    "\n",
    "    # output\n",
    "        # delta: array of damping factors\n",
    "        # f: array of frequencies\n",
    "\n",
    "    N = len(x)          # signal's length\n",
    "    l = N - n + 1       # number of columns of the Hankel matrix\n",
    "                        # Not needed for the 'hankel' function but used in the formula of R_XX  \n",
    "\n",
    "    X = hankel(x[:n], x[n-1:])      # Hankel matrix\n",
    "\n",
    "    R_XX = 1/l * X @ X.conj().T             # correlation matrix\n",
    "    U1, Lambda, U2 = np.linalg.svd(R_XX)\n",
    "    W = U1[:n, :K]                          # signal space matrix\n",
    "    \n",
    "    W_down = W[:-1]\n",
    "    W_up = W[1:]\n",
    "    phi = (np.linalg.pinv(W_down)) @ W_up\n",
    "    eigenvalues, eigenvectors = np.linalg.eig(phi)\n",
    "    \n",
    "    delta = np.log(np.abs(eigenvalues))         # damping factors\n",
    "    f = (1/(2*np.pi)) * np.angle(eigenvalues)   # frequencies\n",
    "\n",
    "    return delta, f\n"
   ]
  },
  {
   "cell_type": "markdown",
   "metadata": {},
   "source": [
    "> ## Least Squares"
   ]
  },
  {
   "cell_type": "code",
   "execution_count": 57,
   "metadata": {},
   "outputs": [],
   "source": [
    "def LeastSquares(x : np.ndarray, delta : np.ndarray, f : np.ndarray):\n",
    "    # input\n",
    "        # x: input signal\n",
    "        # delta: array of damping factors\n",
    "        # f: array of frequencies\n",
    "\n",
    "    # output\n",
    "        # alpha: array of complex amplitudes\n",
    "        # a: array of real amplitudes\n",
    "        # phi: array of initial phases\n",
    "\n",
    "    N = len(x)                  # signal's length\n",
    "    t = np.arange(N)            # array of discrete times\n",
    "    s = delta + 2j*np.pi*f      # log of the pole\n",
    "    VN = np.exp(np.outer(t,s))  # Vandermonde matrix of dimension N\n",
    "    \n",
    "    alpha = np.linalg.pinv(VN)@x\n",
    "    a = abs(alpha)\n",
    "    phi = np.angle(alpha)\n",
    "    \n",
    "    return alpha, a, phi"
   ]
  },
  {
   "cell_type": "markdown",
   "metadata": {},
   "source": [
    "> ## Energy"
   ]
  },
  {
   "cell_type": "code",
   "execution_count": 58,
   "metadata": {},
   "outputs": [],
   "source": [
    "def Energy(x: np.ndarray, delta: np.ndarray, a: np.ndarray):\n",
    "    # input\n",
    "        # x: input signal\n",
    "        # delta: array of damping factors\n",
    "        # a: array of real amplitudes\n",
    "\n",
    "    # output\n",
    "        # EdB: array of energies\n",
    "\n",
    "    \n",
    "    N = len(x)              # signal's length\n",
    "    times = np.arange(N)    # array of discrete times\n",
    "\n",
    "    K = len(delta)          # number of sinusoids\n",
    "    E = np.zeros(K)\n",
    "\n",
    "    for k in range(K):      # calculating the energy of each sinusoid\n",
    "        e_k = 0\n",
    "        for t in times:\n",
    "            e_k += np.exp(2*delta[k]*t)     # the contribution of delta\n",
    "        E[k] = a[k]**2 * e_k                # the energy of the kth sinusoid\n",
    "\n",
    "    Emax = max(E)\n",
    "    EdB = 10*np.log(E/Emax)     # Energy in dB\n",
    "\n",
    "    return EdB\n"
   ]
  },
  {
   "cell_type": "markdown",
   "metadata": {},
   "source": [
    "> ## Adaptive Algorithm\n",
    "(Contains ESPRIT, LeastSquares, and Energy)"
   ]
  },
  {
   "cell_type": "code",
   "execution_count": 59,
   "metadata": {},
   "outputs": [],
   "source": [
    "def adaptive(x_full : np.ndarray, window_length : float, hop_size : float, sampling_rate : int, n : int, K : int): ##par bloque\n",
    "    # input\n",
    "        # x_full: the full-length input signal\n",
    "        # window_length: the window size (in seconds)\n",
    "        # hop_size: the hop size (in seconds)\n",
    "        # n: number of lines in the Hankel matrix S\n",
    "        # and signal space basis W\n",
    "        # K: the number of sinusoids\n",
    "\n",
    "    N_full = len(x_full)                    # the length of the signal (in samples)\n",
    "    N = int(window_length*sampling_rate)    # window size (in samples)\n",
    "    h = int(hop_size*sampling_rate)         # hope size (in samples)\n",
    "    I = int((N_full-N)/h)\n",
    "\n",
    "    delta, f, alpha, a, phi, EdB = np.zeros(I)\n",
    "\n",
    "    for i in range(I):\n",
    "\n",
    "        x_i = x_full[i:i+h]     # ith truncated signal\n",
    "\n",
    "        delta[i], f[i] = ESPRIT(x_i, n, K)\n",
    "        alpha[i], a[i], phi[i] = LeastSquares(x_i, delta[i], f[i])\n",
    "        EdB[i] = Energy(x[i], delta[i], a[i])\n",
    "\n",
    "    return delta, f, alpha, a, phi, EdB"
   ]
  },
  {
   "cell_type": "markdown",
   "metadata": {},
   "source": [
    "> ## Signal Synthesis"
   ]
  },
  {
   "cell_type": "markdown",
   "metadata": {},
   "source": [
    "> Synthesis Function(s)"
   ]
  },
  {
   "cell_type": "code",
   "execution_count": 60,
   "metadata": {},
   "outputs": [],
   "source": [
    "def Synthesis(N: int, delta: np.ndarray, f: np.ndarray, a: np.ndarray, phi : np.ndarray, noisy = False):\n",
    "    # N: length of the signal (discrete)\n",
    "    # delta: array of damping factors\n",
    "    # f: array of normalized frequencies\n",
    "    # a: array of real amplitudes\n",
    "    # phi: array of initial phases\n",
    "    # noisy: set to True if a noisy signal is desired \n",
    "\n",
    "    t = range(N)                    #time range\n",
    "    logz = delta + 1j*2*np.pi*f     #log of poles\n",
    "    alpha = a*np.exp(1j*phi)        #complex amplitudes\n",
    "    x = np.sum(np.outer(alpha, np.ones(N))*np.exp(np.outer(logz, t)), axis=0)  #noisless signal (ESM)\n",
    "    if noisy == False:\n",
    "        s = x\n",
    "    else:   #synthesizing noise\n",
    "        Ex = np.real(np.sum(np.abs(x)**2))/N\n",
    "        b = np.random.normal(size=N) + 1j*np.random.normal(size=N)\n",
    "        Eb = np.real(np.sum(np.abs(b)**2))/N\n",
    "        b = b*np.sqrt(Ex/Eb)*10**(-noisy/20) #This is from TP HR. Isn't noisy equal to 1 in this case? Maybe this was originally meant to be a general formula without an if statement?\n",
    "        s = x+b     #noisy signal\n",
    "    return s"
   ]
  },
  {
   "cell_type": "code",
   "execution_count": 61,
   "metadata": {},
   "outputs": [],
   "source": [
    "# TO BE VERIFIED\n",
    "# I think it is better to use the Synthesis function from the TP\n",
    "# since it can synthesise noisy signals as well\n",
    "# The commented lines are used for plotting the signal and the spectrum.\n",
    "# In my opinion they should not be in this function.\n",
    "def synthesis(time, delta, f, a, phi):\n",
    "    K = len(delta)\n",
    "    #N = len(time)\n",
    "    signal = np.zeros(1, N)\n",
    "    #Te = time[1] - time[0]\n",
    "    #fe = 1/Te\n",
    "    #Nfft = 2**nextpow2(N)\n",
    "    #freq = np.arange(-fe/2, fe/2, fe/Nfft)\n",
    "    for i in range(K):\n",
    "        signal_i = a[i]*np.multiply(np.exp(delta[i]*time), np.cos(2*np.pi*time*f[i] + phi[i]))  #PS: This function uses the real ESM not the complex one.\n",
    "        signal += signal_i\n",
    "\n",
    "    return signal\n"
   ]
  },
  {
   "cell_type": "markdown",
   "metadata": {},
   "source": [
    "> Synthesised Signals"
   ]
  },
  {
   "cell_type": "markdown",
   "metadata": {},
   "source": [
    "Simple Noisless Signal with Two Sinusoids"
   ]
  },
  {
   "cell_type": "code",
   "execution_count": 78,
   "metadata": {},
   "outputs": [
    {
     "data": {
      "text/plain": [
       "8.84656282057143"
      ]
     },
     "execution_count": 78,
     "metadata": {},
     "output_type": "execute_result"
    },
    {
     "data": {
      "image/png": "[encoded data removed]",
      "text/plain": [
       "<Figure size 432x288 with 1 Axes>"
      ]
     },
     "metadata": {
      "needs_background": "light"
     },
     "output_type": "display_data"
    }
   ],
   "source": [
    "N_synth = 63\n",
    "\n",
    "f0_synth = 1/4\n",
    "f_synth = np.array([f0_synth, f0_synth+(1/N_synth)])\n",
    "\n",
    "a_synth = np.array([1, 10])\n",
    "\n",
    "delta_synth = np.array([0, -0.05])\n",
    "\n",
    "phi_synth = np.array([1.5, 0.5])\n",
    "\n",
    "# synthesised signal\n",
    "x_synth = Synthesis(N_synth, delta_synth, f_synth, a_synth, phi_synth)\n",
    "\n",
    "plt.plot(np.real(x_synth))\n",
    "\n",
    "np.max(np.real(x_synth))"
   ]
  },
  {
   "cell_type": "code",
   "execution_count": 92,
   "metadata": {},
   "outputs": [
    {
     "data": {
      "text/plain": [
       "[<matplotlib.lines.Line2D at 0x1621b3b87c0>]"
      ]
     },
     "execution_count": 92,
     "metadata": {},
     "output_type": "execute_result"
    },
    {
     "data": {
      "image/png": "[encoded data removed]",
      "text/plain": [
       "<Figure size 432x288 with 1 Axes>"
      ]
     },
     "metadata": {
      "needs_background": "light"
     },
     "output_type": "display_data"
    }
   ],
   "source": [
    "N_synth1 = 63\n",
    "\n",
    "f_synth1 = np.random.rand(N_synth1)\n",
    "\n",
    "a_synth1 = 10*np.random.rand(N_synth1)\n",
    "\n",
    "delta_synth1 = -0.1*np.random.rand(N_synth1)\n",
    "\n",
    "phi_synth1 = 2*np.random.rand(N_synth1)\n",
    "\n",
    "# synthesised signal\n",
    "x_synth1 = Synthesis(N_synth1, delta_synth1, f_synth1, a_synth1, phi_synth1)\n",
    "\n",
    "plt.plot(np.real(x_synth1))\n"
   ]
  },
  {
   "cell_type": "markdown",
   "metadata": {},
   "source": [
    "Tremolo Synthesis"
   ]
  },
  {
   "cell_type": "code",
   "execution_count": 63,
   "metadata": {},
   "outputs": [],
   "source": [
    "def Tremolo(N: int, delta: np.ndarray, f: np.ndarray, a: np.ndarray, phi : np.ndarray, f_m : float, h : float, noisy = False):\n",
    "    # N: length of the signal (discrete)\n",
    "    # delta: array of damping factors\n",
    "    # f: array of normalized frequencies\n",
    "    # a: array of real amplitudes\n",
    "    # phi: array of initial phases\n",
    "    # f_m: modulating frequency (FM)\n",
    "    # h: modulation index\n",
    "    # noisy: set to True if a noisy signal is desired \n",
    "\n",
    "    t = range(N)                    #time range\n",
    "    logz = delta + 1j*2*np.pi*f     #log of poles\n",
    "    alpha = a*np.exp(1j*phi)        #complex amplitudes\n",
    "    mod = np.exp(1j*h*np.sin(2*np.pi*f_m*t))\n",
    "\n",
    "    x = np.sum(np.outer(alpha, np.ones(N))*np.exp(np.outer(logz, t)), axis=0)  #noisless signal (ESM)\n",
    "    x = x*mod # modulated signal\n",
    "    \n",
    "    if noisy == False:\n",
    "        s = x\n",
    "    else:   #synthesizing noise\n",
    "        Ex = np.real(np.sum(np.abs(x)**2))/N\n",
    "        b = np.random.normal(size=N) + 1j*np.random.normal(size=N)\n",
    "        Eb = np.real(np.sum(np.abs(b)**2))/N\n",
    "        b = b*np.sqrt(Ex/Eb)*10**(-noisy/20) #This is from TP HR. Isn't noisy equal to 1 in this case? Maybe this was originally meant to be a general formula without an if statement?\n",
    "        s = x+b     #noisy signal\n",
    "    return s"
   ]
  },
  {
   "cell_type": "markdown",
   "metadata": {},
   "source": [
    "Noise Generator\n",
    "Once we verify this method (with regard to the signal/noise ratio) we can replace with it the noise in the \"Synthesis\" and \"Tremolo\" functions, and replace the input \"noisy = False\" with \"beta\"."
   ]
  },
  {
   "cell_type": "code",
   "execution_count": 115,
   "metadata": {},
   "outputs": [
    {
     "data": {
      "image/png": "[encoded data removed]",
      "text/plain": [
       "<Figure size 432x288 with 1 Axes>"
      ]
     },
     "metadata": {
      "needs_background": "light"
     },
     "output_type": "display_data"
    },
    {
     "data": {
      "image/png": "[encoded data removed]",
      "text/plain": [
       "<Figure size 432x288 with 1 Axes>"
      ]
     },
     "metadata": {
      "needs_background": "light"
     },
     "output_type": "display_data"
    }
   ],
   "source": [
    "beta = 2         # the exponent: 0=white noite; 1=pink noise;  2=red noise (also \"brownian noise\")\n",
    "#samples = 2**16  # number of samples to generate (time series extension)\n",
    "samples = 63  # number of samples to generate (time series extension)\n",
    "\n",
    "\n",
    "#Deffing some colores\n",
    "noise0 = 0.1*cn.powerlaw_psd_gaussian(beta, samples)\n",
    "\n",
    "#Ploting first subfiure\n",
    "plt.plot(noise0, color='black', linewidth=1)\n",
    "plt.title('Colored Noise for β='+str(beta))\n",
    "plt.xlabel('Samples (time-steps)')\n",
    "plt.ylabel('Amplitude(t)', fontsize='large')\n",
    "plt.xlim(1,64)\n",
    "plt.show()\n",
    "\n",
    "PSD_x, freq = plt.psd(noise0, 64) \n"
   ]
  },
  {
   "cell_type": "code",
   "execution_count": 111,
   "metadata": {},
   "outputs": [
    {
     "data": {
      "image/png": "[encoded data removed]",
      "text/plain": [
       "<Figure size 432x288 with 1 Axes>"
      ]
     },
     "metadata": {
      "needs_background": "light"
     },
     "output_type": "display_data"
    }
   ],
   "source": [
    "noisy_sig0 = np.real(x_synth1) + noise0\n",
    "\n",
    "plt.plot(noisy_sig0, color='black', linewidth=1)\n",
    "plt.title('Noisy Signal')\n",
    "plt.xlabel('Samples (time-steps)')\n",
    "plt.ylabel('Amplitude(t)', fontsize='large')\n",
    "plt.xlim(1,64)\n",
    "plt.show()\n"
   ]
  },
  {
   "cell_type": "code",
   "execution_count": 118,
   "metadata": {},
   "outputs": [],
   "source": [
    "#x_white0, freq0, PSD_x0, PSD_noise0, PSD_x_white0, PSD_noise_white0 = whiten(noisy_sig0, 50, 10)\n",
    "\n",
    "#print(freq0.shape, PSD_x0.shape, PSD_noise0.shape, PSD_x_white0.shape, PSD_noise_white0.shape)\n",
    "\n",
    "\n",
    "#plt.figure()\n",
    "\n",
    "#plt.plot(np.arange(N_synth), x_white0)\n",
    "\n",
    "#plt.show()\n",
    "\n",
    "#plt.figure()\n",
    "\n",
    "#plt.plot(freq0, PSD_x0)\n",
    "\n",
    "#plt.plot(freq0, PSD_noise0)\n",
    "\n",
    "#plt.show()\n",
    "\n",
    "#plt.figure()\n",
    "\n",
    "#plt.plot(freq0, PSD_x_white0)\n",
    "\n",
    "#plt.plot(freq0, PSD_noise_white0)\n",
    "\n",
    "#plt.show()\n",
    "\n"
   ]
  },
  {
   "cell_type": "markdown",
   "metadata": {},
   "source": [
    "> Verification of EPRIT (classic)"
   ]
  },
  {
   "cell_type": "code",
   "execution_count": 67,
   "metadata": {},
   "outputs": [
    {
     "name": "stdout",
     "output_type": "stream",
     "text": [
      "[-5.00000000e-02 -1.11022302e-16] [0.26587302 0.25      ] [8.77582562+4.79425539j 0.0707372 +0.99749499j] [10.  1.] [0.5 1.5] [  0.         -28.12365928]\n"
     ]
    }
   ],
   "source": [
    "delta_an, f_an = ESPRIT(x_synth, 32, 2)\n",
    "\n",
    "alpha_an, a_an, phi_an = LeastSquares(x_synth, delta_an, f_an)\n",
    "\n",
    "EdB_an = Energy(x_synth, delta_an, a_an)\n",
    "\n",
    "print(delta_an, f_an, alpha_an, a_an, phi_an, EdB_an)\n"
   ]
  },
  {
   "cell_type": "code",
   "execution_count": null,
   "metadata": {},
   "outputs": [],
   "source": []
  },
  {
   "cell_type": "code",
   "execution_count": null,
   "metadata": {},
   "outputs": [],
   "source": []
  },
  {
   "cell_type": "code",
   "execution_count": null,
   "metadata": {},
   "outputs": [],
   "source": []
  },
  {
   "cell_type": "code",
   "execution_count": null,
   "metadata": {},
   "outputs": [],
   "source": []
  },
  {
   "cell_type": "markdown",
   "metadata": {},
   "source": [
    "> ## To do:\n",
    "\n",
    "- synthesise a signal with variant frequencies (tremolo) and colored noise and test the algorithms\n",
    "- add more visualisations (spectrograms, periodograms)\n",
    "\n",
    "- pretreat the signal\n",
    "\n",
    "◮ pre-emphasis (2nd order FIR)\n",
    "\n",
    "◮ Colored noise\n",
    "> smoothing the periodogram (with a moving average filter)\n",
    "> Finding AR coefficients (Yule-Walker)\n",
    "> whitening the filter with an FIR\n",
    "\n",
    "◮ Unknown number of sinusoids\n",
    "> Use the energy function to decide which sinusoids to keep (the others are considered noise and discarded)\n",
    "> ESTER ? apply it to the whole signal or to the chunks in the adaptive iteration\n",
    "\n",
    "\n",
    "◮ High number of sinusoids (calculation time)\n",
    "> Bank filters with downsampling."
   ]
  },
  {
   "cell_type": "markdown",
   "metadata": {},
   "source": []
  },
  {
   "cell_type": "markdown",
   "metadata": {},
   "source": []
  }
 ],
 "metadata": {
  "interpreter": {
   "hash": "80859ac7f5135aec96a8117f1cea8980d346d5e72554f5e1713cf8726ca979d1"
  },
  "kernelspec": {
   "display_name": "Python 3.8.8 64-bit ('base': conda)",
   "language": "python",
   "name": "python3"
  },
  "language_info": {
   "codemirror_mode": {
    "name": "ipython",
    "version": 3
   },
   "file_extension": ".py",
   "mimetype": "text/x-python",
   "name": "python",
   "nbconvert_exporter": "python",
   "pygments_lexer": "ipython3",
   "version": "3.9.9"
  },
  "orig_nbformat": 4
 },
 "nbformat": 4,
 "nbformat_minor": 2
}
