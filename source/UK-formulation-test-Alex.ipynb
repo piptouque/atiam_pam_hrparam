{
 "cells": [
  {
   "cell_type": "code",
   "execution_count": null,
   "id": "0aac924a",
   "metadata": {},
   "outputs": [],
   "source": [
    "import numpy as np\n",
    "import matplotlib.pyplot as plt\n",
    "# %matplotlib notebook"
   ]
  },
  {
   "cell_type": "markdown",
   "id": "794ce31d",
   "metadata": {},
   "source": [
    "# Test implementation of the Udwadia-Kalaba formulation\n",
    "\n",
    "Based on Antunes & Debut paper.\n",
    "Parameters are taken from section V. _Illustrative computations_"
   ]
  },
  {
   "cell_type": "code",
   "execution_count": null,
   "id": "57b91819",
   "metadata": {},
   "outputs": [],
   "source": [
    "# String parameters\n",
    "class String():\n",
    "    \"\"\"\n",
    "    Class representing a string. Attributes and methods are added as required.\n",
    "    The string is considered pinned at the nut and free at the bridge.\n",
    "    \"\"\"\n",
    "    def __init__(self, length, tens, rho, stiffness, int_fric, avd, bdamp):\n",
    "        self.length = length\n",
    "        self.tension = tens\n",
    "        self.rho = rho # mass per unit length\n",
    "        self.velocity = np.sqrt(self.tension/self.rho)\n",
    "        self.stiffness = stiffness\n",
    "        self.mass = self.length * self.rho\n",
    "        self.mod_mass = self.mass / 2\n",
    "        self.internal_friction = int_fric\n",
    "        self.air_visc_damp = avd\n",
    "        self.bend_damp = bdamp\n",
    "        \n",
    "    def modal_freq(self, num):\n",
    "        \"\"\"\n",
    "        Returns the num-th modal frequency.\n",
    "        \n",
    "        The formula has been slightly changed so that num=0 yields the fundamental\n",
    "        frequency, in accordance to python numbering.\n",
    "        \"\"\"\n",
    "        p_n = (2*num + 1)*np.pi/(2*self.length)\n",
    "        freq_n = self.velocity*p_n/(2*np.pi) * (1 + self.stiffness* p_n**2/(2*self.tension))\n",
    "        return freq_n\n",
    "        \n",
    "    def modal_freq_arr(self, num):\n",
    "        \"\"\"\n",
    "        Returns an array of the num first modal frequencies.\n",
    "        \"\"\"\n",
    "        arr = []\n",
    "        for n in range(0, num):\n",
    "            freq_n = self.modal_freq(n)\n",
    "            arr.append(freq_n)\n",
    "        return np.array(arr)\n",
    "    \n",
    "    def modal_puls(self, num):\n",
    "        \"\"\"\n",
    "        Returns the num-th modal pulsation.\n",
    "        \"\"\"\n",
    "        return 2*np.pi * self.modal_freq(num)\n",
    "    \n",
    "    def modal_puls_arr(self, num):\n",
    "        \"\"\" \n",
    "        Returns an array of the num first modal pulsations.\n",
    "        \"\"\"\n",
    "        return 2*np.pi*self.modal_freq_arr(num)\n",
    "    \n",
    "    def modeshape(self, num):\n",
    "        \"\"\"\n",
    "        Returns a lambda function of the num-th modeshape.\n",
    "        \"\"\"\n",
    "        modeshape = lambda x: np.sin((2*num + 1)*np.pi * x/(2*self.length))\n",
    "        return modeshape\n",
    "    \n",
    "    def modeshapes_mat(self, num_mod, num_samples):\n",
    "        \"\"\"\n",
    "        Returns a matrix of num_mod modeshapes computed on num_samples on the String.\n",
    "        \"\"\"\n",
    "        geom_samples = np.linspace(0, self.length, num_samples)\n",
    "        modeshapes_mat = self.modeshape(0)(geom_samples)\n",
    "        modeshapes_mat = modeshapes_mat[np.newaxis,:]\n",
    "        for mode in range(1, num_mod):\n",
    "            modeshape_vec = self.modeshape(mode)(geom_samples)\n",
    "            #print(modeshape_vec[np.newaxis,:].shape, modeshapes_mat.shape)\n",
    "            modeshapes_mat = np.vstack((modeshapes_mat, modeshape_vec[np.newaxis,:]))\n",
    "        return modeshapes_mat\n",
    "    \n",
    "    def modal_damping(self, num):\n",
    "        \"\"\"\n",
    "        Returns the num-th modal damping coefficient.\n",
    "        \"\"\"\n",
    "        f_n = self.modal_freq(num)\n",
    "        p_n = (2*num + 1)*np.pi/(2*self.length)\n",
    "        numerator = self.tension*(self.internal_friction + self.air_visc_damp/(2*np.pi*f_n)) + self.bend_damp*self.stiffness*p_n**2\n",
    "        denominator = 2*(self.tension + self.stiffness*p_n**2)\n",
    "        return numerator/denominator\n",
    "    \n",
    "    def modal_damp_arr(self, num):\n",
    "        \"\"\"\n",
    "        Returns an array of the num first modal damping coefficients.\n",
    "        \"\"\"\n",
    "        arr = []\n",
    "        for n in range(0, num):\n",
    "            zeta_n = self.modal_damping(n)\n",
    "            arr.append(zeta_n)\n",
    "        return np.array(arr)\n",
    "    \n",
    "    def modal_mass_matrix(self, size):\n",
    "        \"\"\"\n",
    "        Returns a square modal mass matrix.\n",
    "        \"\"\"\n",
    "        mass_mat = np.eye(size)\n",
    "        mass_mat = mass_mat * self.mod_mass\n",
    "        return mass_mat\n",
    "        \n",
    "    def modal_damp_matrix(self, size):\n",
    "        \"\"\"\n",
    "        Returns a square modal damping matrix.\n",
    "        params:\n",
    "            size(int): Size of the matrix.\n",
    "        returns:\n",
    "            damp_mat(np.array): Diagonal matrix of modal damping parameters.\n",
    "        \"\"\"\n",
    "        damp_vec = 2 * self.mod_mass * self.modal_puls_arr(size) * self.modal_damp_arr(size)\n",
    "        return np.diag(damp_vec)\n",
    "    \n",
    "    def modal_stiff_matrix(self, size):\n",
    "        \"\"\"\n",
    "        Returns a square modal stiffness matrix.\n",
    "        params:\n",
    "            size(int): Size of the matrix.\n",
    "        returns:\n",
    "            damp_stif(np.array): Diagonal matrix of modal stiffness parameters.\n",
    "        \"\"\"\n",
    "        stif_vec = self.mod_mass * np.power(self.modal_puls_arr(size), 2)\n",
    "        return np.diag(stif_vec)\n",
    "    \n",
    "    def modal_forces(self, force, size):\n",
    "        \"\"\"\n",
    "        Project a force field on the modeshapes.\n",
    "        params:\n",
    "            force(np.array): Force field on the string. It should be 1D with each point\n",
    "                separated by the geometrical sampling;\n",
    "            size(int): the number of modes considered.\n",
    "        returns:\n",
    "            mod_forces(np.array): size x 1 array of the force field projected\n",
    "                on the modeshapes.\n",
    "        \"\"\"\n",
    "        geom_samples = np.linspace(0, self.length, len(force))\n",
    "        modeshapes_mat = self.modeshape(0)(geom_samples)\n",
    "        for mode in range(1, size):\n",
    "            modeshape_vec = self.modeshape(mode)(geom_samples)\n",
    "            modeshapes_mat = np.stack((modeshapes_mat, modeshape_vec))\n",
    "        mod_forces = np.dot(modeshapes_mat, force[:, np.newaxis])\n",
    "        return mod_forces"
   ]
  },
  {
   "cell_type": "code",
   "execution_count": null,
   "id": "f6edc864",
   "metadata": {},
   "outputs": [],
   "source": [
    "L = 0.65\n",
    "T = 73.9\n",
    "rho = 3.61e-3\n",
    "B = 4e-5\n",
    "etaF = 7e-5\n",
    "etaA = 0.9\n",
    "etaB = 2.5e-2\n",
    "corde = String(L, T, rho, B, etaF, etaA, etaB)"
   ]
  },
  {
   "cell_type": "code",
   "execution_count": null,
   "id": "20551c5f",
   "metadata": {},
   "outputs": [],
   "source": [
    "N = 1000"
   ]
  },
  {
   "cell_type": "code",
   "execution_count": null,
   "id": "d7a0880e",
   "metadata": {},
   "outputs": [],
   "source": [
    "plt.figure()\n",
    "points = np.linspace(0, corde.length, N)\n",
    "plt.plot(points, corde.modeshape(8)(points))\n",
    "plt.ylim(-1.2, 1.2)\n",
    "plt.grid()\n",
    "plt.show()"
   ]
  },
  {
   "cell_type": "markdown",
   "id": "c92362f1",
   "metadata": {},
   "source": [
    "## Udwadia Kalaba, modal formulation\n",
    "### Computation of the modal parameters"
   ]
  },
  {
   "cell_type": "code",
   "execution_count": null,
   "id": "6ce5d935",
   "metadata": {},
   "outputs": [],
   "source": [
    "class Verlet():\n",
    "    \"\"\"\n",
    "    Wrapper class for velocity-Verlet algorithm.\n",
    "    See paper's appendix.\n",
    "    \"\"\"\n",
    "    def __init__(self, time_step):\n",
    "        self.time_step = time_step\n",
    "        \n",
    "    def next_displacement(self, disp, vel, acc):\n",
    "        \"\"\" \n",
    "        Returns q(t_{i+1}).\n",
    "        \"\"\"\n",
    "        return disp + self.time_step*vel + self.time_step**2 * acc\n",
    "    \n",
    "    def next_half_vel(self, vel, acc):\n",
    "        \"\"\"\n",
    "        Returns \\dot{q}(t_{i+1/2}).\n",
    "        \"\"\"\n",
    "        return vel + 0.5*self.time_step*acc\n",
    "    \n",
    "    def next_modal_force(self, disp, half_vel, damp_mat, stif_mat, fext_vec):\n",
    "        \"\"\"\n",
    "        Returns F(t_{i+1}).\n",
    "        params:\n",
    "            disp(np.array): q(t_{i+1});\n",
    "            half_vel(np.array): \\dot{q}(t_{i+1/2});\n",
    "            damp_mat: C;\n",
    "            stif_mat: K;\n",
    "            fext_vec: F_\\text{ext}(t_{i+1})\n",
    "        returns:\n",
    "            F(t_{i+1}).\n",
    "        \"\"\"\n",
    "        #half_vel = half_vel[:, np.newaxis]\n",
    "        #disp = disp[:, np.newaxis]\n",
    "        a = -damp_mat@half_vel.T\n",
    "        b = - stif_mat@disp.T\n",
    "        #print(fext_vec.shape, a.shape, b.shape)\n",
    "        return a + b  + fext_vec\n",
    "    \n",
    "    def next_unc_acc(self, mass_mat, force_vec):\n",
    "        \"\"\"\n",
    "        Returns next modal accelerations for the unconstrained system,\n",
    "        $\\ddot{q}_u(t_{i+1})$\n",
    "        params:\n",
    "            mass_mat: M;\n",
    "            force_vec: F(t_{i+1}).\n",
    "        \"\"\"\n",
    "        force_vec = force_vec[:, np.newaxis]\n",
    "        inv_mass = np.diag(1/mass_mat.diagonal())\n",
    "        return inv_mass@force_vec\n",
    "    \n",
    "    def next_acc(self, acc_unc, constraint_mat):\n",
    "        \"\"\"\n",
    "        Returns $\\ddot{q}(t_{i+1}).\n",
    "        \"\"\"\n",
    "        acc_unc = acc_unc[:, np.newaxis]\n",
    "        return constraint_mat@acc_unc\n",
    "    \n",
    "    def next_vel(self, vel, acc, next_acc):\n",
    "        \"\"\"\n",
    "        Returns $\\dot{q}(t_{i+1}).\n",
    "        \"\"\"\n",
    "        return vel + 0.5*self.time_step*(acc + next_acc)"
   ]
  },
  {
   "cell_type": "code",
   "execution_count": null,
   "id": "728275a8",
   "metadata": {},
   "outputs": [],
   "source": []
  },
  {
   "cell_type": "code",
   "execution_count": null,
   "id": "bef81bda",
   "metadata": {},
   "outputs": [],
   "source": [
    "class ModalUK():\n",
    "    def __init__(self, string, verlet):\n",
    "        \"\"\"\n",
    "        String object;\n",
    "        ext_force_mod_mat = F_ext_modal;\n",
    "        \"\"\"\n",
    "        self.string = string\n",
    "        self.verlet = verlet\n",
    "\n",
    "    \n",
    "    def unconstrained_computing(self, simu_duration, geom_step, ext_force, num_modes):\n",
    "        time_step = self.verlet.time_step\n",
    "        height = int(simu_duration//time_step)\n",
    "        width = int(self.string.length//geom_step)\n",
    "        disp = np.zeros((height, num_modes))\n",
    "        vel = np.zeros((height, num_modes))\n",
    "        acc = np.zeros((height, num_modes))\n",
    "        force = np.zeros((height, num_modes))\n",
    "        modeshapes = self.string.modeshapes_mat(num_modes, width)\n",
    "        C = self.string.modal_damp_matrix(num_modes)\n",
    "        K = self.string.modal_stiff_matrix(num_modes)\n",
    "        M = self.string.modal_mass_matrix(num_modes)\n",
    "        excitation_duration = ext_force.shape[0]\n",
    "        for i in range(1, excitation_duration):\n",
    "            disp[i, :] = self.verlet.next_displacement(disp[i-1, :], vel[i-1, :], acc[i-1,:])\n",
    "            half_vel = self.verlet.next_half_vel(vel[i-1,:], acc[i-1,:])\n",
    "            #print(modeshapes.shape, ext_force[i,:].shape)\n",
    "            modal_force = modeshapes@ext_force[i, :]\n",
    "            force[i,  :] = self.verlet.next_modal_force(disp[i,:], half_vel, C, K, modal_force)\n",
    "            acc[i,:] = self.verlet.next_unc_acc(M, force[i, :])[:,0]\n",
    "            vel[i,:] = self.verlet.next_vel(vel[i-1,:], acc[i-1,:], acc[i,:])\n",
    "        modal_force = np.zeros((num_modes))\n",
    "        for i in range(excitation_duration, height):\n",
    "            disp[i, :] = self.verlet.next_displacement(disp[i-1, :], vel[i-1, :], acc[i-1,:])\n",
    "            half_vel = self.verlet.next_half_vel(vel[i-1,:], acc[i-1, :])\n",
    "            force[i, :] = self.verlet.next_modal_force(disp[i,:], half_vel, C, K, modal_force)\n",
    "            acc[i,:] = self.verlet.next_unc_acc(M, force[i, :])[:,0]\n",
    "        \n",
    "        return disp, vel, acc, force\n",
    "    \n",
    "    def constrained_computing(self, simu_duration, geom_step, ext_force, num_modes_string, num_modes_body, W, M, C, K):\n",
    "        num_modes = num_modes_string + num_modes_body\n",
    "        time_step = self.verlet.time_step\n",
    "        height = int(simu_duration//time_step)\n",
    "        width = int(self.string.length//geom_step)\n",
    "        disp = np.zeros((height, num_modes))\n",
    "        vel = np.zeros((height, num_modes))\n",
    "        acc_u = np.zeros((height, num_modes))\n",
    "        acc = np.zeros((height, num_modes))\n",
    "        force = np.zeros((height, num_modes))\n",
    "        excitation_duration = ext_force.shape[0]\n",
    "        modeshapes = np.zeros((num_modes, width))\n",
    "        modeshapes[:num_modes_string,:] = self.string.modeshapes_mat(num_modes_string, width)\n",
    "        for i in range(1, excitation_duration):\n",
    "            disp[i, :] = self.verlet.next_displacement(disp[i-1, :], vel[i-1, :], acc[i-1,:])\n",
    "            half_vel = self.verlet.next_half_vel(vel[i-1,:], acc[i-1,:])\n",
    "            #print(modeshapes.shape, ext_force[i,:].shape)\n",
    "            modal_force = modeshapes@ext_force[i, :]\n",
    "            force[i,  :] = self.verlet.next_modal_force(disp[i,:], half_vel, C, K, modal_force)\n",
    "            acc_u[i,:] = self.verlet.next_unc_acc(M, force[i, :])[:,0]\n",
    "            acc[i,:] = self.verlet.next_acc(acc_u[i,:], W)[:, 0]\n",
    "            vel[i,:] = self.verlet.next_vel(vel[i-1,:], acc[i-1,:], acc[i,:])\n",
    "        modal_force = np.zeros((num_modes))\n",
    "        for i in range(excitation_duration, height):\n",
    "            disp[i, :] = self.verlet.next_displacement(disp[i-1, :], vel[i-1, :], acc[i-1,:])\n",
    "            half_vel = self.verlet.next_half_vel(vel[i-1,:], acc[i-1, :])\n",
    "            force[i, :] = self.verlet.next_modal_force(disp[i,:], half_vel, C, K, modal_force)\n",
    "            acc_u[i,:] = self.verlet.next_unc_acc(M, force[i, :])[:,0]\n",
    "            acc[i,:] = self.verlet.next_acc(acc_u[i,:], W)[:,0]\n",
    "            vel[i,:] = self.verlet.next_vel(vel[i-1,:], acc[i-1,:], acc[i,:])\n",
    "        return disp, vel, acc_u, acc, force\n",
    "            \n",
    "            \n",
    "                \n",
    "        \n",
    "        "
   ]
  },
  {
   "cell_type": "code",
   "execution_count": null,
   "id": "4bbc7694",
   "metadata": {},
   "outputs": [],
   "source": [
    "def force_ramp(force_start, force_end, position, string_length, geom_step, duration, time_step):\n",
    "    \"\"\"\n",
    "    Returns a matrix representing a linear force ramp.\n",
    "    params:\n",
    "        force_start(float): Initial value of the force in Newton (should be 0);\n",
    "        force_end(float): End value of the ramp in Newtons;\n",
    "        position(float): ratio between 0 and 1 indicating where the force is applied on the String;\n",
    "        string_length(float): Length of the string in meters;\n",
    "        geom_step(float): Space between geometrical samples in meter;\n",
    "        duration(float): duration of the ramp in seconds;\n",
    "        time_step(float): duration between time samples in seconds;\n",
    "    returns\n",
    "        force_mat(np.array): array representing the force ramp. One row per time sample\n",
    "            and one column per space sample.\n",
    "    \"\"\"\n",
    "    width = int(string_length//geom_step)\n",
    "    height = int(duration//time_step)\n",
    "    force_mat = np.zeros((height, width))\n",
    "    pos_in_samples = int(width*position)\n",
    "    ramp = np.linspace(force_start, force_end, height)\n",
    "    force_mat[:, pos_in_samples] = ramp\n",
    "    return force_mat"
   ]
  },
  {
   "cell_type": "code",
   "execution_count": null,
   "id": "edac2ef1",
   "metadata": {},
   "outputs": [],
   "source": [
    "simu_duration = 2\n",
    "time_step = 1e-5\n",
    "geom_step = corde.length/100\n",
    "forceExt = force_ramp(0, 5, 0.9, corde.length, geom_step, 0.01, time_step)\n",
    "verlet = Verlet(time_step)\n",
    "UK_algo = ModalUK(corde, verlet)"
   ]
  },
  {
   "cell_type": "code",
   "execution_count": null,
   "id": "0e16b14a",
   "metadata": {},
   "outputs": [],
   "source": [
    "dis, vel, acc, force = UK_algo.unconstrained_computing(simu_duration, geom_step, forceExt, 100)"
   ]
  },
  {
   "cell_type": "code",
   "execution_count": null,
   "id": "1a4d23b2",
   "metadata": {},
   "outputs": [],
   "source": [
    "dis.shape"
   ]
  },
  {
   "cell_type": "code",
   "execution_count": null,
   "id": "8bc220a2",
   "metadata": {},
   "outputs": [],
   "source": [
    "times = np.arange(0, simu_duration-time_step, time_step)\n",
    "plt.figure()\n",
    "plt.plot(times,dis[:,0], label=\"First Mode\")\n",
    "#plt.plot(times,dis[:,1], label=\"2nd Mode\")\n",
    "#plt.plot(times,dis[:,2], label=\"3rd Mode\")\n",
    "#plt.plot(times,dis[:,3], label=\"4th Mode\")\n",
    "#plt.plot(times,dis[:,4], label=\"5th Mode\")\n",
    "#plt.plot(times,dis[:,5], label=\"6th Mode\")\n",
    "#plt.plot(times,dis[:,6], label=\"7th Mode\")\n",
    "#plt.plot(times,dis[:,7], label=\"8th Mode\")\n",
    "#plt.plot(times,dis[:,8], label=\"9th Mode\")\n",
    "#plt.plot(times,dis[:,9], label=\"10th Mode\")\n",
    "plt.legend()\n",
    "plt.show()"
   ]
  },
  {
   "cell_type": "code",
   "execution_count": null,
   "id": "b42ad0bc",
   "metadata": {},
   "outputs": [],
   "source": [
    "plt.figure()\n",
    "plt.plot(times, np.sum(dis, axis=1))\n",
    "plt.show()"
   ]
  },
  {
   "cell_type": "code",
   "execution_count": null,
   "id": "88bd122a",
   "metadata": {},
   "outputs": [],
   "source": [
    "modeshapes = corde.modeshapes_mat(100, 1000)"
   ]
  },
  {
   "cell_type": "code",
   "execution_count": null,
   "id": "20008034",
   "metadata": {},
   "outputs": [],
   "source": [
    "modeshapes.shape"
   ]
  },
  {
   "cell_type": "code",
   "execution_count": null,
   "id": "03aaa9d7",
   "metadata": {},
   "outputs": [],
   "source": [
    "#y = dis@modeshapes"
   ]
  },
  {
   "cell_type": "code",
   "execution_count": null,
   "id": "6ca429f7",
   "metadata": {},
   "outputs": [],
   "source": [
    "#y.shape"
   ]
  },
  {
   "cell_type": "code",
   "execution_count": null,
   "id": "ac09e42a",
   "metadata": {},
   "outputs": [],
   "source": [
    "from PIL import Image\n",
    "import glob"
   ]
  },
  {
   "cell_type": "code",
   "execution_count": null,
   "id": "2c97adff",
   "metadata": {},
   "outputs": [],
   "source": [
    "space_samples = np.linspace(0, corde.length, 1000)\n",
    "if False:\n",
    "    for i in range(100):\n",
    "        plt.plot(space_samples, dis[10*i,:]@modeshapes)\n",
    "        plt.ylim(0,0.05)\n",
    "        plt.savefig(f\"../data/img_{10*i:03}.png\")\n",
    "        plt.clf()\n"
   ]
  },
  {
   "cell_type": "code",
   "execution_count": null,
   "id": "d2f36abc",
   "metadata": {},
   "outputs": [],
   "source": [
    "def body_constraints(corde, num_modes_string, num_modes_body):\n",
    "    mat = np.zeros((1, num_modes_string+num_modes_body))\n",
    "    for mode in range(num_modes_string):\n",
    "        mat[0, mode] = corde.modeshape(mode)(corde.length)\n",
    "    return mat"
   ]
  },
  {
   "cell_type": "code",
   "execution_count": null,
   "id": "2ba648fd",
   "metadata": {},
   "outputs": [],
   "source": [
    "def finger_constraints(corde, num_modes_string, num_modes_body, finger_pos):\n",
    "    mat = np.zeros((1, num_modes_string+num_modes_body))\n",
    "    for mode in range(num_modes_string):\n",
    "        mat[0, mode] = corde.modeshape(mode)(corde.length*finger_pos)\n",
    "    return mat"
   ]
  },
  {
   "cell_type": "code",
   "execution_count": null,
   "id": "f70568a5",
   "metadata": {},
   "outputs": [],
   "source": [
    "Nb = 16\n",
    "Ns = 100\n",
    "N = Nb + Ns"
   ]
  },
  {
   "cell_type": "code",
   "execution_count": null,
   "id": "adbfafa2",
   "metadata": {},
   "outputs": [],
   "source": [
    "Atop = body_constraints(corde, Ns, Nb)\n",
    "Abottom = finger_constraints(corde, Ns, Nb, 0.3)\n",
    "A = np.vstack((Atop, Abottom))"
   ]
  },
  {
   "cell_type": "code",
   "execution_count": null,
   "id": "9ee13efd",
   "metadata": {},
   "outputs": [],
   "source": [
    "from uk.data import GuitarStringData, GuitarBodyData\n",
    "from uk.structure import GuitarBody\n",
    "from util.util import load_data_json, load_data_csv\n",
    "import pathlib\n",
    "\n",
    "# Chemins de configuration\n",
    "config_path = pathlib.Path('./config/uk')\n",
    "body_config_path = config_path / 'guitar_body_data.csv'\n",
    "# Charger les données et construire l'objet « Corps », avec ses méthodes associées.\n",
    "body = GuitarBody(load_data_csv(body_config_path, cls=GuitarBodyData))\n",
    "# exemple : les masses modales des modes 0 à 4\n",
    "n = np.arange(5)\n",
    "print(body.m_n(n))"
   ]
  },
  {
   "cell_type": "code",
   "execution_count": null,
   "id": "5f417b40",
   "metadata": {},
   "outputs": [],
   "source": [
    "modal_masses = [corde.mod_mass]*Ns"
   ]
  },
  {
   "cell_type": "code",
   "execution_count": null,
   "id": "c7976399",
   "metadata": {},
   "outputs": [],
   "source": [
    "for m_b in range(Nb):\n",
    "    modal_masses.append(body.m_n(m_b)[0])"
   ]
  },
  {
   "cell_type": "code",
   "execution_count": null,
   "id": "56e882ea",
   "metadata": {},
   "outputs": [],
   "source": [
    "M = np.diag(modal_masses)"
   ]
  },
  {
   "cell_type": "code",
   "execution_count": null,
   "id": "a3dad41a",
   "metadata": {},
   "outputs": [],
   "source": [
    "B = A@(np.diag(1/np.sqrt(np.diagonal(M))))"
   ]
  },
  {
   "cell_type": "code",
   "execution_count": null,
   "id": "1024e54a",
   "metadata": {},
   "outputs": [],
   "source": [
    "def moore_penrose_pseudo_inverse(mat):\n",
    "    return mat.T@np.linalg.inv(mat@mat.T)"
   ]
  },
  {
   "cell_type": "code",
   "execution_count": null,
   "id": "ec287ff8",
   "metadata": {},
   "outputs": [],
   "source": [
    "B_plus = moore_penrose_pseudo_inverse(B)"
   ]
  },
  {
   "cell_type": "code",
   "execution_count": null,
   "id": "bdbdcc0b",
   "metadata": {},
   "outputs": [],
   "source": [
    "W = np.eye(N) - np.diag(1/np.sqrt(np.diagonal(M)))@B_plus@A"
   ]
  },
  {
   "cell_type": "code",
   "execution_count": null,
   "id": "9e166a74",
   "metadata": {},
   "outputs": [],
   "source": [
    "modal_damp_s = corde.modal_damp_arr(Ns)"
   ]
  },
  {
   "cell_type": "code",
   "execution_count": null,
   "id": "501c09ba",
   "metadata": {},
   "outputs": [],
   "source": [
    "n = np.arange(16)"
   ]
  },
  {
   "cell_type": "code",
   "execution_count": null,
   "id": "2f431370",
   "metadata": {},
   "outputs": [],
   "source": [
    "modal_damp_b = body.c_n(n)"
   ]
  },
  {
   "cell_type": "code",
   "execution_count": null,
   "id": "d8fae946",
   "metadata": {},
   "outputs": [],
   "source": [
    "C = np.diag(np.hstack((modal_damp_s, modal_damp_b)))"
   ]
  },
  {
   "cell_type": "code",
   "execution_count": null,
   "id": "6f4eb182",
   "metadata": {},
   "outputs": [],
   "source": [
    "modal_stif_s = np.diagonal(corde.modal_stiff_matrix(Ns))"
   ]
  },
  {
   "cell_type": "code",
   "execution_count": null,
   "id": "22a39ca9",
   "metadata": {},
   "outputs": [],
   "source": [
    "modal_stif_b = body.k_n(n)"
   ]
  },
  {
   "cell_type": "code",
   "execution_count": null,
   "id": "afafce3e",
   "metadata": {},
   "outputs": [],
   "source": [
    "K = np.diag(np.hstack((modal_stif_s, modal_stif_b)))"
   ]
  },
  {
   "cell_type": "code",
   "execution_count": null,
   "id": "7eaabc8e",
   "metadata": {},
   "outputs": [],
   "source": [
    "forceExt = force_ramp(0, 5, 0.9, corde.length, geom_step, 0.01, time_step)\n"
   ]
  },
  {
   "cell_type": "code",
   "execution_count": null,
   "id": "5e434e46",
   "metadata": {},
   "outputs": [],
   "source": [
    "simu_duration = 1\n",
    "time_step = 1e-5\n",
    "geom_step = corde.length/100\n",
    "forceExt = force_ramp(0, 5, 0.9, corde.length, geom_step, 0.01, time_step)\n",
    "verlet = Verlet(time_step)\n",
    "UK_algo = ModalUK(corde, verlet)"
   ]
  },
  {
   "cell_type": "code",
   "execution_count": null,
   "id": "4b8053e9",
   "metadata": {},
   "outputs": [],
   "source": [
    "dis, vel, acc_u, acc, force = UK_algo.constrained_computing(simu_duration, geom_step, forceExt, Ns, Nb, W, M, C, K)"
   ]
  },
  {
   "cell_type": "code",
   "execution_count": null,
   "id": "554bf9c6",
   "metadata": {},
   "outputs": [],
   "source": [
    "%matplotlib notebook"
   ]
  },
  {
   "cell_type": "code",
   "execution_count": null,
   "id": "c7e627fe",
   "metadata": {},
   "outputs": [],
   "source": [
    "times = np.arange(0, simu_duration-time_step, time_step)\n",
    "plt.figure()\n",
    "plt.plot(times, np.sum(dis[:,:100], axis=1))\n",
    "plt.grid()\n",
    "plt.show()\n"
   ]
  },
  {
   "cell_type": "code",
   "execution_count": null,
   "id": "556f36c6",
   "metadata": {},
   "outputs": [],
   "source": [
    "modeshapes = corde.modeshapes_mat(100, 100)"
   ]
  },
  {
   "cell_type": "code",
   "execution_count": null,
   "id": "63519914",
   "metadata": {},
   "outputs": [],
   "source": [
    "modeshapes.shape"
   ]
  },
  {
   "cell_type": "code",
   "execution_count": null,
   "id": "406568cb",
   "metadata": {},
   "outputs": [],
   "source": [
    "dis_s = dis[:, :100]"
   ]
  },
  {
   "cell_type": "code",
   "execution_count": null,
   "id": "b50a4356",
   "metadata": {},
   "outputs": [],
   "source": [
    "dis_s.shape"
   ]
  },
  {
   "cell_type": "code",
   "execution_count": null,
   "id": "fd35817e",
   "metadata": {},
   "outputs": [],
   "source": [
    "y_start = dis_s[:10000]@modeshapes"
   ]
  },
  {
   "cell_type": "code",
   "execution_count": null,
   "id": "31f1607b",
   "metadata": {},
   "outputs": [],
   "source": [
    "y_start.shape"
   ]
  },
  {
   "cell_type": "code",
   "execution_count": null,
   "id": "82ddbac3",
   "metadata": {},
   "outputs": [],
   "source": [
    "from mpl_toolkits.mplot3d import Axes3D"
   ]
  },
  {
   "cell_type": "code",
   "execution_count": null,
   "id": "863ff864",
   "metadata": {},
   "outputs": [],
   "source": [
    "times, space = np.mgrid[0:0.1:1e-5, 0:corde.length:geom_step]"
   ]
  },
  {
   "cell_type": "code",
   "execution_count": null,
   "id": "54eeca3f",
   "metadata": {},
   "outputs": [],
   "source": [
    "fig=plt.figure()\n",
    "ax = Axes3D(fig)\n",
    "ax.plot_surface(times, space, y_start)\n",
    "plt.show()"
   ]
  },
  {
   "cell_type": "code",
   "execution_count": null,
   "id": "42f0e25f",
   "metadata": {},
   "outputs": [],
   "source": [
    "y_end = dis_s[89999:]@modeshapes"
   ]
  },
  {
   "cell_type": "code",
   "execution_count": null,
   "id": "49fc13d7",
   "metadata": {},
   "outputs": [],
   "source": [
    "y_end.shape"
   ]
  },
  {
   "cell_type": "code",
   "execution_count": null,
   "id": "bd760cef",
   "metadata": {},
   "outputs": [],
   "source": [
    "from mpl_toolkits.mplot3d import Axes3D"
   ]
  },
  {
   "cell_type": "code",
   "execution_count": null,
   "id": "02bb38a2",
   "metadata": {},
   "outputs": [],
   "source": [
    "times, space = np.mgrid[0:0.1:1e-5, 0:corde.length:geom_step]"
   ]
  },
  {
   "cell_type": "code",
   "execution_count": null,
   "id": "486b4ea7",
   "metadata": {},
   "outputs": [],
   "source": [
    "fig=plt.figure()\n",
    "ax = Axes3D(fig)\n",
    "ax.plot_surface(times, space, y_end)\n",
    "plt.show()"
   ]
  },
  {
   "cell_type": "code",
   "execution_count": null,
   "id": "fd4317de",
   "metadata": {},
   "outputs": [],
   "source": [
    "modeshapes.shape"
   ]
  },
  {
   "cell_type": "code",
   "execution_count": null,
   "id": "a2aa1549",
   "metadata": {},
   "outputs": [],
   "source": [
    "bridge_phi = modeshapes[:, -5]"
   ]
  },
  {
   "cell_type": "code",
   "execution_count": null,
   "id": "a3c0ea4c",
   "metadata": {},
   "outputs": [],
   "source": [
    "sound = dis_s@bridge_phi[:, np.newaxis]"
   ]
  },
  {
   "cell_type": "code",
   "execution_count": null,
   "id": "83c9851a",
   "metadata": {},
   "outputs": [],
   "source": [
    "import IPython.display as ipd"
   ]
  },
  {
   "cell_type": "code",
   "execution_count": null,
   "id": "13db8be8",
   "metadata": {},
   "outputs": [],
   "source": [
    "ipd.Audio(sound[:, 0], rate=100000)"
   ]
  },
  {
   "cell_type": "code",
   "execution_count": null,
   "id": "2a008002",
   "metadata": {},
   "outputs": [],
   "source": [
    "import soundfile"
   ]
  },
  {
   "cell_type": "code",
   "execution_count": null,
   "id": "7b8af280",
   "metadata": {},
   "outputs": [],
   "source": [
    "soundfile.write(\"string.wav\", sound[:,0]/np.max(sound),100000)"
   ]
  },
  {
   "cell_type": "code",
   "execution_count": null,
   "id": "f5aca38e",
   "metadata": {},
   "outputs": [],
   "source": [
    "plt.figure()\n",
    "plt.plot(sound)"
   ]
  },
  {
   "cell_type": "code",
   "execution_count": null,
   "id": "f1e6c536",
   "metadata": {},
   "outputs": [],
   "source": []
  }
 ],
 "metadata": {
  "kernelspec": {
   "display_name": "Python 3 (ipykernel)",
   "language": "python",
   "name": "python3"
  },
  "language_info": {
   "codemirror_mode": {
    "name": "ipython",
    "version": 3
   },
   "file_extension": ".py",
   "mimetype": "text/x-python",
   "name": "python",
   "nbconvert_exporter": "python",
   "pygments_lexer": "ipython3",
   "version": "3.9.9"
  }
 },
 "nbformat": 4,
 "nbformat_minor": 5
}
