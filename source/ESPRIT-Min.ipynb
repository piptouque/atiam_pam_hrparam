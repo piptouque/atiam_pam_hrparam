{
 "cells": [
  {
   "cell_type": "code",
   "execution_count": null,
   "id": "f69f3cc5",
   "metadata": {},
   "outputs": [],
   "source": [
    "import matplotlib.pyplot as plt\n",
    "from mpl_toolkits.mplot3d import Axes3D\n",
    "\n",
    "from copy import deepcopy\n",
    "from math import ceil, exp, atan, pi, cos, sin\n",
    "\n",
    "from scipy.linalg import hankel\n",
    "from matplotlib import cm\n",
    "from matplotlib.ticker import LinearLocator, FormatStrFormatter\n",
    "import scipy.signal\n",
    "\n",
    "import pylab as p\n",
    "#import matplotlib.axes3d as p3\n",
    "import mpl_toolkits.mplot3d.axes3d as p3\n",
    "\n",
    "from scipy import signal\n",
    "import matplotlib.pyplot as plt\n",
    "import numpy as np"
   ]
  },
  {
   "cell_type": "markdown",
   "id": "bb755195",
   "metadata": {},
   "source": [
    "ESPRIT simple"
   ]
  },
  {
   "cell_type": "code",
   "execution_count": null,
   "id": "d439e361",
   "metadata": {},
   "outputs": [],
   "source": [
    "from scipy.linalg import hankel"
   ]
  },
  {
   "cell_type": "code",
   "execution_count": null,
   "id": "fdd119ad",
   "metadata": {},
   "outputs": [],
   "source": [
    "def obtain_matrix(x, n): ### where is this function used ?\n",
    "    X = hankel(x[:n], x[n-1:N])\n",
    "    l = N -n+1  ################################ Roy: N = ??\n",
    "    XH = X.conj().T\n",
    "    Rxx = 1/l*X*XH\n",
    "    U1, lam, U =  np.linalg.svd(Rxx)\n",
    "    W = U1[:,0:K]\n",
    "    return Rxx, W"
   ]
  },
  {
   "cell_type": "code",
   "execution_count": null,
   "id": "ff9b5a1a",
   "metadata": {},
   "outputs": [],
   "source": [
    "def esti_espace(Rxx, K):\n",
    "    U1, lam, U2 = scipy.linalg.svd(Rxx)\n",
    "    return U1[:,0:K]"
   ]
  },
  {
   "cell_type": "code",
   "execution_count": null,
   "id": "12f6219e",
   "metadata": {},
   "outputs": [],
   "source": [
    "def esti_fre_amort(W):\n",
    "    W_down = W[0:n-1,:]\n",
    "    W_up = W[1:n,:]\n",
    "    Phi = np.dot(np.linalg.pinv(W_down),(W_up))\n",
    "    eig_values = scipy.linalg.eig(Phi, left = False, right = False)\n",
    "    \n",
    "    delta_vecteur = np.log(np.abs(eig_values))\n",
    "    f_vecteur = 1/(2*np.pi)*np.angle(eig_values)\n",
    "\n",
    "    return delta_vecteur, f_vecteur"
   ]
  },
  {
   "cell_type": "code",
   "execution_count": null,
   "id": "d5fcd8be",
   "metadata": {},
   "outputs": [],
   "source": [
    "def LeastSquares(x,delta,f):\n",
    "    N = len(x)\n",
    "    t = np.array(range(N))\n",
    "    k = delta+1j*2*np.pi*f\n",
    "    tk = np.outer(t, k)\n",
    "    alpha = np.dot(np.linalg.pinv(np.exp(tk)), x)\n",
    "    a = abs(alpha)\n",
    "    phi = np.angle(alpha)\n",
    "    return a, phi, alpha"
   ]
  },
  {
   "cell_type": "code",
   "execution_count": null,
   "id": "55729457",
   "metadata": {},
   "outputs": [],
   "source": [
    "def ESPRIT(x,n,K):\n",
    "    # x: signal synthétique\n",
    "    # N: longueur du signal\n",
    "    # K: combien de sinus\n",
    "    # n-K : diemension de l'espace bruit\n",
    "    # n: le nombre de ligne n de la matrice espace signal\n",
    "    \n",
    "    N = len(x)\n",
    "    l = N - n + 1\n",
    "    X = hankel(x[0:n], x[n-1:N])\n",
    "    # Construction de la matrice de corrélation\n",
    "    Rxx = 1/l * X @ X.conj().T\n",
    "    W = esti_espace(Rxx, K)\n",
    "    delta, f = esti_fre_amort(W)\n",
    "    a, phi, amplitude = LeastSquares(x,delta,f)\n",
    "    return delta, f, a, phi, amplitude"
   ]
  },
  {
   "cell_type": "markdown",
   "id": "63fb6002",
   "metadata": {},
   "source": [
    "adaptive computation of the spectral matrix"
   ]
  },
  {
   "cell_type": "code",
   "execution_count": null,
   "id": "de180ef2",
   "metadata": {},
   "outputs": [],
   "source": [
    "#Programme permettant                                                                                                %\n",
    "#  -Lire les donnees d'acceleration                                                                                  %\n",
    "#  -Faire une FFT (du signal                                                                                          %\n",
    "#  -Faire un calcul avec l'algorithme ESPRIT                                                                         %\n",
    "#  -Export des resultats sous forme d'un fichier text lisible dans un tableur   "
   ]
  },
  {
   "cell_type": "markdown",
   "id": "970ef269",
   "metadata": {},
   "source": [
    "signal temporel"
   ]
  },
  {
   "cell_type": "code",
   "execution_count": null,
   "id": "c5b584a6",
   "metadata": {},
   "outputs": [],
   "source": [
    "def nextpow2(i):\n",
    "    n = 1\n",
    "    while n < i:\n",
    "        n *= 2\n",
    "    return n"
   ]
  },
  {
   "cell_type": "code",
   "execution_count": null,
   "id": "d1b44ce3",
   "metadata": {},
   "outputs": [],
   "source": [
    "import scipy\n",
    "from scipy.signal import lfilter"
   ]
  },
  {
   "cell_type": "code",
   "execution_count": null,
   "id": "29b15c8e",
   "metadata": {},
   "outputs": [],
   "source": [
    "#FIR 2\n",
    "def filtre(signal,temps,fe,f_cen,f_delta,ordre):\n",
    "    Nb = len(signal)\n",
    "    ## calcul FFT\n",
    "    Nfft = 2**nextpow(Nb)\n",
    "    signal= np.fft.fft(signal, Nfft)\n",
    "    freq = np.fft.fftfreq(Nfft, 1/fe)\n",
    "    \n",
    "    ## Translation du signal centré à fréquence nulle\n",
    "    signal1 = np.multiply(signal, np.exp(-1j*2*np.pi*f_cen*temps))\n",
    "    signal1_fft= np.fft.fft(signal1, Nfft)\n",
    "    \n",
    "    #FIR windowing\n",
    "    cut_f = f_delta/2/(fe/2) # entre 0 et 1\n",
    "    b = scipy.signal.firwin(ordre+1,cut_f)\n",
    "    filtre = np.fft.fft(b, Nfft)\n",
    "    #windowed signal2\n",
    "    signal2 = lfilter(b, 1, signal1)\n",
    "    signal2_fft = np.fft.fft(signal2, Nfft)\n",
    "    return signal2, b"
   ]
  },
  {
   "cell_type": "code",
   "execution_count": null,
   "id": "d0e9c350",
   "metadata": {},
   "outputs": [],
   "source": [
    "def FIR_3(signal,temps,fe,f_cen,f_delta,ordre): \n",
    "    Nb = len(signal)\n",
    "    ## calcul FFT\n",
    "    Nfft = 2**nextpow(Nb)\n",
    "    signal_FFT= np.fft.fft(signal, Nfft)\n",
    "    axe_freq1 = np.arange(-fe/2, fe/2, fe/Nfft)\n",
    "    \n",
    "    freq_1 = (f_cen - f_delta/2)/(fe/2)\n",
    "    freq_2 = (f_cen + f_delta/2)/(fe/2)\n",
    "    b = scipy.signal.firwin(ordre+1,[freq_1, freq_2])\n",
    "    filtre = np.fft.fft(b, Nfft)\n",
    "    \n",
    "    signal_filtre = lfilter(b, 1, signal)\n",
    "    L = len(b)\n",
    "    signal_fil_tron = signal_filtre[L:] # L ou L-1 \n",
    "    Nfft2 = 2**nextpow(len(signal_fil_tron))\n",
    "    signal_FFT2_tron= np.fft.fft(signal_fil_tron, Nfft2)\n",
    "    axe_freq2 = np.arange(-fe/2, fe/2, fe/Nfft2)\n",
    "    temps2 = temps[(L+1)/2: len(signal_fil_tron) + (L+1)/2]\n",
    "    \n",
    "    return signal_filtre, signal_fil_tron, b"
   ]
  },
  {
   "cell_type": "code",
   "execution_count": null,
   "id": "3e4f281f",
   "metadata": {},
   "outputs": [],
   "source": [
    "def deci(signal,temps,fe,R):\n",
    "    fe_deci = fe/R\n",
    "    t = np.arange(0, -1, R)\n",
    "    signal_deci = signal[::R]\n",
    "    temps_deci = temps[::R]\n",
    "    Nb = len(signal) \n",
    "    N_deci = len(signal_deci)\n",
    "    Nfft = 2**nextpow2(Nb)\n",
    "    Nfft_deci = 2**nextpow2(N_deci)\n",
    "    freq = np.arange(-fe/2, fe/2, fe/Nfft)\n",
    "    freq_deci = np.arange(-fe_deci/2, fe_deci/2, fe_deci/Nfft_deci)\n",
    "    return signal_deci, fe_deci"
   ]
  },
  {
   "cell_type": "code",
   "execution_count": null,
   "id": "1789a7a2",
   "metadata": {},
   "outputs": [],
   "source": [
    "def energie(delta, a, N):\n",
    "    # Fonction permettant le calcul de l'énergie pour chaque composante extraite par la méthode ESPRIT. Le signal d'étude est de longueur \n",
    "    #N : longueur du signal d'étude\n",
    "    E = []\n",
    "    n = np.arange(0, N)\n",
    "    for i in range(0, len(delta)):\n",
    "        for j in n:\n",
    "            E += a[i]**2*np.exp(-2*abs(delta[i])*n[j])\n",
    "    Emax = max(E)\n",
    "    EdB = 10*np.log(E/Emax)\n",
    "    return E, EdB"
   ]
  },
  {
   "cell_type": "code",
   "execution_count": null,
   "id": "0c461503",
   "metadata": {},
   "outputs": [],
   "source": [
    "def ESTER(x, n, K):\n",
    "    #x: signal\n",
    "    # calcul de fonction d'erreur inverse\n",
    "    N = len(x)\n",
    "    l = N-n+1\n",
    "    X = hankel(x[:n], x[n-1:N])\n",
    "    XH = X.conj().T\n",
    "    Rxx = 1/l*X*XH\n",
    "    U1, lam, U =  np.linalg.svd(Rxx)\n",
    "    norm_E = []\n",
    "    for i in range(K):\n",
    "        W = U1[: n, :i]\n",
    "        W_down = W[0:n-1,:]\n",
    "        W_up = W[1:n,:]\n",
    "        Phi = np.dot(np.linalg.pinv(W_down),(W_up))\n",
    "        E = W_up - np.dot(W_down, Phi)\n",
    "        Valeur,_,_ = np.linalg.svd(E)\n",
    "        norm_E = max(Valeur)  # not sure here\n",
    "    return norm_E"
   ]
  },
  {
   "cell_type": "code",
   "execution_count": null,
   "id": "10b124b1",
   "metadata": {},
   "outputs": [],
   "source": [
    "def synthesis(temps,delta,f,a,phi):\n",
    "    Nb = len(delta)\n",
    "    N = len(temps)\n",
    "    signal = np.zeros(1, N)\n",
    "    Te = temps[1] - temps[0]\n",
    "    fe = 1/Te\n",
    "    Nfft = 2**nextpow2(N)\n",
    "    freq = np.arange(-fe/2, fe/2, fe/Nfft)\n",
    "    for i in range(nb_composante):\n",
    "        signal_ins = a[i]*np.multiply(np.exp(delta[i]*temps), np.cos(2*np.pi*temps*f[i]+ phi[i]))\n",
    "        signal += signal_ins\n",
    "    \n",
    "    return signal"
   ]
  },
  {
   "cell_type": "code",
   "execution_count": null,
   "id": "286b1091",
   "metadata": {},
   "outputs": [],
   "source": [
    "# sachant déjà le signal, signal est le signal numérique à décimer\n",
    "def program(signal, fe, t_i, t_f, f_cen, f_delta, ordre, R, n, K, nb_composante):\n",
    "    #t_i: temps initial\n",
    "    #t_f: temps final d'étude\n",
    "    #ss : signal d'étude\n",
    "    #f_cen : fréquence centrale\n",
    "    #f_delta : \n",
    "    #R : step size\n",
    "    Te = 1/fe\n",
    "    ss = signal[np.floor(t_i*fe) : np.floor(t_f*fe)];\n",
    "    temps = np.arange(0, Te**((np.floor(t_f*fe)-np.floor(t_i*fe))), Te)  #Decalage temporel du signal\n",
    "    #Te = temps[1] - temps[0]\n",
    "    #fe = 1/Te\n",
    "    # (temps, ss), le signal temporel en représentation\n",
    "    Nb = len(ss) # nombre de points du signal\n",
    "    \n",
    "    ## calcul FFT\n",
    "    Nfft = 2**nextpow(Nb)\n",
    "    signal= np.fft.fft(ss, Nfft)\n",
    "    freq = np.fft.fftfreq(Nfft, 1/fe)\n",
    "    # signal filtré\n",
    "    s, b = filtre(ss, temps, fe, f_cen, f_delta, ordre)\n",
    "    L_n = len(b)\n",
    "    s = s[L_n:]\n",
    "    retard = (L_n+1)/2*Te\n",
    "    temps_filtre = temps[(L_n+1)/2: (len(s)+(L_n+1)/2)]\n",
    "    \n",
    "    #decimation du signal\n",
    "    signal_deci, fe_deci = deci(signal,temps,fe,R)\n",
    "    temps_deci = temps_filtre[::R]\n",
    "    \n",
    "    #ESPRIT \n",
    "    # n = np.floor(len(Signal_deci)/3)\n",
    "    # K=50\n",
    "    delta, f, a, phi, amp = ESPRIT(signal_deci, n, K)\n",
    "    f, h = scipy.signal.freqz(b, 1) #H????\n",
    "    f = f*fe_deci+f_cen\n",
    "    delta = delta*fe_deci\n",
    "    \n",
    "    amp = 2*amp\n",
    "    amp = np.multiply(amp, np.exp((abs(delta)-1j*2*np.pi*(f-f_cen))*retard))\n",
    "    a = abs(amp)\n",
    "    phi = np.angle(amp)\n",
    "    \n",
    "    EdB_sort = EdB.sort(axis=1)\n",
    "    index = EdB.sort(axis=1)\n",
    "    index = np.flip(index) \n",
    "    a = a[index]\n",
    "    f = f[index]\n",
    "    delta = delta[index]\n",
    "    phi = phi[index]\n",
    "    EdB = EdB[index]\n",
    "    #np.argwhere(EdB>-40)\n",
    "    print('frequency:', str(f[np.argwhere(EdB>-40)] ))\n",
    "    print('damping', str(delta[np.argwhere(EdB>-40)] ))\n",
    "    print('amplitude', str(a[np.argwhere(EdB>-40)] ))\n",
    "    print('phase', str(phi[np.argwhere(EdB>-40)] ))\n",
    "    \n",
    "    norm_E = ESTER(signal_deci, n, K)\n",
    "    # vous pouvez ajouter les figures\n",
    "    signal_filtre, signal_fil_tron, b = FIR_3(signal,temps,fe,f_cen,f_delta,ordre)\n",
    "    \n",
    "    signal_syn = synthesis(temps, delta[: nb_composante], f[: nb_composante], a[: nb_composante], phi[: nb_composante])\n",
    "    \n",
    "    # il faut comparer signal_syn et signal_fil_tron"
   ]
  }
 ],
 "metadata": {
  "kernelspec": {
   "display_name": "Python 3",
   "language": "python",
   "name": "python3"
  },
  "language_info": {
   "codemirror_mode": {
    "name": "ipython",
    "version": 3
   },
   "file_extension": ".py",
   "mimetype": "text/x-python",
   "name": "python",
   "nbconvert_exporter": "python",
   "pygments_lexer": "ipython3",
   "version": "3.9.9"
  }
 },
 "nbformat": 4,
 "nbformat_minor": 5
}
