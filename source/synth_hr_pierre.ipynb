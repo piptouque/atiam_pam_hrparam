{
 "cells": [
  {
   "cell_type": "code",
   "execution_count": 95,
   "metadata": {},
   "outputs": [
    {
     "name": "stdout",
     "output_type": "stream",
     "text": [
      "The autoreload extension is already loaded. To reload it, use:\n",
      "  %reload_ext autoreload\n"
     ]
    }
   ],
   "source": [
    "%load_ext autoreload\n",
    "%autoreload 2\n",
    "\n",
    "import numpy as np\n",
    "seed = 123\n",
    "rng = np.random.default_rng(seed)\n",
    "import scipy.signal as sig\n",
    "\n",
    "import IPython.display as ipd\n",
    "import matplotlib.pyplot as plt\n",
    "\n",
    "import colorednoise as cn\n",
    "\n",
    "from hr.esm import EsmModel, BlockEsmModel\n",
    "from hr.preprocess import NoiseWhitening, FilterBank\n",
    "from hr.process import Esprit, Ester, AdaptiveEsprit, BlockEsprit\n",
    "from hr.util import _PINK_FILTRE_COEFFS\n",
    "from util.util import to_db, snr\n",
    "\n",
    "# %matplotlib widget\n",
    "%matplotlib inline"
   ]
  },
  {
   "cell_type": "markdown",
   "metadata": {},
   "source": [
    "### Simple noiseless 'harmonic' signal"
   ]
  },
  {
   "cell_type": "code",
   "execution_count": 57,
   "metadata": {},
   "outputs": [
    {
     "name": "stdout",
     "output_type": "stream",
     "text": [
      "[1045.32345363 2930.24726624 3699.13199887 3711.90703018 4624.25393767\n",
      " 4710.5880781  6615.59407035 7038.72625954]\n",
      "[1045.32345363 2930.24726624 3699.13200077 3711.90703169 4624.2539377\n",
      " 4710.58807811 6615.59407035 7038.72625954]\n",
      "[117.27717167 366.42030969  65.46156236 314.92545452 131.5608335\n",
      " 153.87237849 410.57562972 113.91705214]\n",
      "[117.27717167 366.42030964  65.46156996 314.92544942 131.56083351\n",
      " 153.87237863 410.57562972 113.91705214]\n"
     ]
    }
   ],
   "source": [
    "sr = 44100\n",
    "n_s = 100000\n",
    "n_fft = 1024\n",
    "\n",
    "# number of sinusoids\n",
    "r = 8 \n",
    "# Normalised damping ratios, multiply by sampling rate to get the 'deltas' in Amp.s-1\n",
    "gammas = rng.uniform(0.001, 0.01, r) \n",
    "# Normalised frequencies\n",
    "nus = rng.normal(0.1, 0.05, r)\n",
    "amps = rng.uniform(0.1, 1, r)\n",
    "phis = rng.uniform(0, 2*np.pi, r)\n",
    "\n",
    "x_esm = EsmModel(gammas, nus, amps, phis)\n",
    "\n",
    "x_sine = x_esm.synth(n_s)\n",
    "\n",
    "n_est = 32\n",
    "p_max = 16\n",
    "r_est = Ester.estimate_esm_order(x_sine, n_est, p_max)\n",
    "x_esm_est = Esprit.estimate_esm(x_sine, n_est, r_est)\n",
    "\n",
    "print(x_esm.nus * sr)\n",
    "print(x_esm_est.nus * sr)\n",
    "print(x_esm.gammas * sr)\n",
    "print(x_esm_est.gammas * sr)"
   ]
  },
  {
   "cell_type": "code",
   "execution_count": null,
   "metadata": {},
   "outputs": [],
   "source": [
    "ts_plot = np.arange(n_s) / sr # times in seconds\n",
    "fs_plot = np.fft.fftfreq(n_fft) * sr\n",
    "\n",
    "_, x_sine_psd = sig.welch(x_sine, fs=sr, nfft=n_fft, return_onesided=False)\n",
    "\n",
    "plt.figure()\n",
    "x_sine_ft = np.fft.fft(x_sine, n=n_fft)\n",
    "plt.title(\"Time and frequency representation of the synthesised signal\")\n",
    "plt.subplot(2, 1, 1)\n",
    "plt.xlabel(\"Time (s)\")\n",
    "plt.ylabel(\"Amplitude\")\n",
    "plt.plot(ts_plot, np.real(x_sine))\n",
    "plt.subplot(2, 1, 2)\n",
    "plt.xlabel(\"Frequency (Hz)\")\n",
    "plt.ylabel(\"Amplitude (dB)\")\n",
    "plt.semilogy(np.fft.fftshift(fs_plot), np.fft.fftshift(np.abs(x_sine_ft)))\n",
    "plt.show()"
   ]
  },
  {
   "cell_type": "code",
   "execution_count": null,
   "metadata": {},
   "outputs": [],
   "source": [
    "ipd.Audio(np.real(x_sine), rate=sr)"
   ]
  },
  {
   "cell_type": "markdown",
   "metadata": {},
   "source": [
    "### Adding noise"
   ]
  },
  {
   "cell_type": "code",
   "execution_count": null,
   "metadata": {},
   "outputs": [],
   "source": [
    "white_noise = rng.random(n_s)\n",
    "pink_noise = sig.lfilter(_PINK_FILTRE_COEFFS[\"b\"], _PINK_FILTRE_COEFFS[\"a\"], white_noise)\n",
    "\n",
    "fs_psd, white_noise_psd = sig.welch(white_noise, fs=sr, nfft=n_fft, return_onesided=False)\n",
    "_, pink_noise_psd = sig.welch(pink_noise, fs=sr, nfft=n_fft, return_onesided=False)\n",
    "\n",
    "plt.figure()\n",
    "plt.title(\"White and pink noises\")\n",
    "plt.xlabel(\"Frequency (Hz)\")\n",
    "plt.ylabel(\"Amplitude (dB)\")\n",
    "plt.semilogy(np.fft.fftshift(fs_psd), np.fft.fftshift(white_noise_psd), c='grey')\n",
    "plt.semilogy(np.fft.fftshift(fs_psd), np.fft.fftshift(pink_noise_psd), c='pink')\n",
    "plt.xlim(np.array([0, 0.5])*sr)\n",
    "plt.show()"
   ]
  },
  {
   "cell_type": "markdown",
   "metadata": {},
   "source": [
    "### Whitening the noise"
   ]
  },
  {
   "cell_type": "code",
   "execution_count": null,
   "metadata": {},
   "outputs": [],
   "source": [
    "noise_ratio = 0.005\n",
    "noise = noise_ratio*pink_noise\n",
    "\n",
    "x = x_sine + noise\n",
    "print(np.mean(np.real(x_sine)), np.mean(noise))\n",
    "x_snr =snr(np.real(x_sine), noise)\n",
    "print(f'SNR={x_snr} dB')"
   ]
  },
  {
   "cell_type": "code",
   "execution_count": null,
   "metadata": {},
   "outputs": [],
   "source": [
    "smoothing_factor = 8\n",
    "quantile_ratio = 0.05\n",
    "ar_order = 10\n",
    "\n",
    "# fs_x_psd, x_psd = sig.welch(x, fs=1, nfft=n_fft)\n",
    "fs_x_psd, x_psd = sig.welch(x, fs=sr, nfft=n_fft, return_onesided=False)\n",
    "fs_noise_psd, noise_psd = sig.welch(noise, fs=sr, nfft=n_fft, return_onesided=False)\n",
    "\n",
    "noise_psd_est = NoiseWhitening.estimate_noise_psd(x, fs=sr, n_fft=n_fft, quantile_ratio=quantile_ratio, smoothing_factor=smoothing_factor)\n",
    "noise_filtre_coeffs_est = NoiseWhitening.estimate_noise_ar_coeffs(x, fs=sr, n_fft=n_fft, ar_order=ar_order, quantile_ratio=quantile_ratio, smoothing_factor=smoothing_factor)\n",
    "# TODO: compare\n",
    "# print(_PINK_FILTRE_COEFFS)\n",
    "# print(noise_filtre_coeffs_est)\n",
    "x_white = NoiseWhitening.whiten(x, fs=sr, n_fft=n_fft, ar_order=ar_order, quantile_ratio=quantile_ratio, smoothing_factor=smoothing_factor)\n",
    "_, x_white_psd = sig.welch(x_white, fs=sr, nfft=n_fft, return_onesided=False)\n",
    "_, x_sine_psd = sig.welch(x_sine, fs=sr, nfft=n_fft, return_onesided=False)\n",
    "\n",
    "plt.figure()\n",
    "plt.title(\"PSD estimation of the noise and whitened signal\")\n",
    "plt.subplot(2, 1, 1)\n",
    "plt.xlabel(\"Frequency (Hz)\")\n",
    "plt.ylabel(\"Amplitude (dB)\")\n",
    "plt.semilogy(np.fft.fftshift(fs_noise_psd), np.fft.fftshift(noise_psd), c='pink', label=\"True noise PSD\")\n",
    "plt.semilogy(np.fft.fftshift(fs_x_psd), np.fft.fftshift(noise_psd_est), c='orange', label=\"Estimated noise PSD\")\n",
    "plt.legend()\n",
    "# plt.xlim(np.array([0, 0.5]) * sr)\n",
    "plt.subplot(2, 1, 2)\n",
    "plt.xlabel(\"Frequency (Hz)\")\n",
    "plt.ylabel(\"Amplitude (dB)\")\n",
    "# plt.xlim(np.array([0, 0.5])*sr)\n",
    "plt.semilogy(np.fft.fftshift(fs_x_psd), np.fft.fftshift(x_psd), c='green', label=\"Pure sinusoidal signal PSD\")\n",
    "plt.semilogy(np.fft.fftshift(fs_x_psd), np.fft.fftshift(x_white_psd), c='r', label=\"Estimated whitened signal PSD\")\n",
    "plt.legend()\n",
    "plt.show()"
   ]
  },
  {
   "cell_type": "code",
   "execution_count": null,
   "metadata": {},
   "outputs": [],
   "source": [
    "ipd.Audio(np.real(x), rate=sr)\n"
   ]
  },
  {
   "cell_type": "markdown",
   "metadata": {},
   "source": [
    "### ESM model ordre estimation\n",
    "\n",
    "#### Does seem to work correctly with the whitened signal!\n",
    "\n",
    "The whitening process seems to hurt the estimation\n",
    "of the ESM model ordre with ESTER.\n",
    "We should use ESTER with the signal whose noise\n",
    "has not been whitened.\n",
    "\n",
    "#### Choice of $p_{max}$\n",
    "\n",
    "According to the article, $p_{max}$ should be \n",
    "much lower than $n$.\n",
    "So according to our expectation on $r$, we should choose\n",
    "$n$ large enough.\n",
    "\n",
    "Still unclear, but if $p_{max} > r$\n",
    "the _a posteriori error bound_ from $E$ \n",
    "gives some indication somehow?\n",
    "\n",
    "In the article:\n",
    "\n",
    "For each eigenvalue ̂$\\hat{z}$ of $\\Phi(p)$, \n",
    "there is an eigenvalue $z_k$ of $\\Phi(r)$ for which:\n",
    "\n",
    "$$\n",
    "|\\hat{z} − z_k| \\leq \\kappa_2 ||E(p)||_2\n",
    "$$ \n"
   ]
  },
  {
   "cell_type": "code",
   "execution_count": null,
   "metadata": {},
   "outputs": [],
   "source": [
    "n_est = 64\n",
    "p_max = 16 # for now\n",
    "ps = np.arange(1,p_max+1)\n",
    "j_sine = Ester.inverse_error_func(x_sine, n=n_est, p_max=p_max)\n",
    "j_noise = Ester.inverse_error_func(x, n=n_est, p_max=p_max)\n",
    "j_white = Ester.inverse_error_func(x_white, n=n_est, p_max=p_max)\n",
    "\n",
    "plt.figure()\n",
    "plt.title('Estimated ESM order probabilities, noiseless and noisy signals')\n",
    "plt.xlabel('$p$')\n",
    "plt.ylabel('Probability')\n",
    "plt.plot(ps, j_sine/np.max(j_sine), c='cyan')\n",
    "plt.plot(ps, j_noise/np.max(j_noise), c='orange')\n",
    "plt.plot(ps, j_white/np.max(j_white), c='b')\n",
    "plt.axvline(r, ymin=0, ymax=1, c='g')\n",
    "plt.show()\n",
    "\n",
    "r_est_sine = Ester.estimate_esm_order(x_sine, n_est, p_max)\n",
    "r_est_noise = Ester.estimate_esm_order(x, n_est, p_max)\n",
    "r_est_white = Ester.estimate_esm_order(x_white, n_est, p_max)\n",
    "print('Ordre of the ESM model')\n",
    "print(f'Truth={r}')\n",
    "print(f'Estimated: Noiseless={r_est_sine}, Noisy={r_est_noise}, Whitened={r_est_white}')"
   ]
  },
  {
   "cell_type": "markdown",
   "metadata": {},
   "source": [
    "### Test of the model with whitened signal\n",
    "\n",
    "\n",
    "We use the ESM model ordre estimated on the \n",
    "whitened signal, and apply ESPRIT on\n",
    "the whitened signal."
   ]
  },
  {
   "cell_type": "code",
   "execution_count": null,
   "metadata": {},
   "outputs": [],
   "source": [
    "x_esm_est = Esprit.estimate_esm(x_white, n_est, r_est_white)\n",
    "\n",
    "\n",
    "print(x_esm.nus * sr)\n",
    "print(x_esm_est.nus * sr)\n",
    "\n",
    "plt.figure()\n",
    "plt.title(\"Estimated sinusoids in whitened signal with estimated model order\")\n",
    "# plt.xlim(np.array([-0.1, 0.5])*sr)\n",
    "plt.semilogy(np.fft.fftshift(fs_x_psd), np.fft.fftshift(x_sine_psd), c='grey', label=\"Pure sinusoids\")\n",
    "plt.semilogy(np.fft.fftshift(fs_x_psd), np.fft.fftshift(x_white_psd), c='orange', label=\"Whitened noisy signal\")\n",
    "for j in range(len(x_esm.nus)):\n",
    "    plt.axvline(x_esm.nus[j] * sr, 0, x_esm.amps[j], c='g')\n",
    "    pass\n",
    "for j in range(len(x_esm_est.nus)):\n",
    "    plt.axvline(x_esm_est.nus[j] * sr, 0, x_esm_est.amps[j], c='r')\n",
    "plt.legend()\n",
    "plt.show()\n"
   ]
  },
  {
   "cell_type": "code",
   "execution_count": null,
   "metadata": {},
   "outputs": [],
   "source": [
    "x_sine_est = x_esm_est.synth(n_s)\n",
    "ipd.Audio(np.real(x_sine_est)/np.max(np.abs(x_sine_est)), rate=sr)"
   ]
  },
  {
   "cell_type": "markdown",
   "metadata": {},
   "source": [
    "### Filter bank\n",
    "\n",
    "\n",
    "#### Problem\n",
    "\n",
    "__What transformation to apply to the estimated frequency in the band $\\nu_{i}^b$ to apply to find the estimated frequency $\\nu_i^b$?__\n",
    "\n",
    "$$\n",
    "\\nu_i^b = \\frac{\\nu_{i,\\text{band}}^b}{d} + \\nu_c^b\n",
    "$$\n",
    "\n",
    "With $\\nu_c^b = \\frac{b}{N_{bands}}$ the centre frequency for band $b$, $N_{bands}$ the number of bands, and $d$ the decimation factor."
   ]
  },
  {
   "cell_type": "code",
   "execution_count": 106,
   "metadata": {},
   "outputs": [
    {
     "name": "stdout",
     "output_type": "stream",
     "text": [
      "[0.06435946]\n",
      "[0.39584409 0.42630971 0.44248707 0.46539646 0.48851355]\n",
      "[0.72885697]\n",
      "[0.10445825 0.11202202 0.13343564]\n"
     ]
    },
    {
     "data": {
      "text/plain": [
       "<Figure size 432x288 with 0 Axes>"
      ]
     },
     "metadata": {},
     "output_type": "display_data"
    },
    {
     "data": {
      "image/png": "[encoded data removed]",
      "text/plain": [
       "<Figure size 432x288 with 1 Axes>"
      ]
     },
     "metadata": {
      "needs_background": "light"
     },
     "output_type": "display_data"
    }
   ],
   "source": [
    "# number of bands\n",
    "nb_bands = 4\n",
    "decimation_factor = 1\n",
    "order_filter = 257\n",
    "w_trans_hz = 10\n",
    "bank = FilterBank(nb_bands, decimation_factor, order_filter=order_filter, w_trans=w_trans_hz/sr)\n",
    "x_bands = bank.process(x_white)\n",
    "\n",
    "clip_damp = True\n",
    "discard_freq = True\n",
    "\n",
    "rs_est = []\n",
    "gammas_est = []\n",
    "nus_est = []\n",
    "amps_est = []\n",
    "phis_est = []\n",
    "\n",
    "n_est_fb = 64\n",
    "p_max_fb = 8\n",
    "for b in range(bank.nb_bands):\n",
    "    x_band = x_bands[b]\n",
    "    r_band = Ester.estimate_esm_order(x_band, n=n_est_fb, p_max=p_max_fb)\n",
    "    rs_est.append(r_band)\n",
    "    w_cap, _ = Esprit.subspace_weighting_mats(x_band, n_est, rs_est[b])\n",
    "    phi_cap = Esprit.spectral_matrix(w_cap)\n",
    "    zs, _ = Esprit.estimate_poles(phi_cap, clip_damp=clip_damp, discard_freq=discard_freq)\n",
    "    \n",
    "    alphas = Esprit.estimate_esm_alphas(x_band, zs)\n",
    "    gammas_est_band, nus_est_band = EsmModel.poles_to_dampfreq(zs)\n",
    "    amps_est_band, phis_est_band = EsmModel.alphas_to_ampphase(alphas)\n",
    "    # TODO: Not right, fix this\n",
    "    nus_est_band = nus_est_band/bank.decimation_factor + bank.nus_centre[b]\n",
    "    print(nus_est_band)\n",
    "    nus_est += nus_est_band.tolist()\n",
    "    gammas_est += gammas_est_band.tolist()\n",
    "    amps_est += amps_est_band.tolist()\n",
    "    phis_est += phis_est_band.tolist()\n",
    "\n",
    "# print(nus_est)\n",
    "# print(nus)\n",
    "nus_est = np.array(nus_est)\n",
    "# print(np.amin(nus_est), np.amax(nus_est))\n",
    "# x_esm_est = EsmModel(gammas_est, nus_est, amps_est, phis_est)\n",
    "#print(x_esm_est.nus * sr)\n",
    "#print(x_esm_est.nus * sr)\n",
    "# plt.close(\"all\")\n",
    "plt.clf()\n",
    "plt.figure()\n",
    "plt.title(\"Estimated sinusoids in whitened signal with estimated model ordre\")\n",
    "# plt.xlim(np.array([-0.1, 0.5])*sr)\n",
    "# plt.semilogy(np.fft.fftshift(fs_x_psd), np.fft.fftshift(x_sine_psd), c='grey')\n",
    "# plt.semilogy(np.fft.fftshift(fs_x_psd), np.fft.fftshift(x_white_psd), c='orange')\n",
    "for j in range(len(x_esm.nus)):\n",
    "    pass\n",
    "    # plt.axvline(x_esm.nus[j] * sr, 0, x_esm.amps[j], c='g')\n",
    "for j in range(len(x_esm_est.nus)):\n",
    "    pass\n",
    "    # plt.axvline(x_esm_est.nus[j] * sr, 0, x_esm_est.amps[j], c='r')\n",
    "\n",
    "for b in range(bank.nb_bands):\n",
    "    freqs, amps = sig.freqz(bank.filter_coeffs[b], [1])\n",
    "    plt.plot(freqs * sr, to_db(np.abs(amps)))\n",
    "    plt.axvline(bank.nus_centre[b] * sr, 0, 1, c='pink')\n",
    "plt.show()"
   ]
  },
  {
   "cell_type": "code",
   "execution_count": null,
   "metadata": {},
   "outputs": [],
   "source": [
    "x_sine_est = x_esm_est.synth(n_s)\n",
    "ipd.Audio(np.real(x_sine_est)/np.max(np.abs(x_sine_est)), rate=sr)"
   ]
  },
  {
   "cell_type": "markdown",
   "metadata": {},
   "source": [
    "### Adaptive ESPRIT\n",
    "\n",
    "#### Using a custom adaptive ESM"
   ]
  },
  {
   "cell_type": "code",
   "execution_count": null,
   "metadata": {},
   "outputs": [],
   "source": [
    "sr = 4410\n",
    "n_s = 8000\n",
    "n_fft = 1024\n",
    "\n",
    "log_progress = False\n",
    "\n",
    "nb_blocks = 10\n",
    "l_block = n_s // nb_blocks\n",
    "# number of sinusoids\n",
    "r = 8\n",
    "# Normalised damping ratios, multiply by sampling rate to get the 'deltas' in Amp.s-1\n",
    "gammas_list = np.repeat(rng.normal(0.002, 0.0001, (nb_blocks, r)), l_block, axis=0)\n",
    "# Normalised frequencies\n",
    "nus_list = np.repeat(rng.normal(0.1, 0.05, (nb_blocks, r)), l_block, axis=0)\n",
    "amps_list = np.repeat(rng.uniform(0.1, 1, (nb_blocks, r)), l_block, axis=0)\n",
    "phis_list = np.repeat(rng.uniform(0, 2 * np.pi, (nb_blocks, r)), l_block, axis=0)\n",
    "\n",
    "x_esm = BlockEsmModel.from_param_lists(\n",
    "    gammas_list, nus_list, amps_list, phis_list\n",
    ")\n",
    "\n",
    "# one sample per value\n",
    "x_sine = x_esm.synth(1)\n",
    "\n",
    "n_est = 32\n",
    "l = 120\n",
    "x_esm_est = BlockEsprit.estimate_esm(\n",
    "    x_sine, n_est, r, l, step=50\n",
    ")\n",
    "\n",
    "print(x_esm.nus[0] * sr)\n",
    "print(x_esm_est.nus[0] * sr)\n",
    "# print(x_esm.gammas * sr)\n",
    "# print(x_esm_est.gammas * sr)\n",
    "\n",
    "# x_sine_est = x_esm_est.synth(n_s_block)\n"
   ]
  }
 ],
 "metadata": {
  "interpreter": {
   "hash": "0461300f92e1eaf1d8a30c9683b3b8af868ee97220c7c382c772e83c32d3f390"
  },
  "kernelspec": {
   "display_name": "Python 3.9.9 ('env_pam_hr')",
   "language": "python",
   "name": "python3"
  },
  "language_info": {
   "codemirror_mode": {
    "name": "ipython",
    "version": 3
   },
   "file_extension": ".py",
   "mimetype": "text/x-python",
   "name": "python",
   "nbconvert_exporter": "python",
   "pygments_lexer": "ipython3",
   "version": "3.9.9"
  }
 },
 "nbformat": 4,
 "nbformat_minor": 2
}
