{
 "cells": [
  {
   "cell_type": "code",
   "execution_count": null,
   "metadata": {},
   "outputs": [],
   "source": []
  },
  {
   "cell_type": "code",
   "execution_count": 1,
   "metadata": {},
   "outputs": [],
   "source": [
    "import numpy as np\n",
    "from IPython.display import display\n",
    "import sympy as sy\n",
    "from sympy.physics.quantum.dagger import Dagger\n",
    "from sympy.solvers import solve\n",
    "\n",
    "sy.init_printing()  # LaTeX like pretty printing for IPython"
   ]
  },
  {
   "cell_type": "code",
   "execution_count": 2,
   "metadata": {},
   "outputs": [],
   "source": [
    "def croissant(a_bar_tilde, b_bar_tilde, d_mat):\n",
    "    \"\"\"Eat croissant\n",
    "\n",
    "    Parameters\n",
    "    ----------\n",
    "    `a_bar_tilde`: chocolat\n",
    "    `b_bar_tilde`: beurre\n",
    "    `d_mat`: olive\n",
    "\n",
    "    Return:\n",
    "    `vomit`\n",
    "    `phy_sy`: matrix phi(z,t)\n",
    "    `det_phy`: determinant function of det(phi(z,t))\n",
    "    `sol`: numpy array of solution's to det(phi(z,t))=0\n",
    "\n",
    "    \"\"\"\n",
    "    r = d_mat.shape[0]\n",
    "\n",
    "    a_sy = sy.Matrix(a_bar_tilde)\n",
    "    b_sy = sy.Matrix(b_bar_tilde)\n",
    "    d_sy = sy.Matrix(d_mat)\n",
    "\n",
    "    z = sy.symbols(\"z\")\n",
    "\n",
    "    phi_sy = sy.simplify(sy.eye(3) - Dagger(b_bar_tilde) * (z*sy.eye(r) - d_sy).inv() * a_sy)\n",
    "\n",
    "    det_phi = phi_sy.det()\n",
    "\n",
    "    sol = solve(det_phi, z)\n",
    "    sol = np.array([complex(item) for item in sol])\n",
    "\n",
    "    return phi_sy, det_phi, sol"
   ]
  },
  {
   "cell_type": "markdown",
   "metadata": {},
   "source": [
    "> Test"
   ]
  },
  {
   "cell_type": "code",
   "execution_count": 3,
   "metadata": {},
   "outputs": [],
   "source": [
    "a_bar_tilde = np.array([[1j, 2+1j, 3], [4+2*1j, 5, 6]])\n",
    "b_bar_tilde = np.array([[1, 2, 3], [4, 5+1j, 6]])\n",
    "d_mat = np.array([[1j, 0], [0, 1j]])"
   ]
  },
  {
   "cell_type": "code",
   "execution_count": 4,
   "metadata": {},
   "outputs": [],
   "source": [
    "phi_sy, det_phi, sol = croissant(a_bar_tilde, b_bar_tilde, d_mat)"
   ]
  },
  {
   "cell_type": "code",
   "execution_count": 5,
   "metadata": {},
   "outputs": [
    {
     "data": {
      "image/png": "[encoded data removed]",
      "text/latex": [
       "$\\displaystyle \\left[\\begin{matrix}\\frac{z - 16.0 - 10.0 i}{z - 1.0 i} & - \\frac{22.0 + 1.0 i}{z - i} & - \\frac{27.0}{z - i}\\\\- \\frac{22.0 + 8.0 i}{z - i} & \\frac{z - 29.0 + 2.0 i}{z - 1.0 i} & \\frac{1.0 \\left(-36.0 + 6.0 i\\right)}{z - i}\\\\- \\frac{24.0 + 15.0 i}{z - i} & - \\frac{36.0 + 3.0 i}{z - i} & \\frac{z - 45.0 - 1.0 i}{z - 1.0 i}\\end{matrix}\\right]$"
      ],
      "text/plain": [
       "⎡z - 16.0 - 10.0⋅ⅈ  -(22.0 + 1.0⋅ⅈ)         -27.0        ⎤\n",
       "⎢─────────────────  ────────────────        ──────       ⎥\n",
       "⎢      z - ⅈ             z - ⅈ              z - ⅈ        ⎥\n",
       "⎢                                                        ⎥\n",
       "⎢-(22.0 + 8.0⋅ⅈ)    z - 29.0 + 2.0⋅ⅈ  1.0⋅(-36.0 + 6.0⋅ⅈ)⎥\n",
       "⎢────────────────   ────────────────  ───────────────────⎥\n",
       "⎢     z - ⅈ              z - ⅈ               z - ⅈ       ⎥\n",
       "⎢                                                        ⎥\n",
       "⎢-(24.0 + 15.0⋅ⅈ)   -(36.0 + 3.0⋅ⅈ)      z - 45.0 - ⅈ    ⎥\n",
       "⎢─────────────────  ────────────────     ────────────    ⎥\n",
       "⎣      z - ⅈ             z - ⅈ              z - ⅈ        ⎦"
      ]
     },
     "execution_count": 5,
     "metadata": {},
     "output_type": "execute_result"
    }
   ],
   "source": [
    "phi_sy"
   ]
  },
  {
   "cell_type": "code",
   "execution_count": 6,
   "metadata": {},
   "outputs": [
    {
     "data": {
      "image/png": "[encoded data removed]",
      "text/latex": [
       "$\\displaystyle \\frac{1.0 z^{6} + z^{5} \\left(-90.0 - 12.0 i\\right) + z^{4} \\left(33.0 + 438.0 i\\right) + z^{3} \\left(852.0 - 232.0 i\\right) + z^{2} \\left(-393.0 - 828.0 i\\right) + z \\left(-402.0 + 276.0 i\\right) + 71.0 + 78.0 i}{1.0 z^{6} - 6.0 i z^{5} - 15.0 z^{4} + 20.0 i z^{3} + 15.0 z^{2} - 6.0 i z - 1.0}$"
      ],
      "text/plain": [
       "     6    5                     4                     3                      2\n",
       "1.0⋅z  + z ⋅(-90.0 - 12.0⋅ⅈ) + z ⋅(33.0 + 438.0⋅ⅈ) + z ⋅(852.0 - 232.0⋅ⅈ) + z \n",
       "──────────────────────────────────────────────────────────────────────────────\n",
       "                                        6          5         4           3    \n",
       "                                   1.0⋅z  - 6.0⋅ⅈ⋅z  - 15.0⋅z  + 20.0⋅ⅈ⋅z  + 1\n",
       "\n",
       "                                                          \n",
       "⋅(-393.0 - 828.0⋅ⅈ) + z⋅(-402.0 + 276.0⋅ⅈ) + 71.0 + 78.0⋅ⅈ\n",
       "──────────────────────────────────────────────────────────\n",
       "     2                                                    \n",
       "5.0⋅z  - 6.0⋅ⅈ⋅z - 1.0                                    "
      ]
     },
     "execution_count": 6,
     "metadata": {},
     "output_type": "execute_result"
    }
   ],
   "source": [
    "det_phi"
   ]
  },
  {
   "cell_type": "code",
   "execution_count": 7,
   "metadata": {},
   "outputs": [
    {
     "data": {
      "text/plain": [
       "array([ 0.86152722+0.80550796j, 89.13847278+7.19449204j])"
      ]
     },
     "execution_count": 7,
     "metadata": {},
     "output_type": "execute_result"
    }
   ],
   "source": [
    "sol"
   ]
  }
 ],
 "metadata": {
  "interpreter": {
   "hash": "bc0d4ba66146cfd50c278d6a503976b157237a9eadbe86e84fa51c5034c0420d"
  },
  "kernelspec": {
   "display_name": "Python 3.9.9 ('env_pam_hr')",
   "language": "python",
   "name": "python3"
  },
  "language_info": {
   "codemirror_mode": {
    "name": "ipython",
    "version": 3
   },
   "file_extension": ".py",
   "mimetype": "text/x-python",
   "name": "python",
   "nbconvert_exporter": "python",
   "pygments_lexer": "ipython3",
   "version": "3.9.9"
  },
  "orig_nbformat": 4
 },
 "nbformat": 4,
 "nbformat_minor": 2
}
